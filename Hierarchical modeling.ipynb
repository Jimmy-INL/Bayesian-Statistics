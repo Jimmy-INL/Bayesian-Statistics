{
 "cells": [
  {
   "cell_type": "markdown",
   "metadata": {},
   "source": [
    "# Data"
   ]
  },
  {
   "cell_type": "code",
   "execution_count": 7,
   "metadata": {},
   "outputs": [
    {
     "data": {
      "text/html": [
       "<table>\n",
       "<thead><tr><th scope=col>chips</th><th scope=col>location</th></tr></thead>\n",
       "<tbody>\n",
       "\t<tr><td>12</td><td>1 </td></tr>\n",
       "\t<tr><td>12</td><td>1 </td></tr>\n",
       "\t<tr><td> 6</td><td>1 </td></tr>\n",
       "\t<tr><td>13</td><td>1 </td></tr>\n",
       "\t<tr><td>12</td><td>1 </td></tr>\n",
       "\t<tr><td>12</td><td>1 </td></tr>\n",
       "</tbody>\n",
       "</table>\n"
      ],
      "text/latex": [
       "\\begin{tabular}{r|ll}\n",
       " chips & location\\\\\n",
       "\\hline\n",
       "\t 12 & 1 \\\\\n",
       "\t 12 & 1 \\\\\n",
       "\t  6 & 1 \\\\\n",
       "\t 13 & 1 \\\\\n",
       "\t 12 & 1 \\\\\n",
       "\t 12 & 1 \\\\\n",
       "\\end{tabular}\n"
      ],
      "text/markdown": [
       "\n",
       "| chips | location |\n",
       "|---|---|\n",
       "| 12 | 1  |\n",
       "| 12 | 1  |\n",
       "|  6 | 1  |\n",
       "| 13 | 1  |\n",
       "| 12 | 1  |\n",
       "| 12 | 1  |\n",
       "\n"
      ],
      "text/plain": [
       "  chips location\n",
       "1 12    1       \n",
       "2 12    1       \n",
       "3  6    1       \n",
       "4 13    1       \n",
       "5 12    1       \n",
       "6 12    1       "
      ]
     },
     "metadata": {},
     "output_type": "display_data"
    }
   ],
   "source": [
    "dat = read.table(\"cookies.txt\", header = TRUE)\n",
    "head(dat)"
   ]
  },
  {
   "cell_type": "code",
   "execution_count": 9,
   "metadata": {},
   "outputs": [
    {
     "data": {
      "text/html": [
       "<ol class=list-inline>\n",
       "\t<li>1</li>\n",
       "\t<li>2</li>\n",
       "\t<li>3</li>\n",
       "\t<li>4</li>\n",
       "\t<li>5</li>\n",
       "</ol>\n"
      ],
      "text/latex": [
       "\\begin{enumerate*}\n",
       "\\item 1\n",
       "\\item 2\n",
       "\\item 3\n",
       "\\item 4\n",
       "\\item 5\n",
       "\\end{enumerate*}\n"
      ],
      "text/markdown": [
       "1. 1\n",
       "2. 2\n",
       "3. 3\n",
       "4. 4\n",
       "5. 5\n",
       "\n",
       "\n"
      ],
      "text/plain": [
       "[1] 1 2 3 4 5"
      ]
     },
     "metadata": {},
     "output_type": "display_data"
    }
   ],
   "source": [
    "unique(dat$location)"
   ]
  },
  {
   "cell_type": "code",
   "execution_count": 19,
   "metadata": {},
   "outputs": [
    {
     "data": {
      "image/png": "[encoded data removed]",
      "text/plain": [
       "Plot with title \"Histogram of dat$chips\""
      ]
     },
     "metadata": {},
     "output_type": "display_data"
    }
   ],
   "source": [
    "options(repr.plot.width=6, repr.plot.height=6)\n",
    "\n",
    "hist(dat$chips)"
   ]
  },
  {
   "cell_type": "code",
   "execution_count": 20,
   "metadata": {},
   "outputs": [
    {
     "data": {
      "image/png": "[encoded data removed]",
      "text/plain": [
       "plot without title"
      ]
     },
     "metadata": {},
     "output_type": "display_data"
    }
   ],
   "source": [
    "boxplot(chips ~ location, data = dat)"
   ]
  },
  {
   "cell_type": "markdown",
   "metadata": {},
   "source": [
    "# Prior Predictive Check\n",
    "\n",
    "\n",
    "Before implementing the model, we need to select prior distributions for α and β, the hyperparameters governing the gamma distribution for the λ parameters. First, think about what the λ’s represent. For location j, λj is the expected number of chocolate chips per cookie. Hence, α and β control the distribution of these means between locations. The mean of this gamma distribution will represent the overall mean of number of chips for all cookies. The variance of this gamma distribution controls the variability between locations. If this is high, the mean number of chips will vary widely from location to location. If it is small, the mean number of chips will be nearly the same from location to location.\n",
    "\n",
    "To see the effects of different priors on the distribution of λ’s, we can simulate. Suppose we try independent exponential priors for α and β."
   ]
  },
  {
   "cell_type": "markdown",
   "metadata": {},
   "source": [
    "<img src=\"hierarchy.PNG\"/>"
   ]
  },
  {
   "cell_type": "code",
   "execution_count": 76,
   "metadata": {},
   "outputs": [],
   "source": [
    "set.seed(112)"
   ]
  },
  {
   "cell_type": "code",
   "execution_count": 77,
   "metadata": {},
   "outputs": [],
   "source": [
    "n_sim = 1e3\n",
    "\n",
    "alpha_prior = rexp(n_sim, rate = 1.0/2.0)\n",
    "beta_prior = rexp(n_sim, rate = 5.0)\n",
    "\n",
    "mu_prior = (alpha_prior ^ 2) / (beta_prior ^ 2)\n",
    "sig_prior = sqrt( alpha_prior/ (beta_prior ^ 2) )"
   ]
  },
  {
   "cell_type": "code",
   "execution_count": 78,
   "metadata": {},
   "outputs": [
    {
     "data": {
      "text/plain": [
       "    Min.  1st Qu.   Median     Mean  3rd Qu.     Max. \n",
       "       0       11       93    47997      713 37405797 "
      ]
     },
     "metadata": {},
     "output_type": "display_data"
    }
   ],
   "source": [
    "summary(mu_prior)"
   ]
  },
  {
   "cell_type": "code",
   "execution_count": 79,
   "metadata": {},
   "outputs": [
    {
     "data": {
      "text/plain": [
       "    Min.  1st Qu.   Median     Mean  3rd Qu.     Max. \n",
       "   0.169    3.702    8.194   29.394   19.331 4660.062 "
      ]
     },
     "metadata": {},
     "output_type": "display_data"
    }
   ],
   "source": [
    "summary(sig_prior)"
   ]
  },
  {
   "cell_type": "code",
   "execution_count": 80,
   "metadata": {},
   "outputs": [
    {
     "data": {
      "text/plain": [
       "    Min.  1st Qu.   Median     Mean  3rd Qu.     Max. \n",
       "   0.000    1.073    6.838   40.477   25.373 5211.686 "
      ]
     },
     "metadata": {},
     "output_type": "display_data"
    }
   ],
   "source": [
    "# After simulating from the priors for α and β, we can use those samples to simulate further down the hierarchy.\n",
    "\n",
    "lambda_prior = rgamma(n = n_sim, \n",
    "                      shape = alpha_prior, \n",
    "                      rate = beta_prior)\n",
    "\n",
    "summary(lambda_prior)"
   ]
  },
  {
   "cell_type": "code",
   "execution_count": 81,
   "metadata": {},
   "outputs": [
    {
     "data": {
      "text/plain": [
       "   Min. 1st Qu.  Median    Mean 3rd Qu.    Max. \n",
       "  1.767   4.737  11.836  16.499  17.928  46.226 "
      ]
     },
     "metadata": {},
     "output_type": "display_data"
    }
   ],
   "source": [
    "# Or for a prior predictive reconstruction of the original data set:\n",
    "\n",
    "lambda_prior = rgamma(n = 5, \n",
    "                      shape = alpha_prior, \n",
    "                      rate = beta_prior)\n",
    "\n",
    "summary(lambda_prior)"
   ]
  },
  {
   "cell_type": "code",
   "execution_count": 82,
   "metadata": {},
   "outputs": [
    {
     "data": {
      "text/html": [
       "<ol class=list-inline>\n",
       "\t<li>7</li>\n",
       "\t<li>4</li>\n",
       "\t<li>4</li>\n",
       "\t<li>3</li>\n",
       "\t<li>9</li>\n",
       "\t<li>7</li>\n",
       "\t<li>1</li>\n",
       "\t<li>2</li>\n",
       "\t<li>4</li>\n",
       "\t<li>3</li>\n",
       "\t<li>5</li>\n",
       "\t<li>4</li>\n",
       "\t<li>3</li>\n",
       "\t<li>5</li>\n",
       "\t<li>5</li>\n",
       "\t<li>3</li>\n",
       "\t<li>7</li>\n",
       "\t<li>6</li>\n",
       "\t<li>4</li>\n",
       "\t<li>5</li>\n",
       "\t<li>2</li>\n",
       "\t<li>3</li>\n",
       "\t<li>6</li>\n",
       "\t<li>7</li>\n",
       "\t<li>8</li>\n",
       "\t<li>6</li>\n",
       "\t<li>8</li>\n",
       "\t<li>3</li>\n",
       "\t<li>3</li>\n",
       "\t<li>3</li>\n",
       "\t<li>20</li>\n",
       "\t<li>14</li>\n",
       "\t<li>16</li>\n",
       "\t<li>15</li>\n",
       "\t<li>18</li>\n",
       "\t<li>26</li>\n",
       "\t<li>14</li>\n",
       "\t<li>20</li>\n",
       "\t<li>16</li>\n",
       "\t<li>18</li>\n",
       "\t<li>17</li>\n",
       "\t<li>19</li>\n",
       "\t<li>28</li>\n",
       "\t<li>18</li>\n",
       "\t<li>11</li>\n",
       "\t<li>20</li>\n",
       "\t<li>10</li>\n",
       "\t<li>17</li>\n",
       "\t<li>22</li>\n",
       "\t<li>17</li>\n",
       "\t<li>14</li>\n",
       "\t<li>22</li>\n",
       "\t<li>17</li>\n",
       "\t<li>25</li>\n",
       "\t<li>23</li>\n",
       "\t<li>21</li>\n",
       "\t<li>18</li>\n",
       "\t<li>13</li>\n",
       "\t<li>11</li>\n",
       "\t<li>20</li>\n",
       "\t<li>12</li>\n",
       "\t<li>13</li>\n",
       "\t<li>13</li>\n",
       "\t<li>15</li>\n",
       "\t<li>11</li>\n",
       "\t<li>14</li>\n",
       "\t<li>9</li>\n",
       "\t<li>9</li>\n",
       "\t<li>11</li>\n",
       "\t<li>9</li>\n",
       "\t<li>11</li>\n",
       "\t<li>15</li>\n",
       "\t<li>7</li>\n",
       "\t<li>9</li>\n",
       "\t<li>8</li>\n",
       "\t<li>9</li>\n",
       "\t<li>12</li>\n",
       "\t<li>16</li>\n",
       "\t<li>12</li>\n",
       "\t<li>22</li>\n",
       "\t<li>10</li>\n",
       "\t<li>11</li>\n",
       "\t<li>14</li>\n",
       "\t<li>17</li>\n",
       "\t<li>10</li>\n",
       "\t<li>6</li>\n",
       "\t<li>9</li>\n",
       "\t<li>17</li>\n",
       "\t<li>11</li>\n",
       "\t<li>10</li>\n",
       "\t<li>3</li>\n",
       "\t<li>2</li>\n",
       "\t<li>1</li>\n",
       "\t<li>4</li>\n",
       "\t<li>0</li>\n",
       "\t<li>2</li>\n",
       "\t<li>2</li>\n",
       "\t<li>0</li>\n",
       "\t<li>1</li>\n",
       "\t<li>0</li>\n",
       "\t<li>2</li>\n",
       "\t<li>1</li>\n",
       "\t<li>1</li>\n",
       "\t<li>0</li>\n",
       "\t<li>1</li>\n",
       "\t<li>0</li>\n",
       "\t<li>0</li>\n",
       "\t<li>4</li>\n",
       "\t<li>0</li>\n",
       "\t<li>1</li>\n",
       "\t<li>2</li>\n",
       "\t<li>1</li>\n",
       "\t<li>4</li>\n",
       "\t<li>2</li>\n",
       "\t<li>1</li>\n",
       "\t<li>0</li>\n",
       "\t<li>2</li>\n",
       "\t<li>0</li>\n",
       "\t<li>5</li>\n",
       "\t<li>3</li>\n",
       "\t<li>43</li>\n",
       "\t<li>42</li>\n",
       "\t<li>47</li>\n",
       "\t<li>39</li>\n",
       "\t<li>52</li>\n",
       "\t<li>50</li>\n",
       "\t<li>53</li>\n",
       "\t<li>50</li>\n",
       "\t<li>49</li>\n",
       "\t<li>54</li>\n",
       "\t<li>44</li>\n",
       "\t<li>42</li>\n",
       "\t<li>40</li>\n",
       "\t<li>53</li>\n",
       "\t<li>51</li>\n",
       "\t<li>31</li>\n",
       "\t<li>47</li>\n",
       "\t<li>44</li>\n",
       "\t<li>61</li>\n",
       "\t<li>53</li>\n",
       "\t<li>56</li>\n",
       "\t<li>40</li>\n",
       "\t<li>41</li>\n",
       "\t<li>49</li>\n",
       "\t<li>48</li>\n",
       "\t<li>54</li>\n",
       "\t<li>49</li>\n",
       "\t<li>52</li>\n",
       "\t<li>48</li>\n",
       "\t<li>43</li>\n",
       "</ol>\n"
      ],
      "text/latex": [
       "\\begin{enumerate*}\n",
       "\\item 7\n",
       "\\item 4\n",
       "\\item 4\n",
       "\\item 3\n",
       "\\item 9\n",
       "\\item 7\n",
       "\\item 1\n",
       "\\item 2\n",
       "\\item 4\n",
       "\\item 3\n",
       "\\item 5\n",
       "\\item 4\n",
       "\\item 3\n",
       "\\item 5\n",
       "\\item 5\n",
       "\\item 3\n",
       "\\item 7\n",
       "\\item 6\n",
       "\\item 4\n",
       "\\item 5\n",
       "\\item 2\n",
       "\\item 3\n",
       "\\item 6\n",
       "\\item 7\n",
       "\\item 8\n",
       "\\item 6\n",
       "\\item 8\n",
       "\\item 3\n",
       "\\item 3\n",
       "\\item 3\n",
       "\\item 20\n",
       "\\item 14\n",
       "\\item 16\n",
       "\\item 15\n",
       "\\item 18\n",
       "\\item 26\n",
       "\\item 14\n",
       "\\item 20\n",
       "\\item 16\n",
       "\\item 18\n",
       "\\item 17\n",
       "\\item 19\n",
       "\\item 28\n",
       "\\item 18\n",
       "\\item 11\n",
       "\\item 20\n",
       "\\item 10\n",
       "\\item 17\n",
       "\\item 22\n",
       "\\item 17\n",
       "\\item 14\n",
       "\\item 22\n",
       "\\item 17\n",
       "\\item 25\n",
       "\\item 23\n",
       "\\item 21\n",
       "\\item 18\n",
       "\\item 13\n",
       "\\item 11\n",
       "\\item 20\n",
       "\\item 12\n",
       "\\item 13\n",
       "\\item 13\n",
       "\\item 15\n",
       "\\item 11\n",
       "\\item 14\n",
       "\\item 9\n",
       "\\item 9\n",
       "\\item 11\n",
       "\\item 9\n",
       "\\item 11\n",
       "\\item 15\n",
       "\\item 7\n",
       "\\item 9\n",
       "\\item 8\n",
       "\\item 9\n",
       "\\item 12\n",
       "\\item 16\n",
       "\\item 12\n",
       "\\item 22\n",
       "\\item 10\n",
       "\\item 11\n",
       "\\item 14\n",
       "\\item 17\n",
       "\\item 10\n",
       "\\item 6\n",
       "\\item 9\n",
       "\\item 17\n",
       "\\item 11\n",
       "\\item 10\n",
       "\\item 3\n",
       "\\item 2\n",
       "\\item 1\n",
       "\\item 4\n",
       "\\item 0\n",
       "\\item 2\n",
       "\\item 2\n",
       "\\item 0\n",
       "\\item 1\n",
       "\\item 0\n",
       "\\item 2\n",
       "\\item 1\n",
       "\\item 1\n",
       "\\item 0\n",
       "\\item 1\n",
       "\\item 0\n",
       "\\item 0\n",
       "\\item 4\n",
       "\\item 0\n",
       "\\item 1\n",
       "\\item 2\n",
       "\\item 1\n",
       "\\item 4\n",
       "\\item 2\n",
       "\\item 1\n",
       "\\item 0\n",
       "\\item 2\n",
       "\\item 0\n",
       "\\item 5\n",
       "\\item 3\n",
       "\\item 43\n",
       "\\item 42\n",
       "\\item 47\n",
       "\\item 39\n",
       "\\item 52\n",
       "\\item 50\n",
       "\\item 53\n",
       "\\item 50\n",
       "\\item 49\n",
       "\\item 54\n",
       "\\item 44\n",
       "\\item 42\n",
       "\\item 40\n",
       "\\item 53\n",
       "\\item 51\n",
       "\\item 31\n",
       "\\item 47\n",
       "\\item 44\n",
       "\\item 61\n",
       "\\item 53\n",
       "\\item 56\n",
       "\\item 40\n",
       "\\item 41\n",
       "\\item 49\n",
       "\\item 48\n",
       "\\item 54\n",
       "\\item 49\n",
       "\\item 52\n",
       "\\item 48\n",
       "\\item 43\n",
       "\\end{enumerate*}\n"
      ],
      "text/markdown": [
       "1. 7\n",
       "2. 4\n",
       "3. 4\n",
       "4. 3\n",
       "5. 9\n",
       "6. 7\n",
       "7. 1\n",
       "8. 2\n",
       "9. 4\n",
       "10. 3\n",
       "11. 5\n",
       "12. 4\n",
       "13. 3\n",
       "14. 5\n",
       "15. 5\n",
       "16. 3\n",
       "17. 7\n",
       "18. 6\n",
       "19. 4\n",
       "20. 5\n",
       "21. 2\n",
       "22. 3\n",
       "23. 6\n",
       "24. 7\n",
       "25. 8\n",
       "26. 6\n",
       "27. 8\n",
       "28. 3\n",
       "29. 3\n",
       "30. 3\n",
       "31. 20\n",
       "32. 14\n",
       "33. 16\n",
       "34. 15\n",
       "35. 18\n",
       "36. 26\n",
       "37. 14\n",
       "38. 20\n",
       "39. 16\n",
       "40. 18\n",
       "41. 17\n",
       "42. 19\n",
       "43. 28\n",
       "44. 18\n",
       "45. 11\n",
       "46. 20\n",
       "47. 10\n",
       "48. 17\n",
       "49. 22\n",
       "50. 17\n",
       "51. 14\n",
       "52. 22\n",
       "53. 17\n",
       "54. 25\n",
       "55. 23\n",
       "56. 21\n",
       "57. 18\n",
       "58. 13\n",
       "59. 11\n",
       "60. 20\n",
       "61. 12\n",
       "62. 13\n",
       "63. 13\n",
       "64. 15\n",
       "65. 11\n",
       "66. 14\n",
       "67. 9\n",
       "68. 9\n",
       "69. 11\n",
       "70. 9\n",
       "71. 11\n",
       "72. 15\n",
       "73. 7\n",
       "74. 9\n",
       "75. 8\n",
       "76. 9\n",
       "77. 12\n",
       "78. 16\n",
       "79. 12\n",
       "80. 22\n",
       "81. 10\n",
       "82. 11\n",
       "83. 14\n",
       "84. 17\n",
       "85. 10\n",
       "86. 6\n",
       "87. 9\n",
       "88. 17\n",
       "89. 11\n",
       "90. 10\n",
       "91. 3\n",
       "92. 2\n",
       "93. 1\n",
       "94. 4\n",
       "95. 0\n",
       "96. 2\n",
       "97. 2\n",
       "98. 0\n",
       "99. 1\n",
       "100. 0\n",
       "101. 2\n",
       "102. 1\n",
       "103. 1\n",
       "104. 0\n",
       "105. 1\n",
       "106. 0\n",
       "107. 0\n",
       "108. 4\n",
       "109. 0\n",
       "110. 1\n",
       "111. 2\n",
       "112. 1\n",
       "113. 4\n",
       "114. 2\n",
       "115. 1\n",
       "116. 0\n",
       "117. 2\n",
       "118. 0\n",
       "119. 5\n",
       "120. 3\n",
       "121. 43\n",
       "122. 42\n",
       "123. 47\n",
       "124. 39\n",
       "125. 52\n",
       "126. 50\n",
       "127. 53\n",
       "128. 50\n",
       "129. 49\n",
       "130. 54\n",
       "131. 44\n",
       "132. 42\n",
       "133. 40\n",
       "134. 53\n",
       "135. 51\n",
       "136. 31\n",
       "137. 47\n",
       "138. 44\n",
       "139. 61\n",
       "140. 53\n",
       "141. 56\n",
       "142. 40\n",
       "143. 41\n",
       "144. 49\n",
       "145. 48\n",
       "146. 54\n",
       "147. 49\n",
       "148. 52\n",
       "149. 48\n",
       "150. 43\n",
       "\n",
       "\n"
      ],
      "text/plain": [
       "  [1]  7  4  4  3  9  7  1  2  4  3  5  4  3  5  5  3  7  6  4  5  2  3  6  7  8\n",
       " [26]  6  8  3  3  3 20 14 16 15 18 26 14 20 16 18 17 19 28 18 11 20 10 17 22 17\n",
       " [51] 14 22 17 25 23 21 18 13 11 20 12 13 13 15 11 14  9  9 11  9 11 15  7  9  8\n",
       " [76]  9 12 16 12 22 10 11 14 17 10  6  9 17 11 10  3  2  1  4  0  2  2  0  1  0\n",
       "[101]  2  1  1  0  1  0  0  4  0  1  2  1  4  2  1  0  2  0  5  3 43 42 47 39 52\n",
       "[126] 50 53 50 49 54 44 42 40 53 51 31 47 44 61 53 56 40 41 49 48 54 49 52 48 43"
      ]
     },
     "metadata": {},
     "output_type": "display_data"
    }
   ],
   "source": [
    "y_prior = rpois(n = 150, lambda = rep(lambda_prior, each=30))\n",
    "\n",
    "y_prior"
   ]
  },
  {
   "cell_type": "markdown",
   "metadata": {},
   "source": [
    "Because these priors have high variance and are somewhat noninformative, they produce unrealistic predictive distributions. Still, enough data would overwhelm the prior, resulting in useful posterior distributions. Alternatively, we could tweak and simulate from these prior distributions until they adequately represent our prior beliefs. Yet another approach would be to re-parameterize the gamma prior, which we’ll demonstrate as we fit the model."
   ]
  },
  {
   "cell_type": "markdown",
   "metadata": {},
   "source": [
    "# JAGS Model"
   ]
  },
  {
   "cell_type": "code",
   "execution_count": 86,
   "metadata": {},
   "outputs": [],
   "source": [
    "library(\"coda\")\n",
    "library(\"rjags\")"
   ]
  },
  {
   "cell_type": "code",
   "execution_count": 87,
   "metadata": {},
   "outputs": [
    {
     "data": {
      "text/html": [
       "<table>\n",
       "<thead><tr><th scope=col>chips</th><th scope=col>location</th></tr></thead>\n",
       "<tbody>\n",
       "\t<tr><td>12</td><td>1 </td></tr>\n",
       "\t<tr><td>12</td><td>1 </td></tr>\n",
       "\t<tr><td> 6</td><td>1 </td></tr>\n",
       "\t<tr><td>13</td><td>1 </td></tr>\n",
       "\t<tr><td>12</td><td>1 </td></tr>\n",
       "\t<tr><td>12</td><td>1 </td></tr>\n",
       "</tbody>\n",
       "</table>\n"
      ],
      "text/latex": [
       "\\begin{tabular}{r|ll}\n",
       " chips & location\\\\\n",
       "\\hline\n",
       "\t 12 & 1 \\\\\n",
       "\t 12 & 1 \\\\\n",
       "\t  6 & 1 \\\\\n",
       "\t 13 & 1 \\\\\n",
       "\t 12 & 1 \\\\\n",
       "\t 12 & 1 \\\\\n",
       "\\end{tabular}\n"
      ],
      "text/markdown": [
       "\n",
       "| chips | location |\n",
       "|---|---|\n",
       "| 12 | 1  |\n",
       "| 12 | 1  |\n",
       "|  6 | 1  |\n",
       "| 13 | 1  |\n",
       "| 12 | 1  |\n",
       "| 12 | 1  |\n",
       "\n"
      ],
      "text/plain": [
       "  chips location\n",
       "1 12    1       \n",
       "2 12    1       \n",
       "3  6    1       \n",
       "4 13    1       \n",
       "5 12    1       \n",
       "6 12    1       "
      ]
     },
     "metadata": {},
     "output_type": "display_data"
    }
   ],
   "source": [
    "head(dat)"
   ]
  },
  {
   "cell_type": "markdown",
   "metadata": {},
   "source": [
    "<img src=\"hierarchy.PNG\"/>"
   ]
  },
  {
   "cell_type": "code",
   "execution_count": 108,
   "metadata": {},
   "outputs": [],
   "source": [
    "mod_str = \" model {\n",
    "    # Model's Likelihood Hierarchy\n",
    "    for(i in 1:length(chips)){\n",
    "        chips[i] ~ dpois(lam[location[i]])\n",
    "    }\n",
    "\n",
    "    for(j in 1:max(location)){\n",
    "        lam[j] ~ dgamma(alpha, beta)\n",
    "    }\n",
    "    \n",
    "    # Priors (in form of mu and sig)\n",
    "\n",
    "    alpha = mu^2 / sig^2\n",
    "    beta = mu / sig^2\n",
    "\n",
    "    mu ~ dgamma(2.0, 1.0/5.0)\n",
    "    sig ~ dexp(1.0)\n",
    "} \""
   ]
  },
  {
   "cell_type": "code",
   "execution_count": 109,
   "metadata": {},
   "outputs": [],
   "source": [
    "set.seed(113)"
   ]
  },
  {
   "cell_type": "code",
   "execution_count": 110,
   "metadata": {},
   "outputs": [],
   "source": [
    "data_jags = as.list(dat)"
   ]
  },
  {
   "cell_type": "code",
   "execution_count": 111,
   "metadata": {},
   "outputs": [],
   "source": [
    "params = c(\"lam\", \"mu\", \"sig\")"
   ]
  },
  {
   "cell_type": "code",
   "execution_count": 112,
   "metadata": {},
   "outputs": [
    {
     "name": "stdout",
     "output_type": "stream",
     "text": [
      "Compiling model graph\n",
      "   Resolving undeclared variables\n",
      "   Allocating nodes\n",
      "Graph information:\n",
      "   Observed stochastic nodes: 150\n",
      "   Unobserved stochastic nodes: 7\n",
      "   Total graph size: 315\n",
      "\n",
      "Initializing model\n",
      "\n"
     ]
    }
   ],
   "source": [
    "mod = jags.model(textConnection(mod_str), \n",
    "                 data = data_jags, \n",
    "                 n.chains = 3)"
   ]
  },
  {
   "cell_type": "code",
   "execution_count": 113,
   "metadata": {},
   "outputs": [],
   "source": [
    "update(mod, 1e3)\n",
    "\n",
    "mod_sim = coda.samples(model = mod, \n",
    "                       variable.names = params, \n",
    "                       n.iter = 1e4)\n",
    "\n",
    "mod_csim = as.mcmc(do.call(rbind, mod_sim))"
   ]
  },
  {
   "cell_type": "code",
   "execution_count": 117,
   "metadata": {},
   "outputs": [
    {
     "data": {
      "image/png": "[encoded data removed]",
      "text/plain": [
       "Plot with title \"Density of lam[4]\""
      ]
     },
     "metadata": {},
     "output_type": "display_data"
    },
    {
     "data": {
      "image/png": "[encoded data removed]",
      "text/plain": [
       "Plot with title \"Density of sig\""
      ]
     },
     "metadata": {},
     "output_type": "display_data"
    }
   ],
   "source": [
    "# Convergence Dignosis\n",
    "\n",
    "options(repr.plot.width = 8, repr.model.height=10)\n",
    "\n",
    "plot(mod_sim)"
   ]
  },
  {
   "cell_type": "code",
   "execution_count": 118,
   "metadata": {},
   "outputs": [
    {
     "data": {
      "text/plain": [
       "Potential scale reduction factors:\n",
       "\n",
       "       Point est. Upper C.I.\n",
       "lam[1]          1       1.00\n",
       "lam[2]          1       1.00\n",
       "lam[3]          1       1.00\n",
       "lam[4]          1       1.00\n",
       "lam[5]          1       1.00\n",
       "mu              1       1.00\n",
       "sig             1       1.01\n",
       "\n",
       "Multivariate psrf\n",
       "\n",
       "1"
      ]
     },
     "metadata": {},
     "output_type": "display_data"
    },
    {
     "data": {
      "text/html": [
       "<table>\n",
       "<thead><tr><th></th><th scope=col>lam[1]</th><th scope=col>lam[2]</th><th scope=col>lam[3]</th><th scope=col>lam[4]</th><th scope=col>lam[5]</th><th scope=col>mu</th><th scope=col>sig</th></tr></thead>\n",
       "<tbody>\n",
       "\t<tr><th scope=row>Lag 0</th><td> 1.000000000 </td><td> 1.000000000 </td><td>1.000000000  </td><td> 1.000000000 </td><td> 1.0000000000</td><td> 1.000000000 </td><td> 1.000000000 </td></tr>\n",
       "\t<tr><th scope=row>Lag 1</th><td> 0.021463502 </td><td> 0.114595593 </td><td>0.020696649  </td><td> 0.017618005 </td><td> 0.0527976236</td><td> 0.362838787 </td><td> 0.577377754 </td></tr>\n",
       "\t<tr><th scope=row>Lag 5</th><td>-0.002011615 </td><td> 0.011392753 </td><td>0.011267827  </td><td> 0.004017828 </td><td>-0.0021057278</td><td> 0.036607874 </td><td> 0.112014090 </td></tr>\n",
       "\t<tr><th scope=row>Lag 10</th><td> 0.006004817 </td><td>-0.007817243 </td><td>0.007520775  </td><td>-0.005142256 </td><td> 0.0045224113</td><td> 0.004380728 </td><td> 0.028832049 </td></tr>\n",
       "\t<tr><th scope=row>Lag 50</th><td> 0.001455334 </td><td> 0.002218589 </td><td>0.001504790  </td><td>-0.003138118 </td><td> 0.0003491664</td><td>-0.003710645 </td><td>-0.003494343 </td></tr>\n",
       "</tbody>\n",
       "</table>\n"
      ],
      "text/latex": [
       "\\begin{tabular}{r|lllllll}\n",
       "  & lam{[}1{]} & lam{[}2{]} & lam{[}3{]} & lam{[}4{]} & lam{[}5{]} & mu & sig\\\\\n",
       "\\hline\n",
       "\tLag 0 &  1.000000000  &  1.000000000  & 1.000000000   &  1.000000000  &  1.0000000000 &  1.000000000  &  1.000000000 \\\\\n",
       "\tLag 1 &  0.021463502  &  0.114595593  & 0.020696649   &  0.017618005  &  0.0527976236 &  0.362838787  &  0.577377754 \\\\\n",
       "\tLag 5 & -0.002011615  &  0.011392753  & 0.011267827   &  0.004017828  & -0.0021057278 &  0.036607874  &  0.112014090 \\\\\n",
       "\tLag 10 &  0.006004817  & -0.007817243  & 0.007520775   & -0.005142256  &  0.0045224113 &  0.004380728  &  0.028832049 \\\\\n",
       "\tLag 50 &  0.001455334  &  0.002218589  & 0.001504790   & -0.003138118  &  0.0003491664 & -0.003710645  & -0.003494343 \\\\\n",
       "\\end{tabular}\n"
      ],
      "text/markdown": [
       "\n",
       "| <!--/--> | lam[1] | lam[2] | lam[3] | lam[4] | lam[5] | mu | sig |\n",
       "|---|---|---|---|---|---|---|---|\n",
       "| Lag 0 |  1.000000000  |  1.000000000  | 1.000000000   |  1.000000000  |  1.0000000000 |  1.000000000  |  1.000000000  |\n",
       "| Lag 1 |  0.021463502  |  0.114595593  | 0.020696649   |  0.017618005  |  0.0527976236 |  0.362838787  |  0.577377754  |\n",
       "| Lag 5 | -0.002011615  |  0.011392753  | 0.011267827   |  0.004017828  | -0.0021057278 |  0.036607874  |  0.112014090  |\n",
       "| Lag 10 |  0.006004817  | -0.007817243  | 0.007520775   | -0.005142256  |  0.0045224113 |  0.004380728  |  0.028832049  |\n",
       "| Lag 50 |  0.001455334  |  0.002218589  | 0.001504790   | -0.003138118  |  0.0003491664 | -0.003710645  | -0.003494343  |\n",
       "\n"
      ],
      "text/plain": [
       "       lam[1]       lam[2]       lam[3]      lam[4]       lam[5]       \n",
       "Lag 0   1.000000000  1.000000000 1.000000000  1.000000000  1.0000000000\n",
       "Lag 1   0.021463502  0.114595593 0.020696649  0.017618005  0.0527976236\n",
       "Lag 5  -0.002011615  0.011392753 0.011267827  0.004017828 -0.0021057278\n",
       "Lag 10  0.006004817 -0.007817243 0.007520775 -0.005142256  0.0045224113\n",
       "Lag 50  0.001455334  0.002218589 0.001504790 -0.003138118  0.0003491664\n",
       "       mu           sig         \n",
       "Lag 0   1.000000000  1.000000000\n",
       "Lag 1   0.362838787  0.577377754\n",
       "Lag 5   0.036607874  0.112014090\n",
       "Lag 10  0.004380728  0.028832049\n",
       "Lag 50 -0.003710645 -0.003494343"
      ]
     },
     "metadata": {},
     "output_type": "display_data"
    },
    {
     "data": {
      "text/html": [
       "<dl class=dl-horizontal>\n",
       "\t<dt>lam[1]</dt>\n",
       "\t\t<dd>28969.5359622546</dd>\n",
       "\t<dt>lam[2]</dt>\n",
       "\t\t<dd>21580.7159513954</dd>\n",
       "\t<dt>lam[3]</dt>\n",
       "\t\t<dd>28566.6871457569</dd>\n",
       "\t<dt>lam[4]</dt>\n",
       "\t\t<dd>28846.92740894</dd>\n",
       "\t<dt>lam[5]</dt>\n",
       "\t\t<dd>25821.7110903071</dd>\n",
       "\t<dt>mu</dt>\n",
       "\t\t<dd>12147.2923124233</dd>\n",
       "\t<dt>sig</dt>\n",
       "\t\t<dd>7006.37055451498</dd>\n",
       "</dl>\n"
      ],
      "text/latex": [
       "\\begin{description*}\n",
       "\\item[lam\\{{[}\\}1\\{{]}\\}] 28969.5359622546\n",
       "\\item[lam\\{{[}\\}2\\{{]}\\}] 21580.7159513954\n",
       "\\item[lam\\{{[}\\}3\\{{]}\\}] 28566.6871457569\n",
       "\\item[lam\\{{[}\\}4\\{{]}\\}] 28846.92740894\n",
       "\\item[lam\\{{[}\\}5\\{{]}\\}] 25821.7110903071\n",
       "\\item[mu] 12147.2923124233\n",
       "\\item[sig] 7006.37055451498\n",
       "\\end{description*}\n"
      ],
      "text/markdown": [
       "lam[1]\n",
       ":   28969.5359622546lam[2]\n",
       ":   21580.7159513954lam[3]\n",
       ":   28566.6871457569lam[4]\n",
       ":   28846.92740894lam[5]\n",
       ":   25821.7110903071mu\n",
       ":   12147.2923124233sig\n",
       ":   7006.37055451498\n",
       "\n"
      ],
      "text/plain": [
       "   lam[1]    lam[2]    lam[3]    lam[4]    lam[5]        mu       sig \n",
       "28969.536 21580.716 28566.687 28846.927 25821.711 12147.292  7006.371 "
      ]
     },
     "metadata": {},
     "output_type": "display_data"
    }
   ],
   "source": [
    "# Convergence Dignosis\n",
    "\n",
    "gelman.diag(mod_sim)\n",
    "autocorr.diag(mod_sim)\n",
    "effectiveSize(mod_sim)"
   ]
  },
  {
   "cell_type": "code",
   "execution_count": 119,
   "metadata": {},
   "outputs": [
    {
     "data": {
      "text/plain": [
       "Mean deviance:  783.7 \n",
       "penalty 4.826 \n",
       "Penalized deviance: 788.5 "
      ]
     },
     "metadata": {},
     "output_type": "display_data"
    }
   ],
   "source": [
    "# Compute Dic\n",
    "\n",
    "dic = dic.samples(model = mod, n.iter = 1e4)\n",
    "dic"
   ]
  },
  {
   "cell_type": "code",
   "execution_count": 120,
   "metadata": {},
   "outputs": [
    {
     "data": {
      "text/html": [
       "<dl class=dl-horizontal>\n",
       "\t<dt>lam[1]</dt>\n",
       "\t\t<dd>9.27927042092359</dd>\n",
       "\t<dt>lam[2]</dt>\n",
       "\t\t<dd>6.22698464461976</dd>\n",
       "\t<dt>lam[3]</dt>\n",
       "\t\t<dd>9.52427023384302</dd>\n",
       "\t<dt>lam[4]</dt>\n",
       "\t\t<dd>8.94315044201227</dd>\n",
       "\t<dt>lam[5]</dt>\n",
       "\t\t<dd>11.755931307285</dd>\n",
       "\t<dt>mu</dt>\n",
       "\t\t<dd>9.10521428724121</dd>\n",
       "\t<dt>sig</dt>\n",
       "\t\t<dd>2.0863582747367</dd>\n",
       "</dl>\n"
      ],
      "text/latex": [
       "\\begin{description*}\n",
       "\\item[lam\\{{[}\\}1\\{{]}\\}] 9.27927042092359\n",
       "\\item[lam\\{{[}\\}2\\{{]}\\}] 6.22698464461976\n",
       "\\item[lam\\{{[}\\}3\\{{]}\\}] 9.52427023384302\n",
       "\\item[lam\\{{[}\\}4\\{{]}\\}] 8.94315044201227\n",
       "\\item[lam\\{{[}\\}5\\{{]}\\}] 11.755931307285\n",
       "\\item[mu] 9.10521428724121\n",
       "\\item[sig] 2.0863582747367\n",
       "\\end{description*}\n"
      ],
      "text/markdown": [
       "lam[1]\n",
       ":   9.27927042092359lam[2]\n",
       ":   6.22698464461976lam[3]\n",
       ":   9.52427023384302lam[4]\n",
       ":   8.94315044201227lam[5]\n",
       ":   11.755931307285mu\n",
       ":   9.10521428724121sig\n",
       ":   2.0863582747367\n",
       "\n"
      ],
      "text/plain": [
       "   lam[1]    lam[2]    lam[3]    lam[4]    lam[5]        mu       sig \n",
       " 9.279270  6.226985  9.524270  8.943150 11.755931  9.105214  2.086358 "
      ]
     },
     "metadata": {},
     "output_type": "display_data"
    }
   ],
   "source": [
    "colMeans(mod_csim)"
   ]
  },
  {
   "cell_type": "markdown",
   "metadata": {},
   "source": [
    "# Model checking\n",
    "\n",
    "After assessing convergence, we can check the fit via residuals. With a hierarchical model, there are now two levels of residuals: the observation level and the location mean level. To simplify, we’ll look at the residuals associated with the posterior means of the parameters."
   ]
  },
  {
   "cell_type": "code",
   "execution_count": 121,
   "metadata": {},
   "outputs": [],
   "source": [
    "# First, we have observation residuals, based on the estimates of location means.\n",
    "# Observation level Residuals\n",
    "\n",
    "pm_params = colMeans(mod_csim)"
   ]
  },
  {
   "cell_type": "code",
   "execution_count": 126,
   "metadata": {
    "scrolled": false
   },
   "outputs": [
    {
     "data": {
      "image/png": "[encoded data removed]",
      "text/plain": [
       "plot without title"
      ]
     },
     "metadata": {},
     "output_type": "display_data"
    }
   ],
   "source": [
    "yhat = rep(pm_params[1:5], each = 30)\n",
    "resid = dat$chips - yhat\n",
    "\n",
    "options(repr.plot.width = 8, repr.plot.height=6)\n",
    "plot(resid)"
   ]
  },
  {
   "cell_type": "code",
   "execution_count": 129,
   "metadata": {},
   "outputs": [
    {
     "data": {
      "image/png": "[encoded data removed]",
      "text/plain": [
       "plot without title"
      ]
     },
     "metadata": {},
     "output_type": "display_data"
    }
   ],
   "source": [
    "plot(jitter(yhat), resid)\n",
    "\n",
    "# We can observe here that that variance has incresed as yhat increases like our hypothesis ie. Poisson."
   ]
  },
  {
   "cell_type": "markdown",
   "metadata": {},
   "source": [
    "If out hypothesis is not violated then mean will be equal to variance."
   ]
  },
  {
   "cell_type": "code",
   "execution_count": 130,
   "metadata": {},
   "outputs": [
    {
     "data": {
      "text/html": [
       "6.44712643678161"
      ],
      "text/latex": [
       "6.44712643678161"
      ],
      "text/markdown": [
       "6.44712643678161"
      ],
      "text/plain": [
       "[1] 6.447126"
      ]
     },
     "metadata": {},
     "output_type": "display_data"
    }
   ],
   "source": [
    "var(resid[yhat<7])"
   ]
  },
  {
   "cell_type": "code",
   "execution_count": 131,
   "metadata": {},
   "outputs": [
    {
     "data": {
      "text/html": [
       "13.7241379310345"
      ],
      "text/latex": [
       "13.7241379310345"
      ],
      "text/markdown": [
       "13.7241379310345"
      ],
      "text/plain": [
       "[1] 13.72414"
      ]
     },
     "metadata": {},
     "output_type": "display_data"
    }
   ],
   "source": [
    "var(resid[yhat>11])"
   ]
  },
  {
   "cell_type": "code",
   "execution_count": 133,
   "metadata": {},
   "outputs": [
    {
     "data": {
      "image/png": "[encoded data removed]",
      "text/plain": [
       "plot without title"
      ]
     },
     "metadata": {},
     "output_type": "display_data"
    }
   ],
   "source": [
    "# Location level Residuals\n",
    "\n",
    "lam_residual = pm_params[1:5] - pm_params[\"mu\"]\n",
    "plot(lam_residual)\n",
    "abline(h=0, lty=3)\n",
    "\n",
    "# We don’t see any obvious violations of our model assumptions."
   ]
  },
  {
   "cell_type": "markdown",
   "metadata": {},
   "source": [
    "# Results"
   ]
  },
  {
   "cell_type": "code",
   "execution_count": 135,
   "metadata": {},
   "outputs": [
    {
     "data": {
      "text/plain": [
       "\n",
       "Iterations = 2001:12000\n",
       "Thinning interval = 1 \n",
       "Number of chains = 3 \n",
       "Sample size per chain = 10000 \n",
       "\n",
       "1. Empirical mean and standard deviation for each variable,\n",
       "   plus standard error of the mean:\n",
       "\n",
       "         Mean     SD Naive SE Time-series SE\n",
       "lam[1]  9.279 0.5363 0.003096       0.003153\n",
       "lam[2]  6.227 0.4658 0.002689       0.003171\n",
       "lam[3]  9.524 0.5433 0.003137       0.003219\n",
       "lam[4]  8.943 0.5253 0.003033       0.003094\n",
       "lam[5] 11.756 0.6175 0.003565       0.003843\n",
       "mu      9.105 0.9792 0.005653       0.008885\n",
       "sig     2.086 0.7211 0.004163       0.008649\n",
       "\n",
       "2. Quantiles for each variable:\n",
       "\n",
       "         2.5%    25%    50%    75%  97.5%\n",
       "lam[1]  8.260  8.912  9.269  9.636 10.364\n",
       "lam[2]  5.344  5.905  6.216  6.535  7.161\n",
       "lam[3]  8.488  9.155  9.516  9.882 10.632\n",
       "lam[4]  7.935  8.583  8.936  9.288  9.990\n",
       "lam[5] 10.569 11.333 11.743 12.169 12.994\n",
       "mu      7.232  8.485  9.087  9.676 11.157\n",
       "sig     1.094  1.579  1.948  2.437  3.887\n"
      ]
     },
     "metadata": {},
     "output_type": "display_data"
    }
   ],
   "source": [
    "summary(mod_sim)"
   ]
  },
  {
   "cell_type": "code",
   "execution_count": null,
   "metadata": {},
   "outputs": [],
   "source": []
  }
 ],
 "metadata": {
  "kernelspec": {
   "display_name": "R",
   "language": "R",
   "name": "ir"
  },
  "language_info": {
   "codemirror_mode": "r",
   "file_extension": ".r",
   "mimetype": "text/x-r-source",
   "name": "R",
   "pygments_lexer": "r",
   "version": "3.4.3"
  }
 },
 "nbformat": 4,
 "nbformat_minor": 2
}
