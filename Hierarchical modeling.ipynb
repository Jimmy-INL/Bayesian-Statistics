{
 "cells": [
  {
   "cell_type": "markdown",
   "metadata": {},
   "source": [
    "# Data"
   ]
  },
  {
   "cell_type": "code",
   "execution_count": 1,
   "metadata": {},
   "outputs": [
    {
     "data": {
      "text/html": [
       "<table>\n",
       "<thead><tr><th scope=col>chips</th><th scope=col>location</th></tr></thead>\n",
       "<tbody>\n",
       "\t<tr><td>12</td><td>1 </td></tr>\n",
       "\t<tr><td>12</td><td>1 </td></tr>\n",
       "\t<tr><td> 6</td><td>1 </td></tr>\n",
       "\t<tr><td>13</td><td>1 </td></tr>\n",
       "\t<tr><td>12</td><td>1 </td></tr>\n",
       "\t<tr><td>12</td><td>1 </td></tr>\n",
       "</tbody>\n",
       "</table>\n"
      ],
      "text/latex": [
       "\\begin{tabular}{r|ll}\n",
       " chips & location\\\\\n",
       "\\hline\n",
       "\t 12 & 1 \\\\\n",
       "\t 12 & 1 \\\\\n",
       "\t  6 & 1 \\\\\n",
       "\t 13 & 1 \\\\\n",
       "\t 12 & 1 \\\\\n",
       "\t 12 & 1 \\\\\n",
       "\\end{tabular}\n"
      ],
      "text/markdown": [
       "\n",
       "| chips | location |\n",
       "|---|---|\n",
       "| 12 | 1  |\n",
       "| 12 | 1  |\n",
       "|  6 | 1  |\n",
       "| 13 | 1  |\n",
       "| 12 | 1  |\n",
       "| 12 | 1  |\n",
       "\n"
      ],
      "text/plain": [
       "  chips location\n",
       "1 12    1       \n",
       "2 12    1       \n",
       "3  6    1       \n",
       "4 13    1       \n",
       "5 12    1       \n",
       "6 12    1       "
      ]
     },
     "metadata": {},
     "output_type": "display_data"
    }
   ],
   "source": [
    "dat = read.table(\"cookies.txt\", header = TRUE)\n",
    "head(dat)"
   ]
  },
  {
   "cell_type": "code",
   "execution_count": 2,
   "metadata": {},
   "outputs": [
    {
     "data": {
      "text/html": [
       "<ol class=list-inline>\n",
       "\t<li>1</li>\n",
       "\t<li>2</li>\n",
       "\t<li>3</li>\n",
       "\t<li>4</li>\n",
       "\t<li>5</li>\n",
       "</ol>\n"
      ],
      "text/latex": [
       "\\begin{enumerate*}\n",
       "\\item 1\n",
       "\\item 2\n",
       "\\item 3\n",
       "\\item 4\n",
       "\\item 5\n",
       "\\end{enumerate*}\n"
      ],
      "text/markdown": [
       "1. 1\n",
       "2. 2\n",
       "3. 3\n",
       "4. 4\n",
       "5. 5\n",
       "\n",
       "\n"
      ],
      "text/plain": [
       "[1] 1 2 3 4 5"
      ]
     },
     "metadata": {},
     "output_type": "display_data"
    }
   ],
   "source": [
    "unique(dat$location)"
   ]
  },
  {
   "cell_type": "code",
   "execution_count": 3,
   "metadata": {},
   "outputs": [
    {
     "data": {
      "image/png": "[encoded data removed]",
      "text/plain": [
       "Plot with title \"Histogram of dat$chips\""
      ]
     },
     "metadata": {},
     "output_type": "display_data"
    }
   ],
   "source": [
    "options(repr.plot.width=6, repr.plot.height=6)\n",
    "\n",
    "hist(dat$chips)"
   ]
  },
  {
   "cell_type": "code",
   "execution_count": 4,
   "metadata": {},
   "outputs": [
    {
     "data": {
      "image/png": "[encoded data removed]",
      "text/plain": [
       "plot without title"
      ]
     },
     "metadata": {},
     "output_type": "display_data"
    }
   ],
   "source": [
    "boxplot(chips ~ location, data = dat)"
   ]
  },
  {
   "cell_type": "markdown",
   "metadata": {},
   "source": [
    "# Prior Predictive Check\n",
    "\n",
    "\n",
    "Before implementing the model, we need to select prior distributions for α and β, the hyperparameters governing the gamma distribution for the λ parameters. First, think about what the λ’s represent. For location j, λj is the expected number of chocolate chips per cookie. Hence, α and β control the distribution of these means between locations. The mean of this gamma distribution will represent the overall mean of number of chips for all cookies. The variance of this gamma distribution controls the variability between locations. If this is high, the mean number of chips will vary widely from location to location. If it is small, the mean number of chips will be nearly the same from location to location.\n",
    "\n",
    "To see the effects of different priors on the distribution of λ’s, we can simulate. Suppose we try independent exponential priors for α and β."
   ]
  },
  {
   "cell_type": "markdown",
   "metadata": {},
   "source": [
    "<img src=\"hierarchy.PNG\"/>"
   ]
  },
  {
   "cell_type": "code",
   "execution_count": 5,
   "metadata": {},
   "outputs": [],
   "source": [
    "set.seed(112)"
   ]
  },
  {
   "cell_type": "code",
   "execution_count": 6,
   "metadata": {},
   "outputs": [],
   "source": [
    "n_sim = 1e3\n",
    "\n",
    "alpha_prior = rexp(n_sim, rate = 1.0/2.0)\n",
    "beta_prior = rexp(n_sim, rate = 5.0)\n",
    "\n",
    "mu_prior = (alpha_prior ^ 2) / (beta_prior ^ 2)\n",
    "sig_prior = sqrt( alpha_prior/ (beta_prior ^ 2) )"
   ]
  },
  {
   "cell_type": "code",
   "execution_count": 7,
   "metadata": {},
   "outputs": [
    {
     "data": {
      "text/plain": [
       "    Min.  1st Qu.   Median     Mean  3rd Qu.     Max. \n",
       "       0       11       93    47997      713 37405797 "
      ]
     },
     "metadata": {},
     "output_type": "display_data"
    }
   ],
   "source": [
    "summary(mu_prior)"
   ]
  },
  {
   "cell_type": "code",
   "execution_count": 8,
   "metadata": {},
   "outputs": [
    {
     "data": {
      "text/plain": [
       "    Min.  1st Qu.   Median     Mean  3rd Qu.     Max. \n",
       "   0.169    3.702    8.194   29.394   19.331 4660.062 "
      ]
     },
     "metadata": {},
     "output_type": "display_data"
    }
   ],
   "source": [
    "summary(sig_prior)"
   ]
  },
  {
   "cell_type": "code",
   "execution_count": 9,
   "metadata": {},
   "outputs": [
    {
     "data": {
      "text/plain": [
       "    Min.  1st Qu.   Median     Mean  3rd Qu.     Max. \n",
       "   0.000    1.073    6.838   40.477   25.373 5211.686 "
      ]
     },
     "metadata": {},
     "output_type": "display_data"
    }
   ],
   "source": [
    "# After simulating from the priors for α and β, we can use those samples to simulate further down the hierarchy.\n",
    "\n",
    "lambda_prior = rgamma(n = n_sim, \n",
    "                      shape = alpha_prior, \n",
    "                      rate = beta_prior)\n",
    "\n",
    "summary(lambda_prior)"
   ]
  },
  {
   "cell_type": "code",
   "execution_count": 10,
   "metadata": {},
   "outputs": [
    {
     "data": {
      "text/plain": [
       "   Min. 1st Qu.  Median    Mean 3rd Qu.    Max. \n",
       "  1.767   4.737  11.836  16.499  17.928  46.226 "
      ]
     },
     "metadata": {},
     "output_type": "display_data"
    }
   ],
   "source": [
    "# Or for a prior predictive reconstruction of the original data set:\n",
    "\n",
    "lambda_prior = rgamma(n = 5, \n",
    "                      shape = alpha_prior, \n",
    "                      rate = beta_prior)\n",
    "\n",
    "summary(lambda_prior)"
   ]
  },
  {
   "cell_type": "code",
   "execution_count": 11,
   "metadata": {},
   "outputs": [
    {
     "data": {
      "text/html": [
       "<ol class=list-inline>\n",
       "\t<li>7</li>\n",
       "\t<li>4</li>\n",
       "\t<li>4</li>\n",
       "\t<li>3</li>\n",
       "\t<li>9</li>\n",
       "\t<li>7</li>\n",
       "\t<li>1</li>\n",
       "\t<li>2</li>\n",
       "\t<li>4</li>\n",
       "\t<li>3</li>\n",
       "\t<li>5</li>\n",
       "\t<li>4</li>\n",
       "\t<li>3</li>\n",
       "\t<li>5</li>\n",
       "\t<li>5</li>\n",
       "\t<li>3</li>\n",
       "\t<li>7</li>\n",
       "\t<li>6</li>\n",
       "\t<li>4</li>\n",
       "\t<li>5</li>\n",
       "\t<li>2</li>\n",
       "\t<li>3</li>\n",
       "\t<li>6</li>\n",
       "\t<li>7</li>\n",
       "\t<li>8</li>\n",
       "\t<li>6</li>\n",
       "\t<li>8</li>\n",
       "\t<li>3</li>\n",
       "\t<li>3</li>\n",
       "\t<li>3</li>\n",
       "\t<li>20</li>\n",
       "\t<li>14</li>\n",
       "\t<li>16</li>\n",
       "\t<li>15</li>\n",
       "\t<li>18</li>\n",
       "\t<li>26</li>\n",
       "\t<li>14</li>\n",
       "\t<li>20</li>\n",
       "\t<li>16</li>\n",
       "\t<li>18</li>\n",
       "\t<li>17</li>\n",
       "\t<li>19</li>\n",
       "\t<li>28</li>\n",
       "\t<li>18</li>\n",
       "\t<li>11</li>\n",
       "\t<li>20</li>\n",
       "\t<li>10</li>\n",
       "\t<li>17</li>\n",
       "\t<li>22</li>\n",
       "\t<li>17</li>\n",
       "\t<li>14</li>\n",
       "\t<li>22</li>\n",
       "\t<li>17</li>\n",
       "\t<li>25</li>\n",
       "\t<li>23</li>\n",
       "\t<li>21</li>\n",
       "\t<li>18</li>\n",
       "\t<li>13</li>\n",
       "\t<li>11</li>\n",
       "\t<li>20</li>\n",
       "\t<li>12</li>\n",
       "\t<li>13</li>\n",
       "\t<li>13</li>\n",
       "\t<li>15</li>\n",
       "\t<li>11</li>\n",
       "\t<li>14</li>\n",
       "\t<li>9</li>\n",
       "\t<li>9</li>\n",
       "\t<li>11</li>\n",
       "\t<li>9</li>\n",
       "\t<li>11</li>\n",
       "\t<li>15</li>\n",
       "\t<li>7</li>\n",
       "\t<li>9</li>\n",
       "\t<li>8</li>\n",
       "\t<li>9</li>\n",
       "\t<li>12</li>\n",
       "\t<li>16</li>\n",
       "\t<li>12</li>\n",
       "\t<li>22</li>\n",
       "\t<li>10</li>\n",
       "\t<li>11</li>\n",
       "\t<li>14</li>\n",
       "\t<li>17</li>\n",
       "\t<li>10</li>\n",
       "\t<li>6</li>\n",
       "\t<li>9</li>\n",
       "\t<li>17</li>\n",
       "\t<li>11</li>\n",
       "\t<li>10</li>\n",
       "\t<li>3</li>\n",
       "\t<li>2</li>\n",
       "\t<li>1</li>\n",
       "\t<li>4</li>\n",
       "\t<li>0</li>\n",
       "\t<li>2</li>\n",
       "\t<li>2</li>\n",
       "\t<li>0</li>\n",
       "\t<li>1</li>\n",
       "\t<li>0</li>\n",
       "\t<li>2</li>\n",
       "\t<li>1</li>\n",
       "\t<li>1</li>\n",
       "\t<li>0</li>\n",
       "\t<li>1</li>\n",
       "\t<li>0</li>\n",
       "\t<li>0</li>\n",
       "\t<li>4</li>\n",
       "\t<li>0</li>\n",
       "\t<li>1</li>\n",
       "\t<li>2</li>\n",
       "\t<li>1</li>\n",
       "\t<li>4</li>\n",
       "\t<li>2</li>\n",
       "\t<li>1</li>\n",
       "\t<li>0</li>\n",
       "\t<li>2</li>\n",
       "\t<li>0</li>\n",
       "\t<li>5</li>\n",
       "\t<li>3</li>\n",
       "\t<li>43</li>\n",
       "\t<li>42</li>\n",
       "\t<li>47</li>\n",
       "\t<li>39</li>\n",
       "\t<li>52</li>\n",
       "\t<li>50</li>\n",
       "\t<li>53</li>\n",
       "\t<li>50</li>\n",
       "\t<li>49</li>\n",
       "\t<li>54</li>\n",
       "\t<li>44</li>\n",
       "\t<li>42</li>\n",
       "\t<li>40</li>\n",
       "\t<li>53</li>\n",
       "\t<li>51</li>\n",
       "\t<li>31</li>\n",
       "\t<li>47</li>\n",
       "\t<li>44</li>\n",
       "\t<li>61</li>\n",
       "\t<li>53</li>\n",
       "\t<li>56</li>\n",
       "\t<li>40</li>\n",
       "\t<li>41</li>\n",
       "\t<li>49</li>\n",
       "\t<li>48</li>\n",
       "\t<li>54</li>\n",
       "\t<li>49</li>\n",
       "\t<li>52</li>\n",
       "\t<li>48</li>\n",
       "\t<li>43</li>\n",
       "</ol>\n"
      ],
      "text/latex": [
       "\\begin{enumerate*}\n",
       "\\item 7\n",
       "\\item 4\n",
       "\\item 4\n",
       "\\item 3\n",
       "\\item 9\n",
       "\\item 7\n",
       "\\item 1\n",
       "\\item 2\n",
       "\\item 4\n",
       "\\item 3\n",
       "\\item 5\n",
       "\\item 4\n",
       "\\item 3\n",
       "\\item 5\n",
       "\\item 5\n",
       "\\item 3\n",
       "\\item 7\n",
       "\\item 6\n",
       "\\item 4\n",
       "\\item 5\n",
       "\\item 2\n",
       "\\item 3\n",
       "\\item 6\n",
       "\\item 7\n",
       "\\item 8\n",
       "\\item 6\n",
       "\\item 8\n",
       "\\item 3\n",
       "\\item 3\n",
       "\\item 3\n",
       "\\item 20\n",
       "\\item 14\n",
       "\\item 16\n",
       "\\item 15\n",
       "\\item 18\n",
       "\\item 26\n",
       "\\item 14\n",
       "\\item 20\n",
       "\\item 16\n",
       "\\item 18\n",
       "\\item 17\n",
       "\\item 19\n",
       "\\item 28\n",
       "\\item 18\n",
       "\\item 11\n",
       "\\item 20\n",
       "\\item 10\n",
       "\\item 17\n",
       "\\item 22\n",
       "\\item 17\n",
       "\\item 14\n",
       "\\item 22\n",
       "\\item 17\n",
       "\\item 25\n",
       "\\item 23\n",
       "\\item 21\n",
       "\\item 18\n",
       "\\item 13\n",
       "\\item 11\n",
       "\\item 20\n",
       "\\item 12\n",
       "\\item 13\n",
       "\\item 13\n",
       "\\item 15\n",
       "\\item 11\n",
       "\\item 14\n",
       "\\item 9\n",
       "\\item 9\n",
       "\\item 11\n",
       "\\item 9\n",
       "\\item 11\n",
       "\\item 15\n",
       "\\item 7\n",
       "\\item 9\n",
       "\\item 8\n",
       "\\item 9\n",
       "\\item 12\n",
       "\\item 16\n",
       "\\item 12\n",
       "\\item 22\n",
       "\\item 10\n",
       "\\item 11\n",
       "\\item 14\n",
       "\\item 17\n",
       "\\item 10\n",
       "\\item 6\n",
       "\\item 9\n",
       "\\item 17\n",
       "\\item 11\n",
       "\\item 10\n",
       "\\item 3\n",
       "\\item 2\n",
       "\\item 1\n",
       "\\item 4\n",
       "\\item 0\n",
       "\\item 2\n",
       "\\item 2\n",
       "\\item 0\n",
       "\\item 1\n",
       "\\item 0\n",
       "\\item 2\n",
       "\\item 1\n",
       "\\item 1\n",
       "\\item 0\n",
       "\\item 1\n",
       "\\item 0\n",
       "\\item 0\n",
       "\\item 4\n",
       "\\item 0\n",
       "\\item 1\n",
       "\\item 2\n",
       "\\item 1\n",
       "\\item 4\n",
       "\\item 2\n",
       "\\item 1\n",
       "\\item 0\n",
       "\\item 2\n",
       "\\item 0\n",
       "\\item 5\n",
       "\\item 3\n",
       "\\item 43\n",
       "\\item 42\n",
       "\\item 47\n",
       "\\item 39\n",
       "\\item 52\n",
       "\\item 50\n",
       "\\item 53\n",
       "\\item 50\n",
       "\\item 49\n",
       "\\item 54\n",
       "\\item 44\n",
       "\\item 42\n",
       "\\item 40\n",
       "\\item 53\n",
       "\\item 51\n",
       "\\item 31\n",
       "\\item 47\n",
       "\\item 44\n",
       "\\item 61\n",
       "\\item 53\n",
       "\\item 56\n",
       "\\item 40\n",
       "\\item 41\n",
       "\\item 49\n",
       "\\item 48\n",
       "\\item 54\n",
       "\\item 49\n",
       "\\item 52\n",
       "\\item 48\n",
       "\\item 43\n",
       "\\end{enumerate*}\n"
      ],
      "text/markdown": [
       "1. 7\n",
       "2. 4\n",
       "3. 4\n",
       "4. 3\n",
       "5. 9\n",
       "6. 7\n",
       "7. 1\n",
       "8. 2\n",
       "9. 4\n",
       "10. 3\n",
       "11. 5\n",
       "12. 4\n",
       "13. 3\n",
       "14. 5\n",
       "15. 5\n",
       "16. 3\n",
       "17. 7\n",
       "18. 6\n",
       "19. 4\n",
       "20. 5\n",
       "21. 2\n",
       "22. 3\n",
       "23. 6\n",
       "24. 7\n",
       "25. 8\n",
       "26. 6\n",
       "27. 8\n",
       "28. 3\n",
       "29. 3\n",
       "30. 3\n",
       "31. 20\n",
       "32. 14\n",
       "33. 16\n",
       "34. 15\n",
       "35. 18\n",
       "36. 26\n",
       "37. 14\n",
       "38. 20\n",
       "39. 16\n",
       "40. 18\n",
       "41. 17\n",
       "42. 19\n",
       "43. 28\n",
       "44. 18\n",
       "45. 11\n",
       "46. 20\n",
       "47. 10\n",
       "48. 17\n",
       "49. 22\n",
       "50. 17\n",
       "51. 14\n",
       "52. 22\n",
       "53. 17\n",
       "54. 25\n",
       "55. 23\n",
       "56. 21\n",
       "57. 18\n",
       "58. 13\n",
       "59. 11\n",
       "60. 20\n",
       "61. 12\n",
       "62. 13\n",
       "63. 13\n",
       "64. 15\n",
       "65. 11\n",
       "66. 14\n",
       "67. 9\n",
       "68. 9\n",
       "69. 11\n",
       "70. 9\n",
       "71. 11\n",
       "72. 15\n",
       "73. 7\n",
       "74. 9\n",
       "75. 8\n",
       "76. 9\n",
       "77. 12\n",
       "78. 16\n",
       "79. 12\n",
       "80. 22\n",
       "81. 10\n",
       "82. 11\n",
       "83. 14\n",
       "84. 17\n",
       "85. 10\n",
       "86. 6\n",
       "87. 9\n",
       "88. 17\n",
       "89. 11\n",
       "90. 10\n",
       "91. 3\n",
       "92. 2\n",
       "93. 1\n",
       "94. 4\n",
       "95. 0\n",
       "96. 2\n",
       "97. 2\n",
       "98. 0\n",
       "99. 1\n",
       "100. 0\n",
       "101. 2\n",
       "102. 1\n",
       "103. 1\n",
       "104. 0\n",
       "105. 1\n",
       "106. 0\n",
       "107. 0\n",
       "108. 4\n",
       "109. 0\n",
       "110. 1\n",
       "111. 2\n",
       "112. 1\n",
       "113. 4\n",
       "114. 2\n",
       "115. 1\n",
       "116. 0\n",
       "117. 2\n",
       "118. 0\n",
       "119. 5\n",
       "120. 3\n",
       "121. 43\n",
       "122. 42\n",
       "123. 47\n",
       "124. 39\n",
       "125. 52\n",
       "126. 50\n",
       "127. 53\n",
       "128. 50\n",
       "129. 49\n",
       "130. 54\n",
       "131. 44\n",
       "132. 42\n",
       "133. 40\n",
       "134. 53\n",
       "135. 51\n",
       "136. 31\n",
       "137. 47\n",
       "138. 44\n",
       "139. 61\n",
       "140. 53\n",
       "141. 56\n",
       "142. 40\n",
       "143. 41\n",
       "144. 49\n",
       "145. 48\n",
       "146. 54\n",
       "147. 49\n",
       "148. 52\n",
       "149. 48\n",
       "150. 43\n",
       "\n",
       "\n"
      ],
      "text/plain": [
       "  [1]  7  4  4  3  9  7  1  2  4  3  5  4  3  5  5  3  7  6  4  5  2  3  6  7  8\n",
       " [26]  6  8  3  3  3 20 14 16 15 18 26 14 20 16 18 17 19 28 18 11 20 10 17 22 17\n",
       " [51] 14 22 17 25 23 21 18 13 11 20 12 13 13 15 11 14  9  9 11  9 11 15  7  9  8\n",
       " [76]  9 12 16 12 22 10 11 14 17 10  6  9 17 11 10  3  2  1  4  0  2  2  0  1  0\n",
       "[101]  2  1  1  0  1  0  0  4  0  1  2  1  4  2  1  0  2  0  5  3 43 42 47 39 52\n",
       "[126] 50 53 50 49 54 44 42 40 53 51 31 47 44 61 53 56 40 41 49 48 54 49 52 48 43"
      ]
     },
     "metadata": {},
     "output_type": "display_data"
    }
   ],
   "source": [
    "y_prior = rpois(n = 150, lambda = rep(lambda_prior, each=30))\n",
    "\n",
    "y_prior"
   ]
  },
  {
   "cell_type": "markdown",
   "metadata": {},
   "source": [
    "Because these priors have high variance and are somewhat noninformative, they produce unrealistic predictive distributions. Still, enough data would overwhelm the prior, resulting in useful posterior distributions. Alternatively, we could tweak and simulate from these prior distributions until they adequately represent our prior beliefs. Yet another approach would be to re-parameterize the gamma prior, which we’ll demonstrate as we fit the model."
   ]
  },
  {
   "cell_type": "markdown",
   "metadata": {},
   "source": [
    "# JAGS Model"
   ]
  },
  {
   "cell_type": "code",
   "execution_count": 12,
   "metadata": {},
   "outputs": [
    {
     "name": "stderr",
     "output_type": "stream",
     "text": [
      "Warning message:\n",
      "\"package 'coda' was built under R version 3.4.4\"Warning message:\n",
      "\"package 'rjags' was built under R version 3.4.4\"Linked to JAGS 4.3.0\n",
      "Loaded modules: basemod,bugs\n"
     ]
    }
   ],
   "source": [
    "library(\"coda\")\n",
    "library(\"rjags\")"
   ]
  },
  {
   "cell_type": "code",
   "execution_count": 13,
   "metadata": {},
   "outputs": [
    {
     "data": {
      "text/html": [
       "<table>\n",
       "<thead><tr><th scope=col>chips</th><th scope=col>location</th></tr></thead>\n",
       "<tbody>\n",
       "\t<tr><td>12</td><td>1 </td></tr>\n",
       "\t<tr><td>12</td><td>1 </td></tr>\n",
       "\t<tr><td> 6</td><td>1 </td></tr>\n",
       "\t<tr><td>13</td><td>1 </td></tr>\n",
       "\t<tr><td>12</td><td>1 </td></tr>\n",
       "\t<tr><td>12</td><td>1 </td></tr>\n",
       "</tbody>\n",
       "</table>\n"
      ],
      "text/latex": [
       "\\begin{tabular}{r|ll}\n",
       " chips & location\\\\\n",
       "\\hline\n",
       "\t 12 & 1 \\\\\n",
       "\t 12 & 1 \\\\\n",
       "\t  6 & 1 \\\\\n",
       "\t 13 & 1 \\\\\n",
       "\t 12 & 1 \\\\\n",
       "\t 12 & 1 \\\\\n",
       "\\end{tabular}\n"
      ],
      "text/markdown": [
       "\n",
       "| chips | location |\n",
       "|---|---|\n",
       "| 12 | 1  |\n",
       "| 12 | 1  |\n",
       "|  6 | 1  |\n",
       "| 13 | 1  |\n",
       "| 12 | 1  |\n",
       "| 12 | 1  |\n",
       "\n"
      ],
      "text/plain": [
       "  chips location\n",
       "1 12    1       \n",
       "2 12    1       \n",
       "3  6    1       \n",
       "4 13    1       \n",
       "5 12    1       \n",
       "6 12    1       "
      ]
     },
     "metadata": {},
     "output_type": "display_data"
    }
   ],
   "source": [
    "head(dat)"
   ]
  },
  {
   "cell_type": "markdown",
   "metadata": {},
   "source": [
    "<img src=\"hierarchy.PNG\"/>"
   ]
  },
  {
   "cell_type": "code",
   "execution_count": 14,
   "metadata": {},
   "outputs": [],
   "source": [
    "mod_str = \" model {\n",
    "    # Model's Likelihood Hierarchy\n",
    "    for(i in 1:length(chips)){\n",
    "        chips[i] ~ dpois(lam[location[i]])\n",
    "    }\n",
    "\n",
    "    for(j in 1:max(location)){\n",
    "        lam[j] ~ dgamma(alpha, beta)\n",
    "    }\n",
    "    \n",
    "    # Priors (in form of mu and sig)\n",
    "\n",
    "    alpha = mu^2 / sig^2\n",
    "    beta = mu / sig^2\n",
    "\n",
    "    mu ~ dgamma(2.0, 1.0/5.0)\n",
    "    sig ~ dexp(1.0)\n",
    "} \""
   ]
  },
  {
   "cell_type": "code",
   "execution_count": 15,
   "metadata": {},
   "outputs": [],
   "source": [
    "set.seed(113)"
   ]
  },
  {
   "cell_type": "code",
   "execution_count": 16,
   "metadata": {},
   "outputs": [],
   "source": [
    "data_jags = as.list(dat)"
   ]
  },
  {
   "cell_type": "code",
   "execution_count": 17,
   "metadata": {},
   "outputs": [],
   "source": [
    "params = c(\"lam\", \"mu\", \"sig\")"
   ]
  },
  {
   "cell_type": "code",
   "execution_count": 18,
   "metadata": {},
   "outputs": [
    {
     "name": "stdout",
     "output_type": "stream",
     "text": [
      "Compiling model graph\n",
      "   Resolving undeclared variables\n",
      "   Allocating nodes\n",
      "Graph information:\n",
      "   Observed stochastic nodes: 150\n",
      "   Unobserved stochastic nodes: 7\n",
      "   Total graph size: 315\n",
      "\n",
      "Initializing model\n",
      "\n"
     ]
    }
   ],
   "source": [
    "mod = jags.model(textConnection(mod_str), \n",
    "                 data = data_jags, \n",
    "                 n.chains = 3)"
   ]
  },
  {
   "cell_type": "code",
   "execution_count": 19,
   "metadata": {},
   "outputs": [],
   "source": [
    "update(mod, 1e3)\n",
    "\n",
    "mod_sim = coda.samples(model = mod, \n",
    "                       variable.names = params, \n",
    "                       n.iter = 1e4)\n",
    "\n",
    "mod_csim = as.mcmc(do.call(rbind, mod_sim))"
   ]
  },
  {
   "cell_type": "code",
   "execution_count": 20,
   "metadata": {},
   "outputs": [
    {
     "data": {
      "image/png": "[encoded data removed]",
      "text/plain": [
       "Plot with title \"Density of lam[4]\""
      ]
     },
     "metadata": {},
     "output_type": "display_data"
    },
    {
     "data": {
      "image/png": "[encoded data removed]",
      "text/plain": [
       "Plot with title \"Density of sig\""
      ]
     },
     "metadata": {},
     "output_type": "display_data"
    }
   ],
   "source": [
    "# Convergence Dignosis\n",
    "\n",
    "options(repr.plot.width = 8, repr.model.height=10)\n",
    "\n",
    "plot(mod_sim)"
   ]
  },
  {
   "cell_type": "code",
   "execution_count": 21,
   "metadata": {},
   "outputs": [
    {
     "data": {
      "text/plain": [
       "Potential scale reduction factors:\n",
       "\n",
       "       Point est. Upper C.I.\n",
       "lam[1]          1          1\n",
       "lam[2]          1          1\n",
       "lam[3]          1          1\n",
       "lam[4]          1          1\n",
       "lam[5]          1          1\n",
       "mu              1          1\n",
       "sig             1          1\n",
       "\n",
       "Multivariate psrf\n",
       "\n",
       "1"
      ]
     },
     "metadata": {},
     "output_type": "display_data"
    },
    {
     "data": {
      "text/html": [
       "<table>\n",
       "<thead><tr><th></th><th scope=col>lam[1]</th><th scope=col>lam[2]</th><th scope=col>lam[3]</th><th scope=col>lam[4]</th><th scope=col>lam[5]</th><th scope=col>mu</th><th scope=col>sig</th></tr></thead>\n",
       "<tbody>\n",
       "\t<tr><th scope=row>Lag 0</th><td> 1.0000000000</td><td> 1.000000000 </td><td> 1.000000000 </td><td> 1.0000000000</td><td> 1.000000000 </td><td> 1.000000000 </td><td>1.000000000  </td></tr>\n",
       "\t<tr><th scope=row>Lag 1</th><td> 0.0284118498</td><td> 0.112904124 </td><td> 0.020633769 </td><td> 0.0191066167</td><td> 0.056872758 </td><td> 0.368014181 </td><td>0.570981911  </td></tr>\n",
       "\t<tr><th scope=row>Lag 5</th><td> 0.0063559360</td><td> 0.012770716 </td><td>-0.009500648 </td><td> 0.0006777028</td><td>-0.001150007 </td><td> 0.026097797 </td><td>0.097693729  </td></tr>\n",
       "\t<tr><th scope=row>Lag 10</th><td>-0.0005808907</td><td>-0.002649832 </td><td> 0.011823858 </td><td>-0.0016467998</td><td> 0.002356198 </td><td> 0.003666997 </td><td>0.023958109  </td></tr>\n",
       "\t<tr><th scope=row>Lag 50</th><td> 0.0036976033</td><td> 0.004942986 </td><td> 0.001338190 </td><td> 0.0010566590</td><td>-0.011968066 </td><td>-0.009260772 </td><td>0.004680512  </td></tr>\n",
       "</tbody>\n",
       "</table>\n"
      ],
      "text/latex": [
       "\\begin{tabular}{r|lllllll}\n",
       "  & lam{[}1{]} & lam{[}2{]} & lam{[}3{]} & lam{[}4{]} & lam{[}5{]} & mu & sig\\\\\n",
       "\\hline\n",
       "\tLag 0 &  1.0000000000 &  1.000000000  &  1.000000000  &  1.0000000000 &  1.000000000  &  1.000000000  & 1.000000000  \\\\\n",
       "\tLag 1 &  0.0284118498 &  0.112904124  &  0.020633769  &  0.0191066167 &  0.056872758  &  0.368014181  & 0.570981911  \\\\\n",
       "\tLag 5 &  0.0063559360 &  0.012770716  & -0.009500648  &  0.0006777028 & -0.001150007  &  0.026097797  & 0.097693729  \\\\\n",
       "\tLag 10 & -0.0005808907 & -0.002649832  &  0.011823858  & -0.0016467998 &  0.002356198  &  0.003666997  & 0.023958109  \\\\\n",
       "\tLag 50 &  0.0036976033 &  0.004942986  &  0.001338190  &  0.0010566590 & -0.011968066  & -0.009260772  & 0.004680512  \\\\\n",
       "\\end{tabular}\n"
      ],
      "text/markdown": [
       "\n",
       "| <!--/--> | lam[1] | lam[2] | lam[3] | lam[4] | lam[5] | mu | sig |\n",
       "|---|---|---|---|---|---|---|---|\n",
       "| Lag 0 |  1.0000000000 |  1.000000000  |  1.000000000  |  1.0000000000 |  1.000000000  |  1.000000000  | 1.000000000   |\n",
       "| Lag 1 |  0.0284118498 |  0.112904124  |  0.020633769  |  0.0191066167 |  0.056872758  |  0.368014181  | 0.570981911   |\n",
       "| Lag 5 |  0.0063559360 |  0.012770716  | -0.009500648  |  0.0006777028 | -0.001150007  |  0.026097797  | 0.097693729   |\n",
       "| Lag 10 | -0.0005808907 | -0.002649832  |  0.011823858  | -0.0016467998 |  0.002356198  |  0.003666997  | 0.023958109   |\n",
       "| Lag 50 |  0.0036976033 |  0.004942986  |  0.001338190  |  0.0010566590 | -0.011968066  | -0.009260772  | 0.004680512   |\n",
       "\n"
      ],
      "text/plain": [
       "       lam[1]        lam[2]       lam[3]       lam[4]        lam[5]      \n",
       "Lag 0   1.0000000000  1.000000000  1.000000000  1.0000000000  1.000000000\n",
       "Lag 1   0.0284118498  0.112904124  0.020633769  0.0191066167  0.056872758\n",
       "Lag 5   0.0063559360  0.012770716 -0.009500648  0.0006777028 -0.001150007\n",
       "Lag 10 -0.0005808907 -0.002649832  0.011823858 -0.0016467998  0.002356198\n",
       "Lag 50  0.0036976033  0.004942986  0.001338190  0.0010566590 -0.011968066\n",
       "       mu           sig        \n",
       "Lag 0   1.000000000 1.000000000\n",
       "Lag 1   0.368014181 0.570981911\n",
       "Lag 5   0.026097797 0.097693729\n",
       "Lag 10  0.003666997 0.023958109\n",
       "Lag 50 -0.009260772 0.004680512"
      ]
     },
     "metadata": {},
     "output_type": "display_data"
    },
    {
     "data": {
      "text/html": [
       "<dl class=dl-horizontal>\n",
       "\t<dt>lam[1]</dt>\n",
       "\t\t<dd>27882.7318154214</dd>\n",
       "\t<dt>lam[2]</dt>\n",
       "\t\t<dd>22280.376176607</dd>\n",
       "\t<dt>lam[3]</dt>\n",
       "\t\t<dd>28424.7414889463</dd>\n",
       "\t<dt>lam[4]</dt>\n",
       "\t\t<dd>29128.8096088254</dd>\n",
       "\t<dt>lam[5]</dt>\n",
       "\t\t<dd>23034.0820789961</dd>\n",
       "\t<dt>mu</dt>\n",
       "\t\t<dd>13238.044313942</dd>\n",
       "\t<dt>sig</dt>\n",
       "\t\t<dd>7119.86055873172</dd>\n",
       "</dl>\n"
      ],
      "text/latex": [
       "\\begin{description*}\n",
       "\\item[lam\\{{[}\\}1\\{{]}\\}] 27882.7318154214\n",
       "\\item[lam\\{{[}\\}2\\{{]}\\}] 22280.376176607\n",
       "\\item[lam\\{{[}\\}3\\{{]}\\}] 28424.7414889463\n",
       "\\item[lam\\{{[}\\}4\\{{]}\\}] 29128.8096088254\n",
       "\\item[lam\\{{[}\\}5\\{{]}\\}] 23034.0820789961\n",
       "\\item[mu] 13238.044313942\n",
       "\\item[sig] 7119.86055873172\n",
       "\\end{description*}\n"
      ],
      "text/markdown": [
       "lam[1]\n",
       ":   27882.7318154214lam[2]\n",
       ":   22280.376176607lam[3]\n",
       ":   28424.7414889463lam[4]\n",
       ":   29128.8096088254lam[5]\n",
       ":   23034.0820789961mu\n",
       ":   13238.044313942sig\n",
       ":   7119.86055873172\n",
       "\n"
      ],
      "text/plain": [
       "   lam[1]    lam[2]    lam[3]    lam[4]    lam[5]        mu       sig \n",
       "27882.732 22280.376 28424.741 29128.810 23034.082 13238.044  7119.861 "
      ]
     },
     "metadata": {},
     "output_type": "display_data"
    }
   ],
   "source": [
    "# Convergence Dignosis\n",
    "\n",
    "gelman.diag(mod_sim)\n",
    "autocorr.diag(mod_sim)\n",
    "effectiveSize(mod_sim)"
   ]
  },
  {
   "cell_type": "code",
   "execution_count": 22,
   "metadata": {},
   "outputs": [
    {
     "data": {
      "text/plain": [
       "Mean deviance:  783.7 \n",
       "penalty 4.805 \n",
       "Penalized deviance: 788.5 "
      ]
     },
     "metadata": {},
     "output_type": "display_data"
    }
   ],
   "source": [
    "# Compute Dic\n",
    "\n",
    "dic = dic.samples(model = mod, n.iter = 1e4)\n",
    "dic"
   ]
  },
  {
   "cell_type": "code",
   "execution_count": 23,
   "metadata": {},
   "outputs": [
    {
     "data": {
      "text/html": [
       "<dl class=dl-horizontal>\n",
       "\t<dt>lam[1]</dt>\n",
       "\t\t<dd>9.28157350066371</dd>\n",
       "\t<dt>lam[2]</dt>\n",
       "\t\t<dd>6.22679421550139</dd>\n",
       "\t<dt>lam[3]</dt>\n",
       "\t\t<dd>9.5296696327295</dd>\n",
       "\t<dt>lam[4]</dt>\n",
       "\t\t<dd>8.94468329704611</dd>\n",
       "\t<dt>lam[5]</dt>\n",
       "\t\t<dd>11.7551604486328</dd>\n",
       "\t<dt>mu</dt>\n",
       "\t\t<dd>9.09618836869898</dd>\n",
       "\t<dt>sig</dt>\n",
       "\t\t<dd>2.07494977586327</dd>\n",
       "</dl>\n"
      ],
      "text/latex": [
       "\\begin{description*}\n",
       "\\item[lam\\{{[}\\}1\\{{]}\\}] 9.28157350066371\n",
       "\\item[lam\\{{[}\\}2\\{{]}\\}] 6.22679421550139\n",
       "\\item[lam\\{{[}\\}3\\{{]}\\}] 9.5296696327295\n",
       "\\item[lam\\{{[}\\}4\\{{]}\\}] 8.94468329704611\n",
       "\\item[lam\\{{[}\\}5\\{{]}\\}] 11.7551604486328\n",
       "\\item[mu] 9.09618836869898\n",
       "\\item[sig] 2.07494977586327\n",
       "\\end{description*}\n"
      ],
      "text/markdown": [
       "lam[1]\n",
       ":   9.28157350066371lam[2]\n",
       ":   6.22679421550139lam[3]\n",
       ":   9.5296696327295lam[4]\n",
       ":   8.94468329704611lam[5]\n",
       ":   11.7551604486328mu\n",
       ":   9.09618836869898sig\n",
       ":   2.07494977586327\n",
       "\n"
      ],
      "text/plain": [
       "   lam[1]    lam[2]    lam[3]    lam[4]    lam[5]        mu       sig \n",
       " 9.281574  6.226794  9.529670  8.944683 11.755160  9.096188  2.074950 "
      ]
     },
     "metadata": {},
     "output_type": "display_data"
    }
   ],
   "source": [
    "colMeans(mod_csim)"
   ]
  },
  {
   "cell_type": "markdown",
   "metadata": {},
   "source": [
    "# Model checking\n",
    "\n",
    "After assessing convergence, we can check the fit via residuals. With a hierarchical model, there are now two levels of residuals: the observation level and the location mean level. To simplify, we’ll look at the residuals associated with the posterior means of the parameters."
   ]
  },
  {
   "cell_type": "code",
   "execution_count": 24,
   "metadata": {},
   "outputs": [],
   "source": [
    "# First, we have observation residuals, based on the estimates of location means.\n",
    "# Observation level Residuals\n",
    "\n",
    "pm_params = colMeans(mod_csim)"
   ]
  },
  {
   "cell_type": "code",
   "execution_count": 25,
   "metadata": {
    "scrolled": false
   },
   "outputs": [
    {
     "data": {
      "image/png": "[encoded data removed]",
      "text/plain": [
       "plot without title"
      ]
     },
     "metadata": {},
     "output_type": "display_data"
    }
   ],
   "source": [
    "yhat = rep(pm_params[1:5], each = 30)\n",
    "resid = dat$chips - yhat\n",
    "\n",
    "options(repr.plot.width = 8, repr.plot.height=6)\n",
    "plot(resid)"
   ]
  },
  {
   "cell_type": "code",
   "execution_count": 26,
   "metadata": {},
   "outputs": [
    {
     "data": {
      "image/png": "[encoded data removed]",
      "text/plain": [
       "plot without title"
      ]
     },
     "metadata": {},
     "output_type": "display_data"
    }
   ],
   "source": [
    "plot(jitter(yhat), resid)\n",
    "\n",
    "# We can observe here that that variance has incresed as yhat increases like our hypothesis ie. Poisson."
   ]
  },
  {
   "cell_type": "markdown",
   "metadata": {},
   "source": [
    "If out hypothesis is not violated then mean will be equal to variance."
   ]
  },
  {
   "cell_type": "code",
   "execution_count": 27,
   "metadata": {},
   "outputs": [
    {
     "data": {
      "text/html": [
       "6.44712643678161"
      ],
      "text/latex": [
       "6.44712643678161"
      ],
      "text/markdown": [
       "6.44712643678161"
      ],
      "text/plain": [
       "[1] 6.447126"
      ]
     },
     "metadata": {},
     "output_type": "display_data"
    }
   ],
   "source": [
    "var(resid[yhat<7])"
   ]
  },
  {
   "cell_type": "code",
   "execution_count": 28,
   "metadata": {},
   "outputs": [
    {
     "data": {
      "text/html": [
       "13.7241379310345"
      ],
      "text/latex": [
       "13.7241379310345"
      ],
      "text/markdown": [
       "13.7241379310345"
      ],
      "text/plain": [
       "[1] 13.72414"
      ]
     },
     "metadata": {},
     "output_type": "display_data"
    }
   ],
   "source": [
    "var(resid[yhat>11])"
   ]
  },
  {
   "cell_type": "code",
   "execution_count": 29,
   "metadata": {},
   "outputs": [
    {
     "data": {
      "image/png": "[encoded data removed]",
      "text/plain": [
       "plot without title"
      ]
     },
     "metadata": {},
     "output_type": "display_data"
    }
   ],
   "source": [
    "# Location level Residuals\n",
    "\n",
    "lam_residual = pm_params[1:5] - pm_params[\"mu\"]\n",
    "plot(lam_residual)\n",
    "abline(h=0, lty=3)\n",
    "\n",
    "# We don’t see any obvious violations of our model assumptions."
   ]
  },
  {
   "cell_type": "markdown",
   "metadata": {},
   "source": [
    "# Results"
   ]
  },
  {
   "cell_type": "code",
   "execution_count": 30,
   "metadata": {},
   "outputs": [
    {
     "data": {
      "text/plain": [
       "\n",
       "Iterations = 2001:12000\n",
       "Thinning interval = 1 \n",
       "Number of chains = 3 \n",
       "Sample size per chain = 10000 \n",
       "\n",
       "1. Empirical mean and standard deviation for each variable,\n",
       "   plus standard error of the mean:\n",
       "\n",
       "         Mean     SD Naive SE Time-series SE\n",
       "lam[1]  9.282 0.5369 0.003100       0.003218\n",
       "lam[2]  6.227 0.4615 0.002664       0.003092\n",
       "lam[3]  9.530 0.5463 0.003154       0.003241\n",
       "lam[4]  8.945 0.5266 0.003040       0.003085\n",
       "lam[5] 11.755 0.6175 0.003565       0.004085\n",
       "mu      9.096 0.9738 0.005622       0.008515\n",
       "sig     2.075 0.7036 0.004062       0.008422\n",
       "\n",
       "2. Quantiles for each variable:\n",
       "\n",
       "         2.5%    25%    50%    75%  97.5%\n",
       "lam[1]  8.266  8.911  9.273  9.636 10.367\n",
       "lam[2]  5.353  5.912  6.211  6.528  7.171\n",
       "lam[3]  8.494  9.154  9.517  9.890 10.640\n",
       "lam[4]  7.940  8.587  8.935  9.292  9.999\n",
       "lam[5] 10.580 11.331 11.743 12.161 13.006\n",
       "mu      7.199  8.491  9.069  9.670 11.099\n",
       "sig     1.097  1.583  1.944  2.421  3.801\n"
      ]
     },
     "metadata": {},
     "output_type": "display_data"
    }
   ],
   "source": [
    "summary(mod_sim)"
   ]
  },
  {
   "cell_type": "markdown",
   "metadata": {},
   "source": [
    "# Another Example"
   ]
  },
  {
   "cell_type": "code",
   "execution_count": 31,
   "metadata": {},
   "outputs": [
    {
     "data": {
      "text/html": [
       "<table>\n",
       "<thead><tr><th scope=col>y</th><th scope=col>grp</th></tr></thead>\n",
       "<tbody>\n",
       "\t<tr><td> 1.2</td><td>1   </td></tr>\n",
       "\t<tr><td> 1.4</td><td>1   </td></tr>\n",
       "\t<tr><td>-0.5</td><td>1   </td></tr>\n",
       "\t<tr><td> 0.3</td><td>1   </td></tr>\n",
       "\t<tr><td> 0.9</td><td>1   </td></tr>\n",
       "\t<tr><td> 2.3</td><td>1   </td></tr>\n",
       "</tbody>\n",
       "</table>\n"
      ],
      "text/latex": [
       "\\begin{tabular}{r|ll}\n",
       " y & grp\\\\\n",
       "\\hline\n",
       "\t  1.2 & 1   \\\\\n",
       "\t  1.4 & 1   \\\\\n",
       "\t -0.5 & 1   \\\\\n",
       "\t  0.3 & 1   \\\\\n",
       "\t  0.9 & 1   \\\\\n",
       "\t  2.3 & 1   \\\\\n",
       "\\end{tabular}\n"
      ],
      "text/markdown": [
       "\n",
       "| y | grp |\n",
       "|---|---|\n",
       "|  1.2 | 1    |\n",
       "|  1.4 | 1    |\n",
       "| -0.5 | 1    |\n",
       "|  0.3 | 1    |\n",
       "|  0.9 | 1    |\n",
       "|  2.3 | 1    |\n",
       "\n"
      ],
      "text/plain": [
       "  y    grp\n",
       "1  1.2 1  \n",
       "2  1.4 1  \n",
       "3 -0.5 1  \n",
       "4  0.3 1  \n",
       "5  0.9 1  \n",
       "6  2.3 1  "
      ]
     },
     "metadata": {},
     "output_type": "display_data"
    }
   ],
   "source": [
    "dat = read.csv(file=\"pctgrowth.csv\", header=TRUE)\n",
    "\n",
    "head(dat)"
   ]
  },
  {
   "cell_type": "code",
   "execution_count": 32,
   "metadata": {},
   "outputs": [
    {
     "data": {
      "text/html": [
       "<ol class=list-inline>\n",
       "\t<li>1</li>\n",
       "\t<li>2</li>\n",
       "\t<li>3</li>\n",
       "\t<li>4</li>\n",
       "\t<li>5</li>\n",
       "</ol>\n"
      ],
      "text/latex": [
       "\\begin{enumerate*}\n",
       "\\item 1\n",
       "\\item 2\n",
       "\\item 3\n",
       "\\item 4\n",
       "\\item 5\n",
       "\\end{enumerate*}\n"
      ],
      "text/markdown": [
       "1. 1\n",
       "2. 2\n",
       "3. 3\n",
       "4. 4\n",
       "5. 5\n",
       "\n",
       "\n"
      ],
      "text/plain": [
       "[1] 1 2 3 4 5"
      ]
     },
     "metadata": {},
     "output_type": "display_data"
    }
   ],
   "source": [
    "unique(dat$grp)"
   ]
  },
  {
   "cell_type": "code",
   "execution_count": 33,
   "metadata": {},
   "outputs": [
    {
     "data": {
      "image/png": "[encoded data removed]",
      "text/plain": [
       "plot without title"
      ]
     },
     "metadata": {},
     "output_type": "display_data"
    }
   ],
   "source": [
    "boxplot(y ~ grp, data = dat)"
   ]
  },
  {
   "cell_type": "code",
   "execution_count": 51,
   "metadata": {},
   "outputs": [],
   "source": [
    "mod_str = \" model {\n",
    "    # Model's Likelihood Hierarchy\n",
    "    for(i in 1:length(y)){\n",
    "        y[i] ~ dnorm(mu_grp[grp[i]], prec)\n",
    "    }\n",
    "\n",
    "    for(j in 1:max(grp)){\n",
    "        mu_grp[j] ~ dnorm(mu, prec_grps)\n",
    "    }\n",
    "    \n",
    "    # Priors\n",
    "    mu ~ dnorm(0, 1/1e6)\n",
    "    prec ~ dgamma(2/2.0, 2*1/2.0)\n",
    "    prec_grps ~ dgamma(1/2.0, 1*3/2.0)\n",
    "\n",
    "    #varaibles\n",
    "    sig = 1/prec\n",
    "    sig_grps =  1/prec_grps\n",
    "\n",
    "} \""
   ]
  },
  {
   "cell_type": "code",
   "execution_count": 52,
   "metadata": {},
   "outputs": [
    {
     "name": "stdout",
     "output_type": "stream",
     "text": [
      "Compiling model graph\n",
      "   Resolving undeclared variables\n",
      "   Allocating nodes\n",
      "Graph information:\n",
      "   Observed stochastic nodes: 53\n",
      "   Unobserved stochastic nodes: 8\n",
      "   Total graph size: 127\n",
      "\n",
      "Initializing model\n",
      "\n"
     ]
    }
   ],
   "source": [
    "model = jags.model(textConnection(mod_str), \n",
    "                   data = as.list(dat), \n",
    "                   n.chains = 3)"
   ]
  },
  {
   "cell_type": "code",
   "execution_count": 53,
   "metadata": {},
   "outputs": [],
   "source": [
    "params = c(\"mu_grp\", \"mu\", \"sig\", \"sig_grps\")"
   ]
  },
  {
   "cell_type": "code",
   "execution_count": 60,
   "metadata": {},
   "outputs": [],
   "source": [
    "mod_sim = coda.samples(model = model, \n",
    "                       variable.names = params, \n",
    "                       n.iter = 1e4)\n",
    "\n",
    "mod_csim = as.mcmc(do.call(rbind, mod_sim))"
   ]
  },
  {
   "cell_type": "code",
   "execution_count": 61,
   "metadata": {},
   "outputs": [
    {
     "data": {
      "image/png": "[encoded data removed]",
      "text/plain": [
       "Plot with title \"Density of mu_grp[3]\""
      ]
     },
     "metadata": {},
     "output_type": "display_data"
    },
    {
     "data": {
      "image/png": "[encoded data removed]",
      "text/plain": [
       "Plot with title \"Density of sig_grps\""
      ]
     },
     "metadata": {},
     "output_type": "display_data"
    }
   ],
   "source": [
    "plot(mod_sim)"
   ]
  },
  {
   "cell_type": "code",
   "execution_count": 72,
   "metadata": {},
   "outputs": [
    {
     "data": {
      "text/plain": [
       "Potential scale reduction factors:\n",
       "\n",
       "          Point est. Upper C.I.\n",
       "mu              1.00       1.00\n",
       "mu_grp[1]       1.00       1.00\n",
       "mu_grp[2]       1.00       1.00\n",
       "mu_grp[3]       1.00       1.00\n",
       "mu_grp[4]       1.00       1.00\n",
       "mu_grp[5]       1.00       1.00\n",
       "sig             1.00       1.00\n",
       "sig_grps        1.02       1.02\n",
       "\n",
       "Multivariate psrf\n",
       "\n",
       "1"
      ]
     },
     "metadata": {},
     "output_type": "display_data"
    },
    {
     "data": {
      "text/html": [
       "<table>\n",
       "<thead><tr><th></th><th scope=col>mu</th><th scope=col>mu_grp[1]</th><th scope=col>mu_grp[2]</th><th scope=col>mu_grp[3]</th><th scope=col>mu_grp[4]</th><th scope=col>mu_grp[5]</th><th scope=col>sig</th><th scope=col>sig_grps</th></tr></thead>\n",
       "<tbody>\n",
       "\t<tr><th scope=row>Lag 0</th><td> 1.000000000 </td><td> 1.000000000 </td><td> 1.000000000 </td><td>1.000000000  </td><td> 1.000000000 </td><td> 1.000000000 </td><td> 1.0000000000</td><td> 1.000000000 </td></tr>\n",
       "\t<tr><th scope=row>Lag 1</th><td> 0.047009202 </td><td> 0.048732973 </td><td> 0.064431936 </td><td>0.029640793  </td><td> 0.024271122 </td><td> 0.027449194 </td><td> 0.0972906518</td><td> 0.190684648 </td></tr>\n",
       "\t<tr><th scope=row>Lag 5</th><td>-0.001216101 </td><td> 0.008353765 </td><td> 0.001470163 </td><td>0.001754329  </td><td> 0.007333394 </td><td> 0.005873229 </td><td>-0.0067783378</td><td>-0.002072516 </td></tr>\n",
       "\t<tr><th scope=row>Lag 10</th><td>-0.004532311 </td><td> 0.002516124 </td><td>-0.007086858 </td><td>0.003374025  </td><td>-0.008556482 </td><td> 0.010879192 </td><td> 0.0032631002</td><td>-0.009338486 </td></tr>\n",
       "\t<tr><th scope=row>Lag 50</th><td> 0.001422383 </td><td>-0.005008029 </td><td>-0.002966232 </td><td>0.008757688  </td><td> 0.003492457 </td><td>-0.005676707 </td><td>-0.0001816587</td><td> 0.019804808 </td></tr>\n",
       "</tbody>\n",
       "</table>\n"
      ],
      "text/latex": [
       "\\begin{tabular}{r|llllllll}\n",
       "  & mu & mu\\_grp{[}1{]} & mu\\_grp{[}2{]} & mu\\_grp{[}3{]} & mu\\_grp{[}4{]} & mu\\_grp{[}5{]} & sig & sig\\_grps\\\\\n",
       "\\hline\n",
       "\tLag 0 &  1.000000000  &  1.000000000  &  1.000000000  & 1.000000000   &  1.000000000  &  1.000000000  &  1.0000000000 &  1.000000000 \\\\\n",
       "\tLag 1 &  0.047009202  &  0.048732973  &  0.064431936  & 0.029640793   &  0.024271122  &  0.027449194  &  0.0972906518 &  0.190684648 \\\\\n",
       "\tLag 5 & -0.001216101  &  0.008353765  &  0.001470163  & 0.001754329   &  0.007333394  &  0.005873229  & -0.0067783378 & -0.002072516 \\\\\n",
       "\tLag 10 & -0.004532311  &  0.002516124  & -0.007086858  & 0.003374025   & -0.008556482  &  0.010879192  &  0.0032631002 & -0.009338486 \\\\\n",
       "\tLag 50 &  0.001422383  & -0.005008029  & -0.002966232  & 0.008757688   &  0.003492457  & -0.005676707  & -0.0001816587 &  0.019804808 \\\\\n",
       "\\end{tabular}\n"
      ],
      "text/markdown": [
       "\n",
       "| <!--/--> | mu | mu_grp[1] | mu_grp[2] | mu_grp[3] | mu_grp[4] | mu_grp[5] | sig | sig_grps |\n",
       "|---|---|---|---|---|---|---|---|---|\n",
       "| Lag 0 |  1.000000000  |  1.000000000  |  1.000000000  | 1.000000000   |  1.000000000  |  1.000000000  |  1.0000000000 |  1.000000000  |\n",
       "| Lag 1 |  0.047009202  |  0.048732973  |  0.064431936  | 0.029640793   |  0.024271122  |  0.027449194  |  0.0972906518 |  0.190684648  |\n",
       "| Lag 5 | -0.001216101  |  0.008353765  |  0.001470163  | 0.001754329   |  0.007333394  |  0.005873229  | -0.0067783378 | -0.002072516  |\n",
       "| Lag 10 | -0.004532311  |  0.002516124  | -0.007086858  | 0.003374025   | -0.008556482  |  0.010879192  |  0.0032631002 | -0.009338486  |\n",
       "| Lag 50 |  0.001422383  | -0.005008029  | -0.002966232  | 0.008757688   |  0.003492457  | -0.005676707  | -0.0001816587 |  0.019804808  |\n",
       "\n"
      ],
      "text/plain": [
       "       mu           mu_grp[1]    mu_grp[2]    mu_grp[3]   mu_grp[4]   \n",
       "Lag 0   1.000000000  1.000000000  1.000000000 1.000000000  1.000000000\n",
       "Lag 1   0.047009202  0.048732973  0.064431936 0.029640793  0.024271122\n",
       "Lag 5  -0.001216101  0.008353765  0.001470163 0.001754329  0.007333394\n",
       "Lag 10 -0.004532311  0.002516124 -0.007086858 0.003374025 -0.008556482\n",
       "Lag 50  0.001422383 -0.005008029 -0.002966232 0.008757688  0.003492457\n",
       "       mu_grp[5]    sig           sig_grps    \n",
       "Lag 0   1.000000000  1.0000000000  1.000000000\n",
       "Lag 1   0.027449194  0.0972906518  0.190684648\n",
       "Lag 5   0.005873229 -0.0067783378 -0.002072516\n",
       "Lag 10  0.010879192  0.0032631002 -0.009338486\n",
       "Lag 50 -0.005676707 -0.0001816587  0.019804808"
      ]
     },
     "metadata": {},
     "output_type": "display_data"
    },
    {
     "data": {
      "text/html": [
       "<dl class=dl-horizontal>\n",
       "\t<dt>mu</dt>\n",
       "\t\t<dd>26912.4495006898</dd>\n",
       "\t<dt>mu_grp[1]</dt>\n",
       "\t\t<dd>26599.4568266271</dd>\n",
       "\t<dt>mu_grp[2]</dt>\n",
       "\t\t<dd>26062.9732908242</dd>\n",
       "\t<dt>mu_grp[3]</dt>\n",
       "\t\t<dd>27044.7074136453</dd>\n",
       "\t<dt>mu_grp[4]</dt>\n",
       "\t\t<dd>27833.8551625249</dd>\n",
       "\t<dt>mu_grp[5]</dt>\n",
       "\t\t<dd>28355.9087315553</dd>\n",
       "\t<dt>sig</dt>\n",
       "\t\t<dd>25222.9900538354</dd>\n",
       "\t<dt>sig_grps</dt>\n",
       "\t\t<dd>19921.8943031047</dd>\n",
       "</dl>\n"
      ],
      "text/latex": [
       "\\begin{description*}\n",
       "\\item[mu] 26912.4495006898\n",
       "\\item[mu\\textbackslash{}\\_grp\\{{[}\\}1\\{{]}\\}] 26599.4568266271\n",
       "\\item[mu\\textbackslash{}\\_grp\\{{[}\\}2\\{{]}\\}] 26062.9732908242\n",
       "\\item[mu\\textbackslash{}\\_grp\\{{[}\\}3\\{{]}\\}] 27044.7074136453\n",
       "\\item[mu\\textbackslash{}\\_grp\\{{[}\\}4\\{{]}\\}] 27833.8551625249\n",
       "\\item[mu\\textbackslash{}\\_grp\\{{[}\\}5\\{{]}\\}] 28355.9087315553\n",
       "\\item[sig] 25222.9900538354\n",
       "\\item[sig\\textbackslash{}\\_grps] 19921.8943031047\n",
       "\\end{description*}\n"
      ],
      "text/markdown": [
       "mu\n",
       ":   26912.4495006898mu_grp[1]\n",
       ":   26599.4568266271mu_grp[2]\n",
       ":   26062.9732908242mu_grp[3]\n",
       ":   27044.7074136453mu_grp[4]\n",
       ":   27833.8551625249mu_grp[5]\n",
       ":   28355.9087315553sig\n",
       ":   25222.9900538354sig_grps\n",
       ":   19921.8943031047\n",
       "\n"
      ],
      "text/plain": [
       "       mu mu_grp[1] mu_grp[2] mu_grp[3] mu_grp[4] mu_grp[5]       sig  sig_grps \n",
       " 26912.45  26599.46  26062.97  27044.71  27833.86  28355.91  25222.99  19921.89 "
      ]
     },
     "metadata": {},
     "output_type": "display_data"
    }
   ],
   "source": [
    "gelman.diag(mod_sim)\n",
    "autocorr.diag(mod_sim)\n",
    "effectiveSize(mod_sim)"
   ]
  },
  {
   "cell_type": "code",
   "execution_count": 73,
   "metadata": {},
   "outputs": [
    {
     "data": {
      "text/html": [
       "<dl class=dl-horizontal>\n",
       "\t<dt>mu_grp[1]</dt>\n",
       "\t\t<dd>0.896092225364672</dd>\n",
       "\t<dt>mu_grp[2]</dt>\n",
       "\t\t<dd>-1.48956970016204</dd>\n",
       "\t<dt>mu_grp[3]</dt>\n",
       "\t\t<dd>-1.09663515688816</dd>\n",
       "\t<dt>mu_grp[4]</dt>\n",
       "\t\t<dd>0.223977414567504</dd>\n",
       "\t<dt>mu_grp[5]</dt>\n",
       "\t\t<dd>-0.372012739436644</dd>\n",
       "</dl>\n"
      ],
      "text/latex": [
       "\\begin{description*}\n",
       "\\item[mu\\textbackslash{}\\_grp\\{{[}\\}1\\{{]}\\}] 0.896092225364672\n",
       "\\item[mu\\textbackslash{}\\_grp\\{{[}\\}2\\{{]}\\}] -1.48956970016204\n",
       "\\item[mu\\textbackslash{}\\_grp\\{{[}\\}3\\{{]}\\}] -1.09663515688816\n",
       "\\item[mu\\textbackslash{}\\_grp\\{{[}\\}4\\{{]}\\}] 0.223977414567504\n",
       "\\item[mu\\textbackslash{}\\_grp\\{{[}\\}5\\{{]}\\}] -0.372012739436644\n",
       "\\end{description*}\n"
      ],
      "text/markdown": [
       "mu_grp[1]\n",
       ":   0.896092225364672mu_grp[2]\n",
       ":   -1.48956970016204mu_grp[3]\n",
       ":   -1.09663515688816mu_grp[4]\n",
       ":   0.223977414567504mu_grp[5]\n",
       ":   -0.372012739436644\n",
       "\n"
      ],
      "text/plain": [
       " mu_grp[1]  mu_grp[2]  mu_grp[3]  mu_grp[4]  mu_grp[5] \n",
       " 0.8960922 -1.4895697 -1.0966352  0.2239774 -0.3720127 "
      ]
     },
     "metadata": {},
     "output_type": "display_data"
    }
   ],
   "source": [
    "colMeans(mod_csim)[2:6]"
   ]
  },
  {
   "cell_type": "code",
   "execution_count": 74,
   "metadata": {},
   "outputs": [],
   "source": [
    "means_anova = tapply(dat$y, INDEX=dat$grp, FUN=mean)"
   ]
  },
  {
   "cell_type": "code",
   "execution_count": 77,
   "metadata": {},
   "outputs": [
    {
     "data": {
      "image/png": "[encoded data removed]",
      "text/plain": [
       "plot without title"
      ]
     },
     "metadata": {},
     "output_type": "display_data"
    }
   ],
   "source": [
    "options(repr.plot.width=8, repr.plot.height=5)\n",
    "\n",
    "plot(means_anova)\n",
    "points(jitter(colMeans(mod_csim)[2:6]), col=\"red\")\n",
    "\n",
    "# The estimates from the hierarchical model have less variability than those from the ANOVA model, \n",
    "# tending toward smaller magnitudes."
   ]
  },
  {
   "cell_type": "code",
   "execution_count": null,
   "metadata": {},
   "outputs": [],
   "source": []
  }
 ],
 "metadata": {
  "@webio": {
   "lastCommId": null,
   "lastKernelId": null
  },
  "kernelspec": {
   "display_name": "R",
   "language": "R",
   "name": "ir"
  },
  "language_info": {
   "codemirror_mode": "r",
   "file_extension": ".r",
   "mimetype": "text/x-r-source",
   "name": "R",
   "pygments_lexer": "r",
   "version": "3.4.3"
  }
 },
 "nbformat": 4,
 "nbformat_minor": 2
}
