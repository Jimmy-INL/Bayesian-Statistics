{
 "cells": [
  {
   "cell_type": "markdown",
   "metadata": {},
   "source": [
    "<h1><center>Single Factor Anova</center></h1>"
   ]
  },
  {
   "cell_type": "code",
   "execution_count": null,
   "metadata": {},
   "outputs": [],
   "source": []
  },
  {
   "cell_type": "markdown",
   "metadata": {},
   "source": [
    "### Data"
   ]
  },
  {
   "cell_type": "code",
   "execution_count": 1,
   "metadata": {},
   "outputs": [
    {
     "data": {
      "text/html": [
       "<table>\n",
       "<thead><tr><th scope=col>weight</th><th scope=col>group</th></tr></thead>\n",
       "<tbody>\n",
       "\t<tr><td>4.17</td><td>ctrl</td></tr>\n",
       "\t<tr><td>5.58</td><td>ctrl</td></tr>\n",
       "\t<tr><td>5.18</td><td>ctrl</td></tr>\n",
       "\t<tr><td>6.11</td><td>ctrl</td></tr>\n",
       "\t<tr><td>4.50</td><td>ctrl</td></tr>\n",
       "\t<tr><td>4.61</td><td>ctrl</td></tr>\n",
       "</tbody>\n",
       "</table>\n"
      ],
      "text/latex": [
       "\\begin{tabular}{r|ll}\n",
       " weight & group\\\\\n",
       "\\hline\n",
       "\t 4.17 & ctrl\\\\\n",
       "\t 5.58 & ctrl\\\\\n",
       "\t 5.18 & ctrl\\\\\n",
       "\t 6.11 & ctrl\\\\\n",
       "\t 4.50 & ctrl\\\\\n",
       "\t 4.61 & ctrl\\\\\n",
       "\\end{tabular}\n"
      ],
      "text/markdown": [
       "\n",
       "| weight | group |\n",
       "|---|---|\n",
       "| 4.17 | ctrl |\n",
       "| 5.58 | ctrl |\n",
       "| 5.18 | ctrl |\n",
       "| 6.11 | ctrl |\n",
       "| 4.50 | ctrl |\n",
       "| 4.61 | ctrl |\n",
       "\n"
      ],
      "text/plain": [
       "  weight group\n",
       "1 4.17   ctrl \n",
       "2 5.58   ctrl \n",
       "3 5.18   ctrl \n",
       "4 6.11   ctrl \n",
       "5 4.50   ctrl \n",
       "6 4.61   ctrl "
      ]
     },
     "metadata": {},
     "output_type": "display_data"
    }
   ],
   "source": [
    "data(\"PlantGrowth\")\n",
    "?PlantGrowth\n",
    "head(PlantGrowth)"
   ]
  },
  {
   "cell_type": "code",
   "execution_count": 2,
   "metadata": {},
   "outputs": [
    {
     "data": {
      "image/png": "[encoded data removed]",
      "text/plain": [
       "plot without title"
      ]
     },
     "metadata": {},
     "output_type": "display_data"
    }
   ],
   "source": [
    "# Because the explanatory variable group is a factor and not continuous, we choose to visualize the data\n",
    "# with box plots rather than scatter plots.\n",
    "\n",
    "boxplot(weight ~ group, data=PlantGrowth)\n",
    "\n",
    "# The box plots summarize the distribution of the data for each of the three groups. \n",
    "# It appears that treatment 2 has the highest mean yield. It might be questionable whether each group has\n",
    "# the same variance, but we’ll assume that is the case and in future we'll relax this assumption also."
   ]
  },
  {
   "cell_type": "markdown",
   "metadata": {},
   "source": [
    "### Modelling Using R"
   ]
  },
  {
   "cell_type": "code",
   "execution_count": 3,
   "metadata": {},
   "outputs": [
    {
     "data": {
      "text/plain": [
       "\n",
       "Call:\n",
       "lm(formula = weight ~ group, data = PlantGrowth)\n",
       "\n",
       "Residuals:\n",
       "    Min      1Q  Median      3Q     Max \n",
       "-1.0710 -0.4180 -0.0060  0.2627  1.3690 \n",
       "\n",
       "Coefficients:\n",
       "            Estimate Std. Error t value Pr(>|t|)    \n",
       "(Intercept)   5.0320     0.1971  25.527   <2e-16 ***\n",
       "grouptrt1    -0.3710     0.2788  -1.331   0.1944    \n",
       "grouptrt2     0.4940     0.2788   1.772   0.0877 .  \n",
       "---\n",
       "Signif. codes:  0 '***' 0.001 '**' 0.01 '*' 0.05 '.' 0.1 ' ' 1\n",
       "\n",
       "Residual standard error: 0.6234 on 27 degrees of freedom\n",
       "Multiple R-squared:  0.2641,\tAdjusted R-squared:  0.2096 \n",
       "F-statistic: 4.846 on 2 and 27 DF,  p-value: 0.01591\n"
      ]
     },
     "metadata": {},
     "output_type": "display_data"
    }
   ],
   "source": [
    "lmod = lm(weight ~ group, data=PlantGrowth)\n",
    "\n",
    "summary(lmod)\n",
    "# The summary that we are getting here is wrt to Additive model because R uses this model rather than th Cell Mean Model.\n",
    "# Hence, the “intercept” in this model is the mean yield for the control group. The two other parameters are the estimated \n",
    "# effects of treatments 1 and 2. To recover the mean yield in treatment group 1, we've to add the intercept term and the\n",
    "# treatment 1 effect."
   ]
  },
  {
   "cell_type": "code",
   "execution_count": 4,
   "metadata": {},
   "outputs": [
    {
     "data": {
      "text/html": [
       "<table>\n",
       "<thead><tr><th></th><th scope=col>Df</th><th scope=col>Sum Sq</th><th scope=col>Mean Sq</th><th scope=col>F value</th><th scope=col>Pr(&gt;F)</th></tr></thead>\n",
       "<tbody>\n",
       "\t<tr><th scope=row>group</th><td> 2        </td><td> 3.76634  </td><td>1.8831700 </td><td>4.846088  </td><td>0.01590996</td></tr>\n",
       "\t<tr><th scope=row>Residuals</th><td>27        </td><td>10.49209  </td><td>0.3885959 </td><td>      NA  </td><td>        NA</td></tr>\n",
       "</tbody>\n",
       "</table>\n"
      ],
      "text/latex": [
       "\\begin{tabular}{r|lllll}\n",
       "  & Df & Sum Sq & Mean Sq & F value & Pr(>F)\\\\\n",
       "\\hline\n",
       "\tgroup &  2         &  3.76634   & 1.8831700  & 4.846088   & 0.01590996\\\\\n",
       "\tResiduals & 27         & 10.49209   & 0.3885959  &       NA   &         NA\\\\\n",
       "\\end{tabular}\n"
      ],
      "text/markdown": [
       "\n",
       "| <!--/--> | Df | Sum Sq | Mean Sq | F value | Pr(>F) |\n",
       "|---|---|---|---|---|---|\n",
       "| group |  2         |  3.76634   | 1.8831700  | 4.846088   | 0.01590996 |\n",
       "| Residuals | 27         | 10.49209   | 0.3885959  |       NA   |         NA |\n",
       "\n"
      ],
      "text/plain": [
       "          Df Sum Sq   Mean Sq   F value  Pr(>F)    \n",
       "group      2  3.76634 1.8831700 4.846088 0.01590996\n",
       "Residuals 27 10.49209 0.3885959       NA         NA"
      ]
     },
     "metadata": {},
     "output_type": "display_data"
    }
   ],
   "source": [
    "anova(lmod)\n",
    "\n",
    "# The anova() function in R compares variability of observations between the treatment groups to variability\n",
    "# within the treatment groups to test whether all means are equal or whether at least one is different. The small\n",
    "# p-value here suggests that the means are not all equal or we can say variability within the groups is high."
   ]
  },
  {
   "cell_type": "code",
   "execution_count": null,
   "metadata": {},
   "outputs": [],
   "source": []
  },
  {
   "cell_type": "markdown",
   "metadata": {},
   "source": [
    "## Bayesian Modelling [Assuming Similar Variance for each Group]"
   ]
  },
  {
   "cell_type": "code",
   "execution_count": 5,
   "metadata": {},
   "outputs": [
    {
     "name": "stderr",
     "output_type": "stream",
     "text": [
      "Warning message:\n",
      "\"package 'coda' was built under R version 3.4.4\"Warning message:\n",
      "\"package 'rjags' was built under R version 3.4.4\"Linked to JAGS 4.3.0\n",
      "Loaded modules: basemod,bugs\n"
     ]
    }
   ],
   "source": [
    "library(\"coda\")\n",
    "library(\"rjags\")"
   ]
  },
  {
   "cell_type": "code",
   "execution_count": 6,
   "metadata": {},
   "outputs": [],
   "source": [
    "set.seed(82)"
   ]
  },
  {
   "cell_type": "code",
   "execution_count": 7,
   "metadata": {},
   "outputs": [],
   "source": [
    "# CELL MEAN MODEL [Each group has its own mean.]\n",
    "#        B1        B2        1B3\n",
    "# A1   mu<1,1>   mu<1,2>   mu<1,3>\n",
    "# A2   mu<2,1>   mu<2,2>   mu<2,3>\n",
    "#\n",
    "#\n",
    "#\n",
    "#\n",
    "# ADDITIVE MODEL\n",
    "# E(y) = mu + a2*I(ax=2) + b2*I(bx=2) + b3*I(bx=3)\n",
    "#\n",
    "# Here I(ax=2) is an indicator function which is 1 when input is 2 otherwise 0."
   ]
  },
  {
   "cell_type": "code",
   "execution_count": 8,
   "metadata": {},
   "outputs": [],
   "source": [
    "# Model String\n",
    "\n",
    "mod_0_str = \" model {\n",
    "    # Actual Model (Cell Mean Model)\n",
    "    for (i in 1:length(y)) {\n",
    "        y[i] ~ dnorm(mu[grp[i]], prec)\n",
    "    }\n",
    "    \n",
    "    # Priors\n",
    "    for (j in 1:3) {\n",
    "        mu[j] ~ dnorm(0.0, 1.0/1.0e6)\n",
    "    }\n",
    "    prec ~ dgamma(5/2.0, 5*1.0/2.0)\n",
    "    \n",
    "    # Variables Dependent on Priors\n",
    "    sig = sqrt( 1.0 / prec )\n",
    "} \""
   ]
  },
  {
   "cell_type": "code",
   "execution_count": 9,
   "metadata": {},
   "outputs": [],
   "source": [
    "# Data to be fed in Model as a list.\n",
    "\n",
    "data_jags = list(y = PlantGrowth$weight, \n",
    "                 grp = as.numeric(PlantGrowth$group))"
   ]
  },
  {
   "cell_type": "code",
   "execution_count": 10,
   "metadata": {},
   "outputs": [],
   "source": [
    "# Parameters to be estimated.\n",
    "\n",
    "params_0 = c(\"mu\", \"sig\")"
   ]
  },
  {
   "cell_type": "code",
   "execution_count": 11,
   "metadata": {},
   "outputs": [],
   "source": [
    "# Initialization of the model parameters\n",
    "\n",
    "inits_0 = function() {\n",
    "    inits = list(\"mu\" = rnorm(3,0.0,100.0), \n",
    "                 \"prec\" = rgamma(1,1.0,1.0))\n",
    "}"
   ]
  },
  {
   "cell_type": "code",
   "execution_count": 12,
   "metadata": {},
   "outputs": [
    {
     "name": "stdout",
     "output_type": "stream",
     "text": [
      "Compiling model graph\n",
      "   Resolving undeclared variables\n",
      "   Allocating nodes\n",
      "Graph information:\n",
      "   Observed stochastic nodes: 30\n",
      "   Unobserved stochastic nodes: 4\n",
      "   Total graph size: 74\n",
      "\n",
      "Initializing model\n",
      "\n"
     ]
    }
   ],
   "source": [
    "#JAGS Model\n",
    "\n",
    "mod_0 = jags.model(textConnection(mod_0_str), \n",
    "                   data=data_jags, \n",
    "                   inits=inits_0, \n",
    "                   n.chains=3)"
   ]
  },
  {
   "cell_type": "code",
   "execution_count": 13,
   "metadata": {},
   "outputs": [],
   "source": [
    "# Burn In\n",
    "\n",
    "update(mod_0, 1e3)"
   ]
  },
  {
   "cell_type": "code",
   "execution_count": 14,
   "metadata": {},
   "outputs": [],
   "source": [
    "# Monte Carlo Simulations\n",
    "\n",
    "mod_0_sim = coda.samples(model = mod_0, \n",
    "                         variable.names = params_0, \n",
    "                         n.iter = 1e4)"
   ]
  },
  {
   "cell_type": "code",
   "execution_count": 15,
   "metadata": {},
   "outputs": [],
   "source": [
    "# Combine the Chains along the Rows\n",
    "\n",
    "mod_0_csim = as.mcmc(do.call(rbind, mod_0_sim))"
   ]
  },
  {
   "cell_type": "markdown",
   "metadata": {},
   "source": [
    "### Model Checking"
   ]
  },
  {
   "cell_type": "code",
   "execution_count": 16,
   "metadata": {},
   "outputs": [
    {
     "data": {
      "image/png": "[encoded data removed]",
      "text/plain": [
       "Plot with title \"Density of sig\""
      ]
     },
     "metadata": {},
     "output_type": "display_data"
    }
   ],
   "source": [
    "plot(mod_0_sim)"
   ]
  },
  {
   "cell_type": "code",
   "execution_count": 17,
   "metadata": {},
   "outputs": [
    {
     "data": {
      "text/plain": [
       "Potential scale reduction factors:\n",
       "\n",
       "      Point est. Upper C.I.\n",
       "mu[1]          1          1\n",
       "mu[2]          1          1\n",
       "mu[3]          1          1\n",
       "sig            1          1\n",
       "\n",
       "Multivariate psrf\n",
       "\n",
       "1"
      ]
     },
     "metadata": {},
     "output_type": "display_data"
    }
   ],
   "source": [
    "gelman.diag(mod_0_sim)"
   ]
  },
  {
   "cell_type": "code",
   "execution_count": 18,
   "metadata": {},
   "outputs": [
    {
     "data": {
      "text/html": [
       "<table>\n",
       "<thead><tr><th></th><th scope=col>mu[1]</th><th scope=col>mu[2]</th><th scope=col>mu[3]</th><th scope=col>sig</th></tr></thead>\n",
       "<tbody>\n",
       "\t<tr><th scope=row>Lag 0</th><td> 1.0000000000</td><td> 1.000000000 </td><td> 1.0000000000</td><td>1.000000000  </td></tr>\n",
       "\t<tr><th scope=row>Lag 1</th><td>-0.0007370524</td><td> 0.006863650 </td><td> 0.0003830353</td><td>0.083155039  </td></tr>\n",
       "\t<tr><th scope=row>Lag 5</th><td>-0.0014796343</td><td> 0.001264971 </td><td>-0.0024913004</td><td>0.004934900  </td></tr>\n",
       "\t<tr><th scope=row>Lag 10</th><td>-0.0035328712</td><td>-0.007780656 </td><td>-0.0060083072</td><td>0.001786973  </td></tr>\n",
       "\t<tr><th scope=row>Lag 50</th><td>-0.0079586227</td><td>-0.002372889 </td><td>-0.0097544769</td><td>0.002376041  </td></tr>\n",
       "</tbody>\n",
       "</table>\n"
      ],
      "text/latex": [
       "\\begin{tabular}{r|llll}\n",
       "  & mu{[}1{]} & mu{[}2{]} & mu{[}3{]} & sig\\\\\n",
       "\\hline\n",
       "\tLag 0 &  1.0000000000 &  1.000000000  &  1.0000000000 & 1.000000000  \\\\\n",
       "\tLag 1 & -0.0007370524 &  0.006863650  &  0.0003830353 & 0.083155039  \\\\\n",
       "\tLag 5 & -0.0014796343 &  0.001264971  & -0.0024913004 & 0.004934900  \\\\\n",
       "\tLag 10 & -0.0035328712 & -0.007780656  & -0.0060083072 & 0.001786973  \\\\\n",
       "\tLag 50 & -0.0079586227 & -0.002372889  & -0.0097544769 & 0.002376041  \\\\\n",
       "\\end{tabular}\n"
      ],
      "text/markdown": [
       "\n",
       "| <!--/--> | mu[1] | mu[2] | mu[3] | sig |\n",
       "|---|---|---|---|---|\n",
       "| Lag 0 |  1.0000000000 |  1.000000000  |  1.0000000000 | 1.000000000   |\n",
       "| Lag 1 | -0.0007370524 |  0.006863650  |  0.0003830353 | 0.083155039   |\n",
       "| Lag 5 | -0.0014796343 |  0.001264971  | -0.0024913004 | 0.004934900   |\n",
       "| Lag 10 | -0.0035328712 | -0.007780656  | -0.0060083072 | 0.001786973   |\n",
       "| Lag 50 | -0.0079586227 | -0.002372889  | -0.0097544769 | 0.002376041   |\n",
       "\n"
      ],
      "text/plain": [
       "       mu[1]         mu[2]        mu[3]         sig        \n",
       "Lag 0   1.0000000000  1.000000000  1.0000000000 1.000000000\n",
       "Lag 1  -0.0007370524  0.006863650  0.0003830353 0.083155039\n",
       "Lag 5  -0.0014796343  0.001264971 -0.0024913004 0.004934900\n",
       "Lag 10 -0.0035328712 -0.007780656 -0.0060083072 0.001786973\n",
       "Lag 50 -0.0079586227 -0.002372889 -0.0097544769 0.002376041"
      ]
     },
     "metadata": {},
     "output_type": "display_data"
    }
   ],
   "source": [
    "autocorr.diag(mod_0_sim)"
   ]
  },
  {
   "cell_type": "code",
   "execution_count": 19,
   "metadata": {},
   "outputs": [
    {
     "data": {
      "text/html": [
       "<dl class=dl-horizontal>\n",
       "\t<dt>mu[1]</dt>\n",
       "\t\t<dd>30000</dd>\n",
       "\t<dt>mu[2]</dt>\n",
       "\t\t<dd>30206.187898876</dd>\n",
       "\t<dt>mu[3]</dt>\n",
       "\t\t<dd>29270.125526382</dd>\n",
       "\t<dt>sig</dt>\n",
       "\t\t<dd>25395.3023396409</dd>\n",
       "</dl>\n"
      ],
      "text/latex": [
       "\\begin{description*}\n",
       "\\item[mu\\{{[}\\}1\\{{]}\\}] 30000\n",
       "\\item[mu\\{{[}\\}2\\{{]}\\}] 30206.187898876\n",
       "\\item[mu\\{{[}\\}3\\{{]}\\}] 29270.125526382\n",
       "\\item[sig] 25395.3023396409\n",
       "\\end{description*}\n"
      ],
      "text/markdown": [
       "mu[1]\n",
       ":   30000mu[2]\n",
       ":   30206.187898876mu[3]\n",
       ":   29270.125526382sig\n",
       ":   25395.3023396409\n",
       "\n"
      ],
      "text/plain": [
       "   mu[1]    mu[2]    mu[3]      sig \n",
       "30000.00 30206.19 29270.13 25395.30 "
      ]
     },
     "metadata": {},
     "output_type": "display_data"
    }
   ],
   "source": [
    "effectiveSize(mod_0_sim)"
   ]
  },
  {
   "cell_type": "code",
   "execution_count": 20,
   "metadata": {},
   "outputs": [],
   "source": [
    "# All the 4 analysis done above shows that model is perfect. \n",
    "# The brief explantion of each test is given in Linear Regression Notebook in Same Repository.\n",
    "# Now we have to do some analysis on Residuals."
   ]
  },
  {
   "cell_type": "markdown",
   "metadata": {},
   "source": [
    "### Residuals Checking"
   ]
  },
  {
   "cell_type": "code",
   "execution_count": 21,
   "metadata": {},
   "outputs": [
    {
     "data": {
      "text/html": [
       "<dl class=dl-horizontal>\n",
       "\t<dt>mu[1]</dt>\n",
       "\t\t<dd>5.03378720207764</dd>\n",
       "\t<dt>mu[2]</dt>\n",
       "\t\t<dd>4.66314220803695</dd>\n",
       "\t<dt>mu[3]</dt>\n",
       "\t\t<dd>5.52472253455572</dd>\n",
       "\t<dt>sig</dt>\n",
       "\t\t<dd>0.712274748000273</dd>\n",
       "</dl>\n"
      ],
      "text/latex": [
       "\\begin{description*}\n",
       "\\item[mu\\{{[}\\}1\\{{]}\\}] 5.03378720207764\n",
       "\\item[mu\\{{[}\\}2\\{{]}\\}] 4.66314220803695\n",
       "\\item[mu\\{{[}\\}3\\{{]}\\}] 5.52472253455572\n",
       "\\item[sig] 0.712274748000273\n",
       "\\end{description*}\n"
      ],
      "text/markdown": [
       "mu[1]\n",
       ":   5.03378720207764mu[2]\n",
       ":   4.66314220803695mu[3]\n",
       ":   5.52472253455572sig\n",
       ":   0.712274748000273\n",
       "\n"
      ],
      "text/plain": [
       "    mu[1]     mu[2]     mu[3]       sig \n",
       "5.0337872 4.6631422 5.5247225 0.7122747 "
      ]
     },
     "metadata": {},
     "output_type": "display_data"
    }
   ],
   "source": [
    "# Posterior Mean of Parameters\n",
    "\n",
    "pm_params = colMeans(mod_0_csim)\n",
    "pm_params"
   ]
  },
  {
   "cell_type": "code",
   "execution_count": 22,
   "metadata": {},
   "outputs": [
    {
     "data": {
      "text/html": [
       "<dl class=dl-horizontal>\n",
       "\t<dt>(Intercept)</dt>\n",
       "\t\t<dd>5.032</dd>\n",
       "\t<dt>grouptrt1</dt>\n",
       "\t\t<dd>-0.371</dd>\n",
       "\t<dt>grouptrt2</dt>\n",
       "\t\t<dd>0.494</dd>\n",
       "</dl>\n"
      ],
      "text/latex": [
       "\\begin{description*}\n",
       "\\item[(Intercept)] 5.032\n",
       "\\item[grouptrt1] -0.371\n",
       "\\item[grouptrt2] 0.494\n",
       "\\end{description*}\n"
      ],
      "text/markdown": [
       "(Intercept)\n",
       ":   5.032grouptrt1\n",
       ":   -0.371grouptrt2\n",
       ":   0.494\n",
       "\n"
      ],
      "text/plain": [
       "(Intercept)   grouptrt1   grouptrt2 \n",
       "      5.032      -0.371       0.494 "
      ]
     },
     "metadata": {},
     "output_type": "display_data"
    }
   ],
   "source": [
    "# Lets comapre it with the model that we fit using R.\n",
    "coefficients(lmod)\n",
    "\n",
    "# mu[1] = Intercept\n",
    "# mu[2] = Intercept + grouptrt1\n",
    "# mu[3] = Intercept + grouptrt2"
   ]
  },
  {
   "cell_type": "code",
   "execution_count": 23,
   "metadata": {},
   "outputs": [],
   "source": [
    "yhat = pm_params[1:3][data_jags$grp]\n",
    "resid = data_jags$y - yhat"
   ]
  },
  {
   "cell_type": "code",
   "execution_count": 24,
   "metadata": {},
   "outputs": [
    {
     "data": {
      "image/png": "[encoded data removed]",
      "text/plain": [
       "plot without title"
      ]
     },
     "metadata": {},
     "output_type": "display_data"
    }
   ],
   "source": [
    "options(repr.plot.width=8, repr.plot.height=4)\n",
    "\n",
    "plot(resid)\n",
    "# There seems no pattern. So it's good."
   ]
  },
  {
   "cell_type": "code",
   "execution_count": 25,
   "metadata": {},
   "outputs": [
    {
     "data": {
      "image/png": "[encoded data removed]",
      "text/plain": [
       "plot without title"
      ]
     },
     "metadata": {},
     "output_type": "display_data"
    }
   ],
   "source": [
    "plot(yhat, resid)\n",
    "\n",
    "# Here we can see the variance between all three groups are different. But above we've assumed hat variance is same.\n",
    "# We can again model the situation bu his time we'll include seprate variave for each model."
   ]
  },
  {
   "cell_type": "markdown",
   "metadata": {},
   "source": [
    "### Results"
   ]
  },
  {
   "cell_type": "code",
   "execution_count": 26,
   "metadata": {},
   "outputs": [
    {
     "data": {
      "text/plain": [
       "\n",
       "Call:\n",
       "lm(formula = weight ~ group, data = PlantGrowth)\n",
       "\n",
       "Residuals:\n",
       "    Min      1Q  Median      3Q     Max \n",
       "-1.0710 -0.4180 -0.0060  0.2627  1.3690 \n",
       "\n",
       "Coefficients:\n",
       "            Estimate Std. Error t value Pr(>|t|)    \n",
       "(Intercept)   5.0320     0.1971  25.527   <2e-16 ***\n",
       "grouptrt1    -0.3710     0.2788  -1.331   0.1944    \n",
       "grouptrt2     0.4940     0.2788   1.772   0.0877 .  \n",
       "---\n",
       "Signif. codes:  0 '***' 0.001 '**' 0.01 '*' 0.05 '.' 0.1 ' ' 1\n",
       "\n",
       "Residual standard error: 0.6234 on 27 degrees of freedom\n",
       "Multiple R-squared:  0.2641,\tAdjusted R-squared:  0.2096 \n",
       "F-statistic: 4.846 on 2 and 27 DF,  p-value: 0.01591\n"
      ]
     },
     "metadata": {},
     "output_type": "display_data"
    }
   ],
   "source": [
    "summary(lmod)"
   ]
  },
  {
   "cell_type": "code",
   "execution_count": 27,
   "metadata": {},
   "outputs": [
    {
     "data": {
      "text/html": [
       "<table>\n",
       "<thead><tr><th></th><th scope=col>lower</th><th scope=col>upper</th></tr></thead>\n",
       "<tbody>\n",
       "\t<tr><th scope=row>mu[1]</th><td>4.5820107</td><td>5.4809597</td></tr>\n",
       "\t<tr><th scope=row>mu[2]</th><td>4.2199687</td><td>5.1087478</td></tr>\n",
       "\t<tr><th scope=row>mu[3]</th><td>5.0778967</td><td>5.9675086</td></tr>\n",
       "\t<tr><th scope=row>sig</th><td>0.5450947</td><td>0.8949534</td></tr>\n",
       "</tbody>\n",
       "</table>\n"
      ],
      "text/latex": [
       "\\begin{tabular}{r|ll}\n",
       "  & lower & upper\\\\\n",
       "\\hline\n",
       "\tmu{[}1{]} & 4.5820107 & 5.4809597\\\\\n",
       "\tmu{[}2{]} & 4.2199687 & 5.1087478\\\\\n",
       "\tmu{[}3{]} & 5.0778967 & 5.9675086\\\\\n",
       "\tsig & 0.5450947 & 0.8949534\\\\\n",
       "\\end{tabular}\n"
      ],
      "text/markdown": [
       "\n",
       "| <!--/--> | lower | upper |\n",
       "|---|---|---|\n",
       "| mu[1] | 4.5820107 | 5.4809597 |\n",
       "| mu[2] | 4.2199687 | 5.1087478 |\n",
       "| mu[3] | 5.0778967 | 5.9675086 |\n",
       "| sig | 0.5450947 | 0.8949534 |\n",
       "\n"
      ],
      "text/plain": [
       "      lower     upper    \n",
       "mu[1] 4.5820107 5.4809597\n",
       "mu[2] 4.2199687 5.1087478\n",
       "mu[3] 5.0778967 5.9675086\n",
       "sig   0.5450947 0.8949534"
      ]
     },
     "metadata": {},
     "output_type": "display_data"
    }
   ],
   "source": [
    "# Highest Posterior Density 95% Confidence Interval\n",
    "\n",
    "HPDinterval(mod_0_csim, prob = 0.95)"
   ]
  },
  {
   "cell_type": "code",
   "execution_count": 28,
   "metadata": {},
   "outputs": [
    {
     "data": {
      "text/html": [
       "0.1222"
      ],
      "text/latex": [
       "0.1222"
      ],
      "text/markdown": [
       "0.1222"
      ],
      "text/plain": [
       "[1] 0.1222"
      ]
     },
     "metadata": {},
     "output_type": "display_data"
    }
   ],
   "source": [
    "mean(mod_0_csim[,2] > mod_0_csim[,1])\n",
    "\n",
    "# Result shows that in 12% cases treatement 1 will increase mean yield."
   ]
  },
  {
   "cell_type": "code",
   "execution_count": 29,
   "metadata": {},
   "outputs": [
    {
     "data": {
      "text/html": [
       "0.9372"
      ],
      "text/latex": [
       "0.9372"
      ],
      "text/markdown": [
       "0.9372"
      ],
      "text/plain": [
       "[1] 0.9372"
      ]
     },
     "metadata": {},
     "output_type": "display_data"
    }
   ],
   "source": [
    "# We are interested to know if one of the treatments increases mean yield. \n",
    "# It is clear that treatment 1 does not. What about treatment 2?\n",
    "\n",
    "mean(mod_0_csim[,3] > mod_0_csim[,1])\n",
    "\n",
    "# Result shows that in 94% cases treatement 2 will increase mean yield."
   ]
  },
  {
   "cell_type": "code",
   "execution_count": 30,
   "metadata": {},
   "outputs": [
    {
     "data": {
      "text/html": [
       "0.488866666666667"
      ],
      "text/latex": [
       "0.488866666666667"
      ],
      "text/markdown": [
       "0.488866666666667"
      ],
      "text/plain": [
       "[1] 0.4888667"
      ]
     },
     "metadata": {},
     "output_type": "display_data"
    }
   ],
   "source": [
    "# It may be the case that treatment 2 would be costly to put into production. \n",
    "# Suppose that to be worthwhile, this treatment must increase mean yield by 10%. \n",
    "# What is the posterior probability that the increase is at least that?\n",
    "\n",
    "mean(mod_0_csim[,3] > 1.1*mod_0_csim[,1])\n",
    "\n",
    "# We have about 50/50 odds that adopting treatment 2 would increase mean yield by at least 10%."
   ]
  },
  {
   "cell_type": "code",
   "execution_count": null,
   "metadata": {},
   "outputs": [],
   "source": []
  },
  {
   "cell_type": "markdown",
   "metadata": {},
   "source": [
    "## Bayesian Modelling [Assuming Different Variance for each Group]"
   ]
  },
  {
   "cell_type": "code",
   "execution_count": 31,
   "metadata": {},
   "outputs": [],
   "source": [
    "# Model String\n",
    "\n",
    "mod_1_str = \" model {\n",
    "    # Actual Model (Cell Mean Model)\n",
    "    for (i in 1:length(y)) {\n",
    "        y[i] ~ dnorm(mu[grp[i]], prec[grp[i]])\n",
    "    }\n",
    "    \n",
    "    # Priors\n",
    "    for (j in 1:3) {\n",
    "        mu[j] ~ dnorm(0.0, 1.0/1.0e6)\n",
    "        prec[j] ~ dgamma(5/2.0, 5*1.0/2.0)\n",
    "    }\n",
    "    \n",
    "    # Variables Dependent on Priors\n",
    "    for(k in 1:3){\n",
    "        sig[k] = sqrt( 1.0 / prec[k])\n",
    "    }\n",
    "} \""
   ]
  },
  {
   "cell_type": "code",
   "execution_count": 32,
   "metadata": {},
   "outputs": [],
   "source": [
    "# Parameters to be estimated.\n",
    "\n",
    "params_1 = c(\"mu\", \"sig\")"
   ]
  },
  {
   "cell_type": "code",
   "execution_count": 33,
   "metadata": {},
   "outputs": [],
   "source": [
    "# Initialization of the model parameters\n",
    "\n",
    "inits_1 = function(){\n",
    "    inits = list(\"mu\" = rnorm(3, 0.0, 100.0), \n",
    "                 \"prec\" = rgamma(3, 1.0, 1.0))\n",
    "}"
   ]
  },
  {
   "cell_type": "code",
   "execution_count": 34,
   "metadata": {},
   "outputs": [
    {
     "name": "stdout",
     "output_type": "stream",
     "text": [
      "Compiling model graph\n",
      "   Resolving undeclared variables\n",
      "   Allocating nodes\n",
      "Graph information:\n",
      "   Observed stochastic nodes: 30\n",
      "   Unobserved stochastic nodes: 6\n",
      "   Total graph size: 80\n",
      "\n",
      "Initializing model\n",
      "\n"
     ]
    }
   ],
   "source": [
    "#JAGS Model\n",
    "\n",
    "mod_1 = jags.model(textConnection(mod_1_str), \n",
    "                   data = data_jags, \n",
    "                   inits = inits_1, \n",
    "                   n.chains = 3)"
   ]
  },
  {
   "cell_type": "code",
   "execution_count": 35,
   "metadata": {},
   "outputs": [],
   "source": [
    "# Burn In\n",
    "\n",
    "update(mod_1, 1e3)"
   ]
  },
  {
   "cell_type": "code",
   "execution_count": 36,
   "metadata": {},
   "outputs": [],
   "source": [
    "# Monte Carlo Simulations\n",
    "\n",
    "mod_1_sim = coda.samples(model = mod_1, \n",
    "                         variable.names = params_1, \n",
    "                         n.iter = 1e4)"
   ]
  },
  {
   "cell_type": "code",
   "execution_count": 37,
   "metadata": {},
   "outputs": [],
   "source": [
    "# Combine the Chains\n",
    "\n",
    "mod_1_csim = as.mcmc(do.call(rbind, mod_1_sim))"
   ]
  },
  {
   "cell_type": "markdown",
   "metadata": {},
   "source": [
    "### Model Checking"
   ]
  },
  {
   "cell_type": "code",
   "execution_count": 38,
   "metadata": {
    "scrolled": false
   },
   "outputs": [
    {
     "data": {
      "image/png": "[encoded data removed]",
      "text/plain": [
       "Plot with title \"Density of mu[3]\""
      ]
     },
     "metadata": {},
     "output_type": "display_data"
    },
    {
     "data": {
      "image/png": "[encoded data removed]",
      "text/plain": [
       "Plot with title \"Density of sig[3]\""
      ]
     },
     "metadata": {},
     "output_type": "display_data"
    }
   ],
   "source": [
    "options(repr.plot.width=8, repr.plot.height=6)\n",
    "\n",
    "plot(mod_1_sim)"
   ]
  },
  {
   "cell_type": "code",
   "execution_count": 39,
   "metadata": {},
   "outputs": [
    {
     "data": {
      "text/plain": [
       "Potential scale reduction factors:\n",
       "\n",
       "       Point est. Upper C.I.\n",
       "mu[1]           1          1\n",
       "mu[2]           1          1\n",
       "mu[3]           1          1\n",
       "sig[1]          1          1\n",
       "sig[2]          1          1\n",
       "sig[3]          1          1\n",
       "\n",
       "Multivariate psrf\n",
       "\n",
       "1"
      ]
     },
     "metadata": {},
     "output_type": "display_data"
    }
   ],
   "source": [
    "gelman.diag(mod_1_sim)"
   ]
  },
  {
   "cell_type": "code",
   "execution_count": 40,
   "metadata": {},
   "outputs": [
    {
     "data": {
      "text/html": [
       "<table>\n",
       "<thead><tr><th></th><th scope=col>mu[1]</th><th scope=col>mu[2]</th><th scope=col>mu[3]</th><th scope=col>sig[1]</th><th scope=col>sig[2]</th><th scope=col>sig[3]</th></tr></thead>\n",
       "<tbody>\n",
       "\t<tr><th scope=row>Lag 0</th><td> 1.0000000000</td><td> 1.000000000 </td><td>1.000000000  </td><td> 1.0000000000</td><td> 1.000000000 </td><td> 1.000000000 </td></tr>\n",
       "\t<tr><th scope=row>Lag 1</th><td>-0.0017066262</td><td>-0.014720993 </td><td>0.001057329  </td><td> 0.0593338006</td><td> 0.082712511 </td><td> 0.078374284 </td></tr>\n",
       "\t<tr><th scope=row>Lag 5</th><td> 0.0123631233</td><td> 0.003907868 </td><td>0.001033481  </td><td> 0.0009507277</td><td>-0.000724416 </td><td>-0.015881019 </td></tr>\n",
       "\t<tr><th scope=row>Lag 10</th><td> 0.0023098485</td><td>-0.005952179 </td><td>0.003676434  </td><td>-0.0036191356</td><td> 0.007344449 </td><td>-0.011033490 </td></tr>\n",
       "\t<tr><th scope=row>Lag 50</th><td>-0.0002786602</td><td>-0.002535718 </td><td>0.001647979  </td><td>-0.0047669559</td><td> 0.003023991 </td><td> 0.001728805 </td></tr>\n",
       "</tbody>\n",
       "</table>\n"
      ],
      "text/latex": [
       "\\begin{tabular}{r|llllll}\n",
       "  & mu{[}1{]} & mu{[}2{]} & mu{[}3{]} & sig{[}1{]} & sig{[}2{]} & sig{[}3{]}\\\\\n",
       "\\hline\n",
       "\tLag 0 &  1.0000000000 &  1.000000000  & 1.000000000   &  1.0000000000 &  1.000000000  &  1.000000000 \\\\\n",
       "\tLag 1 & -0.0017066262 & -0.014720993  & 0.001057329   &  0.0593338006 &  0.082712511  &  0.078374284 \\\\\n",
       "\tLag 5 &  0.0123631233 &  0.003907868  & 0.001033481   &  0.0009507277 & -0.000724416  & -0.015881019 \\\\\n",
       "\tLag 10 &  0.0023098485 & -0.005952179  & 0.003676434   & -0.0036191356 &  0.007344449  & -0.011033490 \\\\\n",
       "\tLag 50 & -0.0002786602 & -0.002535718  & 0.001647979   & -0.0047669559 &  0.003023991  &  0.001728805 \\\\\n",
       "\\end{tabular}\n"
      ],
      "text/markdown": [
       "\n",
       "| <!--/--> | mu[1] | mu[2] | mu[3] | sig[1] | sig[2] | sig[3] |\n",
       "|---|---|---|---|---|---|---|\n",
       "| Lag 0 |  1.0000000000 |  1.000000000  | 1.000000000   |  1.0000000000 |  1.000000000  |  1.000000000  |\n",
       "| Lag 1 | -0.0017066262 | -0.014720993  | 0.001057329   |  0.0593338006 |  0.082712511  |  0.078374284  |\n",
       "| Lag 5 |  0.0123631233 |  0.003907868  | 0.001033481   |  0.0009507277 | -0.000724416  | -0.015881019  |\n",
       "| Lag 10 |  0.0023098485 | -0.005952179  | 0.003676434   | -0.0036191356 |  0.007344449  | -0.011033490  |\n",
       "| Lag 50 | -0.0002786602 | -0.002535718  | 0.001647979   | -0.0047669559 |  0.003023991  |  0.001728805  |\n",
       "\n"
      ],
      "text/plain": [
       "       mu[1]         mu[2]        mu[3]       sig[1]        sig[2]      \n",
       "Lag 0   1.0000000000  1.000000000 1.000000000  1.0000000000  1.000000000\n",
       "Lag 1  -0.0017066262 -0.014720993 0.001057329  0.0593338006  0.082712511\n",
       "Lag 5   0.0123631233  0.003907868 0.001033481  0.0009507277 -0.000724416\n",
       "Lag 10  0.0023098485 -0.005952179 0.003676434 -0.0036191356  0.007344449\n",
       "Lag 50 -0.0002786602 -0.002535718 0.001647979 -0.0047669559  0.003023991\n",
       "       sig[3]      \n",
       "Lag 0   1.000000000\n",
       "Lag 1   0.078374284\n",
       "Lag 5  -0.015881019\n",
       "Lag 10 -0.011033490\n",
       "Lag 50  0.001728805"
      ]
     },
     "metadata": {},
     "output_type": "display_data"
    }
   ],
   "source": [
    "autocorr.diag(mod_1_sim)"
   ]
  },
  {
   "cell_type": "code",
   "execution_count": 41,
   "metadata": {},
   "outputs": [
    {
     "data": {
      "text/html": [
       "<dl class=dl-horizontal>\n",
       "\t<dt>mu[1]</dt>\n",
       "\t\t<dd>29551.5518727401</dd>\n",
       "\t<dt>mu[2]</dt>\n",
       "\t\t<dd>30460.037302192</dd>\n",
       "\t<dt>mu[3]</dt>\n",
       "\t\t<dd>30000</dd>\n",
       "\t<dt>sig[1]</dt>\n",
       "\t\t<dd>26032.9552146216</dd>\n",
       "\t<dt>sig[2]</dt>\n",
       "\t\t<dd>25138.4429542039</dd>\n",
       "\t<dt>sig[3]</dt>\n",
       "\t\t<dd>26124.1465061743</dd>\n",
       "</dl>\n"
      ],
      "text/latex": [
       "\\begin{description*}\n",
       "\\item[mu\\{{[}\\}1\\{{]}\\}] 29551.5518727401\n",
       "\\item[mu\\{{[}\\}2\\{{]}\\}] 30460.037302192\n",
       "\\item[mu\\{{[}\\}3\\{{]}\\}] 30000\n",
       "\\item[sig\\{{[}\\}1\\{{]}\\}] 26032.9552146216\n",
       "\\item[sig\\{{[}\\}2\\{{]}\\}] 25138.4429542039\n",
       "\\item[sig\\{{[}\\}3\\{{]}\\}] 26124.1465061743\n",
       "\\end{description*}\n"
      ],
      "text/markdown": [
       "mu[1]\n",
       ":   29551.5518727401mu[2]\n",
       ":   30460.037302192mu[3]\n",
       ":   30000sig[1]\n",
       ":   26032.9552146216sig[2]\n",
       ":   25138.4429542039sig[3]\n",
       ":   26124.1465061743\n",
       "\n"
      ],
      "text/plain": [
       "   mu[1]    mu[2]    mu[3]   sig[1]   sig[2]   sig[3] \n",
       "29551.55 30460.04 30000.00 26032.96 25138.44 26124.15 "
      ]
     },
     "metadata": {},
     "output_type": "display_data"
    }
   ],
   "source": [
    "effectiveSize(mod_1_sim)"
   ]
  },
  {
   "cell_type": "markdown",
   "metadata": {},
   "source": [
    "### Residual Checking"
   ]
  },
  {
   "cell_type": "code",
   "execution_count": 42,
   "metadata": {},
   "outputs": [
    {
     "data": {
      "text/html": [
       "<dl class=dl-horizontal>\n",
       "\t<dt>mu[1]</dt>\n",
       "\t\t<dd>5.03089532824255</dd>\n",
       "\t<dt>mu[2]</dt>\n",
       "\t\t<dd>4.66310124439011</dd>\n",
       "\t<dt>mu[3]</dt>\n",
       "\t\t<dd>5.5253303813157</dd>\n",
       "\t<dt>sig[1]</dt>\n",
       "\t\t<dd>0.803637340433974</dd>\n",
       "\t<dt>sig[2]</dt>\n",
       "\t\t<dd>0.924217072434904</dd>\n",
       "\t<dt>sig[3]</dt>\n",
       "\t\t<dd>0.735610764346581</dd>\n",
       "</dl>\n"
      ],
      "text/latex": [
       "\\begin{description*}\n",
       "\\item[mu\\{{[}\\}1\\{{]}\\}] 5.03089532824255\n",
       "\\item[mu\\{{[}\\}2\\{{]}\\}] 4.66310124439011\n",
       "\\item[mu\\{{[}\\}3\\{{]}\\}] 5.5253303813157\n",
       "\\item[sig\\{{[}\\}1\\{{]}\\}] 0.803637340433974\n",
       "\\item[sig\\{{[}\\}2\\{{]}\\}] 0.924217072434904\n",
       "\\item[sig\\{{[}\\}3\\{{]}\\}] 0.735610764346581\n",
       "\\end{description*}\n"
      ],
      "text/markdown": [
       "mu[1]\n",
       ":   5.03089532824255mu[2]\n",
       ":   4.66310124439011mu[3]\n",
       ":   5.5253303813157sig[1]\n",
       ":   0.803637340433974sig[2]\n",
       ":   0.924217072434904sig[3]\n",
       ":   0.735610764346581\n",
       "\n"
      ],
      "text/plain": [
       "    mu[1]     mu[2]     mu[3]    sig[1]    sig[2]    sig[3] \n",
       "5.0308953 4.6631012 5.5253304 0.8036373 0.9242171 0.7356108 "
      ]
     },
     "metadata": {},
     "output_type": "display_data"
    }
   ],
   "source": [
    "# Posterior Mean of Parameters\n",
    "\n",
    "pm_params = colMeans(mod_1_csim)\n",
    "pm_params"
   ]
  },
  {
   "cell_type": "code",
   "execution_count": 43,
   "metadata": {},
   "outputs": [
    {
     "data": {
      "text/html": [
       "<dl class=dl-horizontal>\n",
       "\t<dt>mu[1]</dt>\n",
       "\t\t<dd>5.03378720207764</dd>\n",
       "\t<dt>mu[2]</dt>\n",
       "\t\t<dd>4.66314220803695</dd>\n",
       "\t<dt>mu[3]</dt>\n",
       "\t\t<dd>5.52472253455572</dd>\n",
       "\t<dt>sig</dt>\n",
       "\t\t<dd>0.712274748000273</dd>\n",
       "</dl>\n"
      ],
      "text/latex": [
       "\\begin{description*}\n",
       "\\item[mu\\{{[}\\}1\\{{]}\\}] 5.03378720207764\n",
       "\\item[mu\\{{[}\\}2\\{{]}\\}] 4.66314220803695\n",
       "\\item[mu\\{{[}\\}3\\{{]}\\}] 5.52472253455572\n",
       "\\item[sig] 0.712274748000273\n",
       "\\end{description*}\n"
      ],
      "text/markdown": [
       "mu[1]\n",
       ":   5.03378720207764mu[2]\n",
       ":   4.66314220803695mu[3]\n",
       ":   5.52472253455572sig\n",
       ":   0.712274748000273\n",
       "\n"
      ],
      "text/plain": [
       "    mu[1]     mu[2]     mu[3]       sig \n",
       "5.0337872 4.6631422 5.5247225 0.7122747 "
      ]
     },
     "metadata": {},
     "output_type": "display_data"
    }
   ],
   "source": [
    "# Old Posterior Means\n",
    "colMeans(mod_0_csim)"
   ]
  },
  {
   "cell_type": "code",
   "execution_count": 44,
   "metadata": {},
   "outputs": [],
   "source": [
    "# Here we can see that the three means are not changed much, but Now we have separeate variability for each parameter."
   ]
  },
  {
   "cell_type": "code",
   "execution_count": 45,
   "metadata": {},
   "outputs": [],
   "source": [
    "yhat = pm_params[1:3][data_jags$grp]\n",
    "resid = data_jags$y - yhat"
   ]
  },
  {
   "cell_type": "code",
   "execution_count": 46,
   "metadata": {},
   "outputs": [
    {
     "data": {
      "image/png": "[encoded data removed]",
      "text/plain": [
       "plot without title"
      ]
     },
     "metadata": {},
     "output_type": "display_data"
    }
   ],
   "source": [
    "options(repr.plot.width=8, repr.plot.height=3)\n",
    "\n",
    "plot(resid)"
   ]
  },
  {
   "cell_type": "code",
   "execution_count": 47,
   "metadata": {},
   "outputs": [
    {
     "data": {
      "image/png": "[encoded data removed]",
      "text/plain": [
       "plot without title"
      ]
     },
     "metadata": {},
     "output_type": "display_data"
    }
   ],
   "source": [
    "plot(yhat, resid)"
   ]
  },
  {
   "cell_type": "markdown",
   "metadata": {},
   "source": [
    "## Model Comparision"
   ]
  },
  {
   "cell_type": "code",
   "execution_count": 49,
   "metadata": {},
   "outputs": [
    {
     "data": {
      "text/plain": [
       "Mean deviance:  59.04 \n",
       "penalty 4.147 \n",
       "Penalized deviance: 63.19 "
      ]
     },
     "metadata": {},
     "output_type": "display_data"
    }
   ],
   "source": [
    "dic.samples(mod_0, n.iter = 1e4)"
   ]
  },
  {
   "cell_type": "code",
   "execution_count": 50,
   "metadata": {},
   "outputs": [
    {
     "data": {
      "text/plain": [
       "Mean deviance:  61.25 \n",
       "penalty 5.767 \n",
       "Penalized deviance: 67.02 "
      ]
     },
     "metadata": {},
     "output_type": "display_data"
    }
   ],
   "source": [
    "dic.samples(mod_1, n.iter = 1e4)"
   ]
  },
  {
   "cell_type": "code",
   "execution_count": null,
   "metadata": {},
   "outputs": [],
   "source": []
  }
 ],
 "metadata": {
  "kernelspec": {
   "display_name": "R",
   "language": "R",
   "name": "ir"
  },
  "language_info": {
   "codemirror_mode": "r",
   "file_extension": ".r",
   "mimetype": "text/x-r-source",
   "name": "R",
   "pygments_lexer": "r",
   "version": "3.4.3"
  }
 },
 "nbformat": 4,
 "nbformat_minor": 2
}
