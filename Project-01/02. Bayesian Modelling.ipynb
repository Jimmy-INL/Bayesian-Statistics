{
 "cells": [
  {
   "cell_type": "markdown",
   "metadata": {},
   "source": [
    "# Read Data"
   ]
  },
  {
   "cell_type": "code",
   "execution_count": 1,
   "metadata": {},
   "outputs": [],
   "source": [
    "df <- read.table('./Dataset/fertility_Diagnosis.txt', sep = \",\")\n",
    "attrbs = c('season','age','childhood_disease','trauma','surgeries','high_fever','alcoholic','smoking','sitting','diag_result')\n",
    "colnames(df) <- attrbs\n",
    "\n",
    "df <- transform(df, season = as.factor(season), \n",
    "                    childhood_disease = as.factor(childhood_disease),\n",
    "                    trauma = as.factor(trauma),\n",
    "                    surgeries = as.factor(surgeries),\n",
    "                    high_fever = as.factor(high_fever), \n",
    "                    alcoholic = as.factor(alcoholic),\n",
    "                    smoking = as.factor(smoking), \n",
    "                    diag_result = as.factor(diag_result))"
   ]
  },
  {
   "cell_type": "code",
   "execution_count": 2,
   "metadata": {},
   "outputs": [
    {
     "data": {
      "text/html": [
       "<table>\n",
       "<thead><tr><th scope=col>season</th><th scope=col>age</th><th scope=col>childhood_disease</th><th scope=col>trauma</th><th scope=col>surgeries</th><th scope=col>high_fever</th><th scope=col>alcoholic</th><th scope=col>smoking</th><th scope=col>sitting</th><th scope=col>diag_result</th></tr></thead>\n",
       "<tbody>\n",
       "\t<tr><td>-0.33</td><td>0.69 </td><td>0    </td><td>1    </td><td>1    </td><td>0    </td><td>0.8  </td><td>0    </td><td>0.88 </td><td>N    </td></tr>\n",
       "\t<tr><td>-0.33</td><td>0.94 </td><td>1    </td><td>0    </td><td>1    </td><td>0    </td><td>0.8  </td><td>1    </td><td>0.31 </td><td>O    </td></tr>\n",
       "\t<tr><td>-0.33</td><td>0.50 </td><td>1    </td><td>0    </td><td>0    </td><td>0    </td><td>1    </td><td>-1   </td><td>0.50 </td><td>N    </td></tr>\n",
       "\t<tr><td>-0.33</td><td>0.75 </td><td>0    </td><td>1    </td><td>1    </td><td>0    </td><td>1    </td><td>-1   </td><td>0.38 </td><td>N    </td></tr>\n",
       "\t<tr><td>-0.33</td><td>0.67 </td><td>1    </td><td>1    </td><td>0    </td><td>0    </td><td>0.8  </td><td>-1   </td><td>0.50 </td><td>O    </td></tr>\n",
       "\t<tr><td>-0.33</td><td>0.67 </td><td>1    </td><td>0    </td><td>1    </td><td>0    </td><td>0.8  </td><td>0    </td><td>0.50 </td><td>N    </td></tr>\n",
       "</tbody>\n",
       "</table>\n"
      ],
      "text/latex": [
       "\\begin{tabular}{r|llllllllll}\n",
       " season & age & childhood\\_disease & trauma & surgeries & high\\_fever & alcoholic & smoking & sitting & diag\\_result\\\\\n",
       "\\hline\n",
       "\t -0.33 & 0.69  & 0     & 1     & 1     & 0     & 0.8   & 0     & 0.88  & N    \\\\\n",
       "\t -0.33 & 0.94  & 1     & 0     & 1     & 0     & 0.8   & 1     & 0.31  & O    \\\\\n",
       "\t -0.33 & 0.50  & 1     & 0     & 0     & 0     & 1     & -1    & 0.50  & N    \\\\\n",
       "\t -0.33 & 0.75  & 0     & 1     & 1     & 0     & 1     & -1    & 0.38  & N    \\\\\n",
       "\t -0.33 & 0.67  & 1     & 1     & 0     & 0     & 0.8   & -1    & 0.50  & O    \\\\\n",
       "\t -0.33 & 0.67  & 1     & 0     & 1     & 0     & 0.8   & 0     & 0.50  & N    \\\\\n",
       "\\end{tabular}\n"
      ],
      "text/markdown": [
       "\n",
       "| season | age | childhood_disease | trauma | surgeries | high_fever | alcoholic | smoking | sitting | diag_result |\n",
       "|---|---|---|---|---|---|---|---|---|---|\n",
       "| -0.33 | 0.69  | 0     | 1     | 1     | 0     | 0.8   | 0     | 0.88  | N     |\n",
       "| -0.33 | 0.94  | 1     | 0     | 1     | 0     | 0.8   | 1     | 0.31  | O     |\n",
       "| -0.33 | 0.50  | 1     | 0     | 0     | 0     | 1     | -1    | 0.50  | N     |\n",
       "| -0.33 | 0.75  | 0     | 1     | 1     | 0     | 1     | -1    | 0.38  | N     |\n",
       "| -0.33 | 0.67  | 1     | 1     | 0     | 0     | 0.8   | -1    | 0.50  | O     |\n",
       "| -0.33 | 0.67  | 1     | 0     | 1     | 0     | 0.8   | 0     | 0.50  | N     |\n",
       "\n"
      ],
      "text/plain": [
       "  season age  childhood_disease trauma surgeries high_fever alcoholic smoking\n",
       "1 -0.33  0.69 0                 1      1         0          0.8       0      \n",
       "2 -0.33  0.94 1                 0      1         0          0.8       1      \n",
       "3 -0.33  0.50 1                 0      0         0          1         -1     \n",
       "4 -0.33  0.75 0                 1      1         0          1         -1     \n",
       "5 -0.33  0.67 1                 1      0         0          0.8       -1     \n",
       "6 -0.33  0.67 1                 0      1         0          0.8       0      \n",
       "  sitting diag_result\n",
       "1 0.88    N          \n",
       "2 0.31    O          \n",
       "3 0.50    N          \n",
       "4 0.38    N          \n",
       "5 0.50    O          \n",
       "6 0.50    N          "
      ]
     },
     "metadata": {},
     "output_type": "display_data"
    }
   ],
   "source": [
    "head(df)"
   ]
  },
  {
   "cell_type": "code",
   "execution_count": 3,
   "metadata": {},
   "outputs": [
    {
     "name": "stdout",
     "output_type": "stream",
     "text": [
      "'data.frame':\t100 obs. of  10 variables:\n",
      " $ season           : Factor w/ 4 levels \"-1\",\"-0.33\",\"0.33\",..: 2 2 2 2 2 2 2 2 4 4 ...\n",
      " $ age              : num  0.69 0.94 0.5 0.75 0.67 0.67 0.67 1 0.64 0.61 ...\n",
      " $ childhood_disease: Factor w/ 2 levels \"0\",\"1\": 1 2 2 1 2 2 1 2 1 2 ...\n",
      " $ trauma           : Factor w/ 2 levels \"0\",\"1\": 2 1 1 2 2 1 1 2 1 1 ...\n",
      " $ surgeries        : Factor w/ 2 levels \"0\",\"1\": 2 2 1 2 1 2 1 2 2 1 ...\n",
      " $ high_fever       : Factor w/ 3 levels \"-1\",\"0\",\"1\": 2 2 2 2 2 2 1 2 2 2 ...\n",
      " $ alcoholic        : Factor w/ 5 levels \"0.2\",\"0.4\",\"0.6\",..: 4 4 5 5 4 4 4 3 4 5 ...\n",
      " $ smoking          : Factor w/ 3 levels \"-1\",\"0\",\"1\": 2 3 1 1 1 2 1 1 1 1 ...\n",
      " $ sitting          : num  0.88 0.31 0.5 0.38 0.5 0.5 0.44 0.38 0.25 0.25 ...\n",
      " $ diag_result      : Factor w/ 2 levels \"N\",\"O\": 1 2 1 1 2 1 1 1 1 1 ...\n"
     ]
    }
   ],
   "source": [
    "str(df)"
   ]
  },
  {
   "cell_type": "code",
   "execution_count": 5,
   "metadata": {},
   "outputs": [],
   "source": [
    "library(\"rjags\")\n",
    "library(\"coda\")"
   ]
  },
  {
   "cell_type": "code",
   "execution_count": 23,
   "metadata": {},
   "outputs": [
    {
     "data": {
      "image/png": "[encoded data removed]",
      "text/plain": [
       "Plot with title \"Double Exponential Distribution\""
      ]
     },
     "metadata": {},
     "output_type": "display_data"
    }
   ],
   "source": [
    "# The prior which I'm going to use is double exponential prior or Laplacian Prior. It favous values near zero.\n",
    "\n",
    "ddexp = function(x, mu, tau){\n",
    "    0.5*tau*exp(-tau*abs(x-mu))\n",
    "}\n",
    "\n",
    "rdexp = function(n, mu, tau){\n",
    "    x = rnorm(n, 0.0, tau/sqrt(2))\n",
    "    0.5*tau*exp(-tau*abs(x-mu))\n",
    "}\n",
    "\n",
    "options(repr.plot.width=8, repr.plot.height=5)\n",
    "\n",
    "curve(ddexp(x, mu=0, tau=1.0), from=-5.0, to=5.0, ylab=\"density\", main=\"Double Exponential Distribution\")\n",
    "curve(dnorm(x, mean=0, sd=1.0), from=-5.0, to=5.0, lty=2, add=TRUE)\n",
    "legend(\"topright\", legend = c(\"double exponential\", \"normal\"), lty=c(1, 2), bty=\"n\")"
   ]
  },
  {
   "cell_type": "markdown",
   "metadata": {},
   "source": [
    "# Multi Way Additive Model"
   ]
  },
  {
   "cell_type": "code",
   "execution_count": 76,
   "metadata": {},
   "outputs": [],
   "source": [
    "data_jags = list(\n",
    "                    isSeasonA = as.integer(df$season == -1),\n",
    "                    isSeasonB = as.integer(df$season == -0.33),\n",
    "                    isSeasonC = as.integer(df$season == 0.33),\n",
    "                    isSeasonD = as.integer(df$season == 1),\n",
    "                    age = df$age,\n",
    "                    isChildD = as.integer(df$childhood_disease)-1,\n",
    "                    isTrauma = as.integer(df$trauma)-1,\n",
    "                    isSurgery = as.integer(df$surgeries)-1,\n",
    "                    isHighFeverA = as.integer(df$high_fever == -1),\n",
    "                    isHighFeverB = as.integer(df$high_fever == 0),\n",
    "                    isHighFeverC = as.integer(df$high_fever == 1),\n",
    "                    isAlchoholicA = as.integer(df$alcoholic == 0.2),\n",
    "                    isAlchoholicB = as.integer(df$alcoholic == 0.4),\n",
    "                    isAlchoholicC = as.integer(df$alcoholic == 0.6),\n",
    "                    isAlchoholicD = as.integer(df$alcoholic == 0.8),\n",
    "                    isAlchoholicE = as.integer(df$alcoholic == 1),\n",
    "                    isSmokerA = as.integer(df$smoking == -1),\n",
    "                    isSmokerB = as.integer(df$smoking == 01),\n",
    "                    isSmokerC = as.integer(df$smoking == 1),\n",
    "                    sitting = df$sitting,\n",
    "                    result = as.integer(df$diag_result == 0)\n",
    "                )"
   ]
  },
  {
   "cell_type": "code",
   "execution_count": 77,
   "metadata": {},
   "outputs": [],
   "source": [
    "params = c(\"int\", \"beta\")"
   ]
  },
  {
   "cell_type": "code",
   "execution_count": 78,
   "metadata": {},
   "outputs": [],
   "source": [
    "inits = function(){\n",
    "    inits = list(\"int\" = rnorm(1,0.0,100.0),\n",
    "                 \"beta\" = rdexp(20, 0.0, 100.0))\n",
    "}"
   ]
  },
  {
   "cell_type": "code",
   "execution_count": 79,
   "metadata": {},
   "outputs": [
    {
     "name": "stdout",
     "output_type": "stream",
     "text": [
      "Compiling model graph\n",
      "   Resolving undeclared variables\n",
      "   Allocating nodes\n",
      "Graph information:\n",
      "   Observed stochastic nodes: 100\n",
      "   Unobserved stochastic nodes: 21\n",
      "   Total graph size: 2393\n",
      "\n",
      "Initializing model\n",
      "\n"
     ]
    }
   ],
   "source": [
    "mod1 = jags.model(file = \"Models//Model1.jags\", \n",
    "                  data = data_jags,\n",
    "                  inits = inits,\n",
    "                  n.chains = 3)"
   ]
  },
  {
   "cell_type": "code",
   "execution_count": 45,
   "metadata": {},
   "outputs": [],
   "source": [
    "update(mod1, 1e3)"
   ]
  },
  {
   "cell_type": "code",
   "execution_count": 48,
   "metadata": {},
   "outputs": [],
   "source": [
    "mod_1_sim = coda.samples(model = mod1, \n",
    "                         variable.names = params, \n",
    "                         n.iter = 1e4)"
   ]
  },
  {
   "cell_type": "code",
   "execution_count": 49,
   "metadata": {},
   "outputs": [],
   "source": [
    "mod_1_csim = as.mcmc(do.call(rbind, mod_1_sim))"
   ]
  },
  {
   "cell_type": "markdown",
   "metadata": {},
   "source": [
    "# Multi Way Cell Mean Model"
   ]
  },
  {
   "cell_type": "code",
   "execution_count": 7,
   "metadata": {},
   "outputs": [],
   "source": [
    "mod_3_str = \" model {\n",
    "    # Actual Bayesian Model Likelihood\n",
    "    for(i in 1:length(y)){\n",
    "        y[i] ~ dnorm(mu[woolGrp[i], tensGrp[i]], prec)\n",
    "    }\n",
    "\n",
    "    # Priors\n",
    "    for (j in 1:max(woolGrp)){\n",
    "        for (k in 1:max(tensGrp)){\n",
    "            mu[j, k] ~ dnorm(0.0, 1.0/1.0e6)\n",
    "    }}\n",
    "    prec ~ dgamma(3/2.0, 3*1.0/2.0)\n",
    "\n",
    "    # Variable dependent on Priors\n",
    "    sig = sqrt(1/prec)\n",
    "} \""
   ]
  },
  {
   "cell_type": "code",
   "execution_count": null,
   "metadata": {},
   "outputs": [],
   "source": []
  }
 ],
 "metadata": {
  "kernelspec": {
   "display_name": "R",
   "language": "R",
   "name": "ir"
  },
  "language_info": {
   "codemirror_mode": "r",
   "file_extension": ".r",
   "mimetype": "text/x-r-source",
   "name": "R",
   "pygments_lexer": "r",
   "version": "3.4.3"
  }
 },
 "nbformat": 4,
 "nbformat_minor": 2
}
