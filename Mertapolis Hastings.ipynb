{
 "cells": [
  {
   "cell_type": "markdown",
   "metadata": {},
   "source": [
    "Our posterior distribution is proportional to g distribution. We're simply calculating g distribution but for numerical stability we are using log scale."
   ]
  },
  {
   "cell_type": "code",
   "execution_count": 1,
   "metadata": {},
   "outputs": [],
   "source": [
    "log_gdist = function(mu, n, ybar)\n",
    "{\n",
    "    mu2 = mu^2\n",
    "    return (n*(ybar*mu - mu2/2.0) - log(1.0+mu2))\n",
    "}"
   ]
  },
  {
   "cell_type": "markdown",
   "metadata": {},
   "source": [
    "Now we have to write the naive implementation of metrapolis hasting algorithm."
   ]
  },
  {
   "cell_type": "code",
   "execution_count": 2,
   "metadata": {},
   "outputs": [],
   "source": [
    "metrapolis_hastings = function(n, ybar, n_iter, mu_init, cand_sd) \n",
    "{\n",
    "    ## step 1, initialize\n",
    "    mu_out = numeric(n_iter)\n",
    "    accpt = 0\n",
    "    mu_now = mu_init\n",
    "    lg_now = log_gdist(mu=mu_now, n=n, ybar=ybar)\n",
    "\n",
    "    ## step 2, iterate\n",
    "    for (i in 1:n_iter) \n",
    "    {\n",
    "        ## step 2a\n",
    "        mu_cand = rnorm(n=1, mean=mu_now, sd=cand_sd) # draw a candidate\n",
    "\n",
    "        ## step 2b\n",
    "        lg_cand = log_gdist(mu=mu_cand, n=n, ybar=ybar) # evaluate log of g with the candidate\n",
    "        lalpha = lg_cand - lg_now # log of acceptance ratio\n",
    "        alpha = exp(lalpha)\n",
    "\n",
    "        ## step 2c\n",
    "        u = runif(1) # draw a uniform variable which will be less than alpha with probability min(1, alpha)\n",
    "        if (u < alpha) \n",
    "        {\n",
    "          # then accept the candidate\n",
    "          mu_now = mu_cand\n",
    "          accpt = accpt + 1 # to keep track of acceptance\n",
    "          lg_now = lg_cand\n",
    "        }\n",
    "\n",
    "        ## collect results\n",
    "        mu_out[i] = mu_now # save this iteration's value of mu\n",
    "    }\n",
    "\n",
    "    ## return a list of output\n",
    "    list(mu=mu_out, accept_rate=accpt/n_iter)\n",
    "}"
   ]
  },
  {
   "cell_type": "markdown",
   "metadata": {},
   "source": [
    "Now test it with some case study"
   ]
  },
  {
   "cell_type": "code",
   "execution_count": 3,
   "metadata": {},
   "outputs": [],
   "source": [
    "y = c(1.2, 1.4, -0.5, 0.3, 0.9, 2.3, 1.0, 0.1, 1.3, 1.9)"
   ]
  },
  {
   "cell_type": "code",
   "execution_count": 4,
   "metadata": {},
   "outputs": [],
   "source": [
    "ybar = mean(y)\n",
    "n = length(y)"
   ]
  },
  {
   "cell_type": "code",
   "execution_count": 5,
   "metadata": {},
   "outputs": [
    {
     "data": {
      "image/png": "[encoded data removed]",
      "text/plain": [
       "Plot with title \"Histogram of y\""
      ]
     },
     "metadata": {},
     "output_type": "display_data"
    }
   ],
   "source": [
    "options(repr.plot.width = 5, repr.plot.height = 5)\n",
    "\n",
    "hist(y, freq=FALSE, xlim=c(-1.0, 3.0)) # histogram of the data\n",
    "curve(dt(x=x, df=1), lty=2, add=TRUE) # prior distribution for mu\n",
    "points(y, rep(0,n), pch=1) # individual data points\n",
    "points(ybar, 0, pch=19) # sample mean"
   ]
  },
  {
   "cell_type": "code",
   "execution_count": 6,
   "metadata": {},
   "outputs": [
    {
     "name": "stdout",
     "output_type": "stream",
     "text": [
      "List of 2\n",
      " $ mu         : num [1:1000] -0.113 1.507 1.507 1.507 1.507 ...\n",
      " $ accept_rate: num 0.122\n"
     ]
    }
   ],
   "source": [
    "set.seed(43) # set the random seed for reproducibility\n",
    "post = metrapolis_hastings(n=n, ybar=ybar, n_iter=1e3, mu_init=0.0, cand_sd=3.0)\n",
    "str(post)"
   ]
  },
  {
   "cell_type": "code",
   "execution_count": 7,
   "metadata": {},
   "outputs": [
    {
     "name": "stderr",
     "output_type": "stream",
     "text": [
      "Warning message:\n",
      "\"package 'coda' was built under R version 3.4.4\""
     ]
    },
    {
     "data": {
      "image/png": "[encoded data removed]",
      "text/plain": [
       "plot without title"
      ]
     },
     "metadata": {},
     "output_type": "display_data"
    }
   ],
   "source": [
    "library(\"coda\")\n",
    "traceplot(as.mcmc(post$mu))"
   ]
  },
  {
   "cell_type": "code",
   "execution_count": 8,
   "metadata": {},
   "outputs": [
    {
     "data": {
      "image/png": "[encoded data removed]",
      "text/plain": [
       "plot without title"
      ]
     },
     "metadata": {},
     "output_type": "display_data"
    }
   ],
   "source": [
    "post = metrapolis_hastings(n=n, ybar=ybar, n_iter=1e3, mu_init=0.0, cand_sd=0.05)\n",
    "\n",
    "traceplot(as.mcmc(post$mu))"
   ]
  },
  {
   "cell_type": "code",
   "execution_count": 9,
   "metadata": {},
   "outputs": [
    {
     "data": {
      "image/png": "[encoded data removed]",
      "text/plain": [
       "plot without title"
      ]
     },
     "metadata": {},
     "output_type": "display_data"
    }
   ],
   "source": [
    "post = metrapolis_hastings(n=n, ybar=ybar, n_iter=1e3, mu_init=0.0, cand_sd=0.9)\n",
    "\n",
    "traceplot(as.mcmc(post$mu))"
   ]
  },
  {
   "cell_type": "code",
   "execution_count": 10,
   "metadata": {},
   "outputs": [
    {
     "data": {
      "image/png": "[encoded data removed]",
      "text/plain": [
       "plot without title"
      ]
     },
     "metadata": {},
     "output_type": "display_data"
    }
   ],
   "source": [
    "post = metrapolis_hastings(n=n, ybar=ybar, n_iter=1e3, mu_init=30.0, cand_sd=0.9)\n",
    "\n",
    "traceplot(as.mcmc(post$mu))"
   ]
  },
  {
   "cell_type": "code",
   "execution_count": 11,
   "metadata": {},
   "outputs": [
    {
     "data": {
      "image/png": "[encoded data removed]",
      "text/plain": [
       "Plot with title \"\""
      ]
     },
     "metadata": {},
     "output_type": "display_data"
    }
   ],
   "source": [
    "post$mu_keep = post$mu[-c(1:100)] # discard the first 200 samples\n",
    "plot(density(post$mu_keep, adjust=2.0), main=\"\", xlim=c(-1.0, 3.0), xlab=expression(mu)) # plot density estimate of the posterior\n",
    "\n",
    "curve(dt(x=x, df=1), lty=2, add=TRUE) # prior distribution for mu\n",
    "points(y, rep(0,n), pch=1) # individual data points\n",
    "points(ybar, 0, pch=19) # sample mean\n",
    "\n",
    "curve(0.0141*exp(log_gdist(mu=x, n=n, ybar=ybar)), from=-1.0, to=3.0, add=TRUE, col=\"cyan\") # approximation to the true posterior in blue"
   ]
  },
  {
   "cell_type": "code",
   "execution_count": 12,
   "metadata": {},
   "outputs": [
    {
     "name": "stderr",
     "output_type": "stream",
     "text": [
      "Warning message:\n",
      "\"package 'pracma' was built under R version 3.4.4\""
     ]
    }
   ],
   "source": [
    "library(\"ggplot2\")\n",
    "library(\"pracma\") # for linspae"
   ]
  },
  {
   "cell_type": "code",
   "execution_count": 13,
   "metadata": {},
   "outputs": [],
   "source": [
    "x = linspace(-1.0,3.0,n)\n",
    "x1 = linspace(-1.0,3.0,10000)\n",
    "y1 = dt(x1, df = 1)"
   ]
  },
  {
   "cell_type": "code",
   "execution_count": 14,
   "metadata": {},
   "outputs": [
    {
     "name": "stderr",
     "output_type": "stream",
     "text": [
      "Warning message:\n",
      "\"Removed 1 rows containing missing values (geom_bar).\""
     ]
    },
    {
     "data": {
      "image/png": "[encoded data removed]",
      "text/plain": [
       "plot without title"
      ]
     },
     "metadata": {},
     "output_type": "display_data"
    }
   ],
   "source": [
    "options(repr.plot.width = 8, repr.plot.height = 5)\n",
    "\n",
    "ggplot(data=data.frame(x=x, y=y)) + \n",
    " geom_histogram(aes(x=y, y=2*..count../sum(..count..)), bins = 10, col=\"gray\") + \n",
    "  geom_line(data=data.frame(u=x1, v=y1), aes(x=u,y=v, color=\"cyan\"), linetype=\"longdash\") + \n",
    "   geom_point(x=y, y=0, colour=\"black\", fill=\"black\") +\n",
    "    geom_point(x=ybar, y=0, shape=21, size=4, color=\"black\", fill=\"gray\", alpha=0.5) + \n",
    "     geom_line(data=data.frame(u=x1, v=y1), aes(x=u, y=0.0140*exp(log_gdist(mu=u, n=n, ybar=ybar)), color=\"red\")) +\n",
    "      scale_colour_manual(name=\"Normalized Distributions\",values =c('cyan'='cyan','red'='red'), labels = c('Prior','Posterior'))+\n",
    "       xlim(-1.0,3.0)+\n",
    "        ylab(\"Probability\")+\n",
    "         xlab(\"Data Values\")"
   ]
  },
  {
   "cell_type": "code",
   "execution_count": null,
   "metadata": {},
   "outputs": [],
   "source": []
  }
 ],
 "metadata": {
  "kernelspec": {
   "display_name": "R",
   "language": "R",
   "name": "ir"
  },
  "language_info": {
   "codemirror_mode": "r",
   "file_extension": ".r",
   "mimetype": "text/x-r-source",
   "name": "R",
   "pygments_lexer": "r",
   "version": "3.4.3"
  }
 },
 "nbformat": 4,
 "nbformat_minor": 2
}
