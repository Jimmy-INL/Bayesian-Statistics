{
 "cells": [
  {
   "cell_type": "markdown",
   "metadata": {},
   "source": [
    "This is the given problem."
   ]
  },
  {
   "cell_type": "markdown",
   "metadata": {},
   "source": [
    "<img src=\"book2_img1.png\">"
   ]
  },
  {
   "cell_type": "markdown",
   "metadata": {},
   "source": [
    "On solving above question we recieve this posterior distribution."
   ]
  },
  {
   "cell_type": "markdown",
   "metadata": {},
   "source": [
    "<img src=\"book2_img2.png\">"
   ]
  },
  {
   "cell_type": "markdown",
   "metadata": {},
   "source": [
    "We know that in Gibbs sampling we keep all other parameter constant in posterior distribution, while determing the distribution other parameter."
   ]
  },
  {
   "cell_type": "markdown",
   "metadata": {},
   "source": [
    "<img src=\"book2_img3.png\">"
   ]
  },
  {
   "cell_type": "code",
   "execution_count": 2,
   "metadata": {},
   "outputs": [],
   "source": [
    "update_mu = function(n, ybar, sig2, mu_0, sig2_0){\n",
    "    sig2_1 = 1.0/(n/sig2_0 + 1.0/sig2_0)\n",
    "    mu_1 = sig2_1 * (n*ybar + mu_0/sig2_0)\n",
    "    \n",
    "    return (rnorm(n=1, mean = mu_1, sd = sig2_1))\n",
    "}"
   ]
  },
  {
   "cell_type": "markdown",
   "metadata": {},
   "source": [
    "<img src=\"book2_img4.png\">"
   ]
  },
  {
   "cell_type": "code",
   "execution_count": 3,
   "metadata": {},
   "outputs": [],
   "source": [
    "update_sig2 = function(n, y, mu, nu_0, beta_0){\n",
    "    nu_1 = nu_0 + n/2.0\n",
    "    beta_1 = beta_0 + 0.5*(sum((y-mu)^2))\n",
    "    \n",
    "    return (1.0/rgamma(n=1, shape = nu_1, rate = beta_1))\n",
    "}"
   ]
  },
  {
   "cell_type": "code",
   "execution_count": 14,
   "metadata": {},
   "outputs": [],
   "source": [
    "gibbs = function(y, n_iter, init, prior) {\n",
    "  ybar = mean(y)\n",
    "  n = length(y)\n",
    "  \n",
    "  ## initialize\n",
    "  mu_out = numeric(n_iter)\n",
    "  sig2_out = numeric(n_iter)\n",
    "  \n",
    "  mu_now = init$mu\n",
    "  \n",
    "  ## Gibbs sampler\n",
    "  for (i in 1:n_iter) {\n",
    "    sig2_now = update_sig2(n=n, y=y, mu=mu_now, nu_0=prior$nu_0, beta_0=prior$beta_0)\n",
    "    mu_now = update_mu(n=n, ybar=ybar, sig2=sig2_now, mu_0=prior$mu_0, sig2_0=prior$sig2_0)\n",
    "    \n",
    "    sig2_out[i] = sig2_now\n",
    "    mu_out[i] = mu_now\n",
    "  }\n",
    "  \n",
    "  cbind(mu=mu_out, sig2=sig2_out)\n",
    "}"
   ]
  },
  {
   "cell_type": "code",
   "execution_count": 15,
   "metadata": {},
   "outputs": [],
   "source": [
    "y = c(1.2, 1.4, -0.5, 0.3, 0.9, 2.3, 1.0, 0.1, 1.3, 1.9)\n",
    "ybar = mean(y)\n",
    "n = length(y)"
   ]
  },
  {
   "cell_type": "code",
   "execution_count": 16,
   "metadata": {},
   "outputs": [],
   "source": [
    "prior = list()\n",
    "\n",
    "prior$mu_0 = 0.0\n",
    "prior$sig2_0 = 1.0\n",
    "\n",
    "prior$n_0 = 2.0\n",
    "prior$s2_0 = 10\n",
    "\n",
    "prior$nu_0 = prior$n_0/2.0\n",
    "prior$beta_0 = prior$n_0 * prior$s2_0/2.0"
   ]
  },
  {
   "cell_type": "code",
   "execution_count": 17,
   "metadata": {},
   "outputs": [
    {
     "data": {
      "image/png": "[encoded data removed]",
      "text/plain": [
       "Plot with title \"Histogram of y\""
      ]
     },
     "metadata": {},
     "output_type": "display_data"
    }
   ],
   "source": [
    "options(repr.plot.width = 5, repr.plot.height = 5)\n",
    "\n",
    "hist(y, freq=FALSE, xlim=c(-1.0, 3.0)) # histogram of the data\n",
    "curve(dnorm(x=x, mean=prior$mu_0, sd=sqrt(prior$sig2_0)), lty=2, add=TRUE) # prior for mu\n",
    "points(y, rep(0,n), pch=1) # individual data points\n",
    "points(ybar, 0, pch=19) # sample mean"
   ]
  },
  {
   "cell_type": "code",
   "execution_count": 18,
   "metadata": {},
   "outputs": [],
   "source": [
    "set.seed(53)\n",
    "\n",
    "init = list()\n",
    "init$mu = 0.0\n",
    "\n",
    "post = gibbs(y=y, n_iter=1e3, init=init, prior=prior)"
   ]
  },
  {
   "cell_type": "code",
   "execution_count": 19,
   "metadata": {},
   "outputs": [
    {
     "name": "stdout",
     "output_type": "stream",
     "text": [
      "            mu     sig2\n",
      "[1,] 0.7785881 3.023284\n",
      "[2,] 0.7631336 1.884186\n",
      "[3,] 0.7427572 3.547209\n",
      "[4,] 0.9703840 2.415509\n",
      "[5,] 0.9288741 2.586753\n",
      "[6,] 0.9806420 2.504604\n",
      "               mu     sig2\n",
      " [995,] 0.8375700 1.736691\n",
      " [996,] 0.9144433 2.303617\n",
      " [997,] 0.8423144 1.466177\n",
      " [998,] 0.9098853 2.580635\n",
      " [999,] 0.8978522 2.585413\n",
      "[1000,] 0.9105273 2.843730\n"
     ]
    }
   ],
   "source": [
    "print(head(post))\n",
    "print(tail(post))"
   ]
  },
  {
   "cell_type": "code",
   "execution_count": 21,
   "metadata": {},
   "outputs": [],
   "source": [
    "library(\"coda\")"
   ]
  },
  {
   "cell_type": "code",
   "execution_count": 23,
   "metadata": {},
   "outputs": [
    {
     "data": {
      "image/png": "[encoded data removed]",
      "text/plain": [
       "Plot with title \"Density of sig2\""
      ]
     },
     "metadata": {},
     "output_type": "display_data"
    }
   ],
   "source": [
    "options(repr.plot.width = 8, repr.plot.height = 5)\n",
    "\n",
    "plot(as.mcmc(post))"
   ]
  },
  {
   "cell_type": "code",
   "execution_count": 24,
   "metadata": {},
   "outputs": [
    {
     "data": {
      "text/plain": [
       "\n",
       "Iterations = 1:1000\n",
       "Thinning interval = 1 \n",
       "Number of chains = 1 \n",
       "Sample size per chain = 1000 \n",
       "\n",
       "1. Empirical mean and standard deviation for each variable,\n",
       "   plus standard error of the mean:\n",
       "\n",
       "       Mean      SD Naive SE Time-series SE\n",
       "mu   0.8995 0.08874 0.002806       0.002806\n",
       "sig2 2.6512 1.32559 0.041919       0.041919\n",
       "\n",
       "2. Quantiles for each variable:\n",
       "\n",
       "       2.5%    25%    50%    75% 97.5%\n",
       "mu   0.7389 0.8383 0.8977 0.9597 1.075\n",
       "sig2 1.0833 1.8068 2.3212 3.1414 5.982\n"
      ]
     },
     "metadata": {},
     "output_type": "display_data"
    }
   ],
   "source": [
    "summary(as.mcmc(post))"
   ]
  },
  {
   "cell_type": "code",
   "execution_count": null,
   "metadata": {},
   "outputs": [],
   "source": []
  }
 ],
 "metadata": {
  "kernelspec": {
   "display_name": "R",
   "language": "R",
   "name": "ir"
  },
  "language_info": {
   "codemirror_mode": "r",
   "file_extension": ".r",
   "mimetype": "text/x-r-source",
   "name": "R",
   "pygments_lexer": "r",
   "version": "3.4.3"
  }
 },
 "nbformat": 4,
 "nbformat_minor": 2
}
