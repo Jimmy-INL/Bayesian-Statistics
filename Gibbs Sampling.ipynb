{
 "cells": [
  {
   "cell_type": "markdown",
   "metadata": {},
   "source": [
    "This is the given problem."
   ]
  },
  {
   "cell_type": "markdown",
   "metadata": {},
   "source": [
    "<img src=\"book2_img1.png\">"
   ]
  },
  {
   "cell_type": "markdown",
   "metadata": {},
   "source": [
    "On solving above question we recieve this posterior distribution."
   ]
  },
  {
   "cell_type": "markdown",
   "metadata": {},
   "source": [
    "<img src=\"book2_img2.png\">"
   ]
  },
  {
   "cell_type": "markdown",
   "metadata": {},
   "source": [
    "We know that in Gibbs sampling we keep all other parameter constant in posterior distribution, while determing the distribution other parameter."
   ]
  },
  {
   "cell_type": "markdown",
   "metadata": {},
   "source": [
    "<img src=\"book2_img3.png\">"
   ]
  },
  {
   "cell_type": "code",
   "execution_count": 1,
   "metadata": {},
   "outputs": [],
   "source": [
    "update_mu = function(n, ybar, sig2, mu_0, sig2_0) \n",
    "{\n",
    "  sig2_1 = 1.0 / (n / sig2 + 1.0 / sig2_0)\n",
    "  mu_1 = sig2_1 * (n * ybar / sig2 + mu_0 / sig2_0)\n",
    "  rnorm(n=1, mean=mu_1, sd=sqrt(sig2_1))\n",
    "}"
   ]
  },
  {
   "cell_type": "markdown",
   "metadata": {},
   "source": [
    "<img src=\"book2_img4.png\">"
   ]
  },
  {
   "cell_type": "code",
   "execution_count": 2,
   "metadata": {},
   "outputs": [],
   "source": [
    "update_sig2 = function(n, y, mu, nu_0, beta_0) \n",
    "{\n",
    "  nu_1 = nu_0 + n / 2.0\n",
    "  sumsq = sum( (y - mu)^2 ) # vectorized\n",
    "  beta_1 = beta_0 + sumsq / 2.0\n",
    "  out_gamma = rgamma(n=1, shape=nu_1, rate=beta_1) # rate for gamma is shape for inv-gamma\n",
    "  1.0 / out_gamma # reciprocal of a gamma random variable is distributed inv-gamma\n",
    "}"
   ]
  },
  {
   "cell_type": "code",
   "execution_count": 3,
   "metadata": {},
   "outputs": [],
   "source": [
    "gibbs = function(y, n_iter, init, prior) \n",
    "{\n",
    "  ybar = mean(y)\n",
    "  n = length(y)\n",
    "  \n",
    "  ## initialize\n",
    "  mu_out = numeric(n_iter)\n",
    "  sig2_out = numeric(n_iter)\n",
    "  \n",
    "  mu_now = init$mu\n",
    "  \n",
    "  ## Gibbs sampler\n",
    "  for (i in 1:n_iter) {\n",
    "    sig2_now = update_sig2(n=n, y=y, mu=mu_now, nu_0=prior$nu_0, beta_0=prior$beta_0)\n",
    "    mu_now = update_mu(n=n, ybar=ybar, sig2=sig2_now, mu_0=prior$mu_0, sig2_0=prior$sig2_0)\n",
    "    \n",
    "    sig2_out[i] = sig2_now\n",
    "    mu_out[i] = mu_now\n",
    "  }\n",
    "  \n",
    "  cbind(mu=mu_out, sig2=sig2_out)\n",
    "}"
   ]
  },
  {
   "cell_type": "code",
   "execution_count": 4,
   "metadata": {},
   "outputs": [],
   "source": [
    "y =  c(-0.2, -1.5, -5.3, 0.3, -0.8, -2.2)\n",
    "ybar = mean(y)\n",
    "n = length(y)"
   ]
  },
  {
   "cell_type": "code",
   "execution_count": 5,
   "metadata": {},
   "outputs": [],
   "source": [
    "prior = list()\n",
    "\n",
    "prior$mu_0 = 0.0\n",
    "prior$sig2_0 = 1.0\n",
    "\n",
    "prior$n_0 = 2.0 # prior effective sample size for sig2\n",
    "prior$s2_0 = 1.0 # prior point estimate for sig2\n",
    "\n",
    "prior$nu_0 = prior$n_0 / 2.0 # prior parameter for inverse-gamma\n",
    "prior$beta_0 = prior$n_0 * prior$s2_0 / 2.0 # prior parameter for inverse-gamma"
   ]
  },
  {
   "cell_type": "code",
   "execution_count": 6,
   "metadata": {},
   "outputs": [
    {
     "data": {
      "image/png": "[encoded data removed]",
      "text/plain": [
       "Plot with title \"Histogram of y\""
      ]
     },
     "metadata": {},
     "output_type": "display_data"
    }
   ],
   "source": [
    "options(repr.plot.width = 5, repr.plot.height = 5)\n",
    "\n",
    "hist(y, freq=FALSE, xlim=c(-10.0, 6.0), ylim=c(0,0.5)) # histogram of the data\n",
    "curve(dnorm(x=x, mean=prior$mu_0, sd=sqrt(prior$sig2_0)), lty=2, add=TRUE) # prior for mu\n",
    "points(y, rep(0,n), pch=1) # individual data points\n",
    "points(ybar, 0, pch=19) # sample mean"
   ]
  },
  {
   "cell_type": "code",
   "execution_count": 7,
   "metadata": {},
   "outputs": [],
   "source": [
    "set.seed(53)\n",
    "\n",
    "init = list()\n",
    "init$mu = 0.0\n",
    "\n",
    "post = gibbs(y=y, n_iter=5*1e3, init=init, prior=prior)"
   ]
  },
  {
   "cell_type": "code",
   "execution_count": 8,
   "metadata": {},
   "outputs": [
    {
     "data": {
      "text/html": [
       "-0.997586926856055"
      ],
      "text/latex": [
       "-0.997586926856055"
      ],
      "text/markdown": [
       "-0.997586926856055"
      ],
      "text/plain": [
       "[1] -0.9975869"
      ]
     },
     "metadata": {},
     "output_type": "display_data"
    }
   ],
   "source": [
    "mean(post[,1])"
   ]
  },
  {
   "cell_type": "code",
   "execution_count": 9,
   "metadata": {},
   "outputs": [
    {
     "name": "stdout",
     "output_type": "stream",
     "text": [
      "             mu     sig2\n",
      "[1,] -1.7858026 4.885669\n",
      "[2,] -1.9606294 2.334663\n",
      "[3,] -2.0428863 5.305703\n",
      "[4,] -0.5855074 3.276606\n",
      "[5,] -0.7150840 4.507891\n",
      "[6,] -0.3960046 4.094219\n",
      "                mu     sig2\n",
      "[4995,]  0.3001707 3.455744\n",
      "[4996,] -0.9282518 5.303145\n",
      "[4997,] -2.6937376 1.996002\n",
      "[4998,] -0.5709325 4.104430\n",
      "[4999,] -1.2900845 3.127013\n",
      "[5000,] -1.0584168 2.058387\n"
     ]
    }
   ],
   "source": [
    "print(head(post))\n",
    "print(tail(post))"
   ]
  },
  {
   "cell_type": "code",
   "execution_count": 10,
   "metadata": {},
   "outputs": [
    {
     "name": "stderr",
     "output_type": "stream",
     "text": [
      "Warning message:\n",
      "\"package 'coda' was built under R version 3.4.4\""
     ]
    }
   ],
   "source": [
    "library(\"coda\")"
   ]
  },
  {
   "cell_type": "code",
   "execution_count": 11,
   "metadata": {},
   "outputs": [
    {
     "data": {
      "image/png": "[encoded data removed]",
      "text/plain": [
       "Plot with title \"Density of sig2\""
      ]
     },
     "metadata": {},
     "output_type": "display_data"
    }
   ],
   "source": [
    "options(repr.plot.width = 8, repr.plot.height = 5)\n",
    "\n",
    "plot(as.mcmc(post))"
   ]
  },
  {
   "cell_type": "code",
   "execution_count": 12,
   "metadata": {},
   "outputs": [
    {
     "data": {
      "text/plain": [
       "\n",
       "Iterations = 1:5000\n",
       "Thinning interval = 1 \n",
       "Number of chains = 1 \n",
       "Sample size per chain = 5000 \n",
       "\n",
       "1. Empirical mean and standard deviation for each variable,\n",
       "   plus standard error of the mean:\n",
       "\n",
       "        Mean     SD Naive SE Time-series SE\n",
       "mu   -0.9976 0.6624 0.009368        0.01015\n",
       "sig2  4.5219 3.2775 0.046352        0.05135\n",
       "\n",
       "2. Quantiles for each variable:\n",
       "\n",
       "       2.5%    25%    50%     75%   97.5%\n",
       "mu   -2.218 -1.444 -1.042 -0.5762  0.4013\n",
       "sig2  1.419  2.506  3.596  5.4003 13.0080\n"
      ]
     },
     "metadata": {},
     "output_type": "display_data"
    }
   ],
   "source": [
    "summary(as.mcmc(post))"
   ]
  },
  {
   "cell_type": "code",
   "execution_count": null,
   "metadata": {},
   "outputs": [],
   "source": []
  }
 ],
 "metadata": {
  "kernelspec": {
   "display_name": "R",
   "language": "R",
   "name": "ir"
  },
  "language_info": {
   "codemirror_mode": "r",
   "file_extension": ".r",
   "mimetype": "text/x-r-source",
   "name": "R",
   "pygments_lexer": "r",
   "version": "3.4.3"
  }
 },
 "nbformat": 4,
 "nbformat_minor": 2
}
