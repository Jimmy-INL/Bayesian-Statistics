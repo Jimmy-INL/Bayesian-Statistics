{
 "cells": [
  {
   "cell_type": "markdown",
   "metadata": {},
   "source": [
    "Histograms of data often reveal that they do not follow any standard probability distribution. Sometimes we have explanatory variables (or covariates) to account for the different values, and normally distributed errors are adequate, as in normal regression. However, if we only have the data values themselves and no covariates, we might have to fit a non-standard distribution to the data. One way to do this is by mixing standard distributions.\n",
    "\n",
    "Mixture distributions are just a weighted combination of probability distribtuions. For example, we could take an exponential distribution with mean 1 and normal distribution with mean 3 and variance 1 (although typically the two mixture components would have the same support; here the exponential component has to be non-negative and the normal component can be positive or negative). Suppose we give them weights: 0.4 for the exponential distribution and 0.6 for the normal distribution. We could write the PDF for this distribution as\n",
    "<br>\n",
    "$$p(y) = 0.4 . exp(-y) . I_{(y>=0)} + 0.6 . \\frac{1}{\\sqrt{2\\pi}} exp(-\\frac{1}{2}(y-3)^{2})$$"
   ]
  },
  {
   "cell_type": "markdown",
   "metadata": {},
   "source": [
    "The PDF of this mixture distribution would look like this:"
   ]
  },
  {
   "cell_type": "code",
   "execution_count": 4,
   "metadata": {},
   "outputs": [
    {
     "data": {
      "image/png": "[encoded data removed]",
      "text/plain": [
       "Plot with title \"40/60 mixture of exponential and normal distributions\""
      ]
     },
     "metadata": {},
     "output_type": "display_data"
    }
   ],
   "source": [
    "options(repr.plot.width = 6, repr.plot.height=5)\n",
    "\n",
    "curve( 0.4*dexp(x, 1.0) + 0.6*dnorm(x, 3.0, 1.0), \n",
    "       from=-2.0, to=7.0, \n",
    "       ylab=\"density\", \n",
    "       xlab=\"y\", \n",
    "       main=\"40/60 mixture of exponential and normal distributions\", \n",
    "       lwd=2)"
   ]
  },
  {
   "cell_type": "markdown",
   "metadata": {},
   "source": [
    "We could think of these two distributions as governing two distinct populations, one following the exponential distribution and the other following the normal distribution.\n",
    "\n",
    "Let’s draw the weighted PDFs for each population."
   ]
  },
  {
   "cell_type": "code",
   "execution_count": 5,
   "metadata": {},
   "outputs": [
    {
     "data": {
      "image/png": "[encoded data removed]",
      "text/plain": [
       "Plot with title \"40/60 mixture of exponential and normal distributions\""
      ]
     },
     "metadata": {},
     "output_type": "display_data"
    }
   ],
   "source": [
    "curve( 0.4*dexp(x, 1.0) + 0.6*dnorm(x, 3.0, 1.0), \n",
    "       from=-2.0, to=7.0, \n",
    "       ylab=\"density\", \n",
    "       xlab=\"y\", \n",
    "       main=\"40/60 mixture of exponential and normal distributions\", \n",
    "       lwd=2)\n",
    "\n",
    "curve( 0.4*dexp(x, 1.0), \n",
    "       from=-2.0, \n",
    "       to=7.0, \n",
    "       col=\"red\", \n",
    "       lty=2, \n",
    "       add=TRUE)\n",
    "\n",
    "curve( 0.6*dnorm(x, 3.0, 1.0), \n",
    "       from=-2.0, to=7.0, \n",
    "       col=\"blue\", \n",
    "       lty=2, \n",
    "       add=TRUE)"
   ]
  },
  {
   "cell_type": "markdown",
   "metadata": {},
   "source": [
    "The general form for a discrete mixture of distributions is as follows:\n",
    "\n",
    "$$p(y) = \\sum_{j=1}^{J}w_{j}.f_{j}(y)$$\n",
    "\n",
    "where the $\\omega$’s are positive weights that add up to 1 (they are probabilities) and each of the J $f_{j}(y)$ functions is a PDF for some distribution. In the example above, the weights were 0.4 and 0.6, $f_{1}$ was an exponential PDF and $f_{2}$ was a normal PDF.\n",
    "\n",
    "One way to simulate from a mixture distribution is with a hierarchical model. We first simulate an indicator for which “population” the next observation will come from using the weights $\\omega$. Let’s call this $z_{i}$. In the example above, $z_{i}$ would take the value 1 (indicating the exponential distribution) with probability 0.4 and 2 (indicating the normal distribution) with probability 0.6. Next, simulate the observation yi from the distribution corresponding to $z_{i}$."
   ]
  },
  {
   "cell_type": "code",
   "execution_count": 45,
   "metadata": {},
   "outputs": [],
   "source": [
    "set.seed(117)\n",
    "n = 1000\n",
    "z = numeric(n)\n",
    "y = numeric(n)"
   ]
  },
  {
   "cell_type": "code",
   "execution_count": 52,
   "metadata": {},
   "outputs": [
    {
     "data": {
      "image/png": "[encoded data removed]",
      "text/plain": [
       "Plot with title \"Histogram of y\""
      ]
     },
     "metadata": {},
     "output_type": "display_data"
    }
   ],
   "source": [
    "for(i in 1:n)\n",
    "{\n",
    "    # returns a 1 with probability 0.4, or a 2 with probability 0.6\n",
    "    z[i] = sample.int(2, 1, prob = c(0.4, 0.6))\n",
    "    if(z[i] == 1)\n",
    "    {\n",
    "        y[i] = rexp(1, rate = 1.0)\n",
    "    }\n",
    "    else\n",
    "    {\n",
    "        y[i] = rnorm(1, mean = 3.0, sd = 1.0)\n",
    "    }\n",
    "}\n",
    "\n",
    "hist(y, breaks = 40)"
   ]
  },
  {
   "cell_type": "markdown",
   "metadata": {},
   "source": [
    "# Bayesian Inference for mixture models"
   ]
  },
  {
   "cell_type": "markdown",
   "metadata": {},
   "source": [
    "When we fit a mixture model to data, we usually only have the y values and do not know which “population” they belong to. Because the z variables are unobserved, they are called latent variables. We can treat them as parameters in a hierarchical model and perform Bayesian inference for them. The hierarchial model might look like this:"
   ]
  },
  {
   "cell_type": "markdown",
   "metadata": {},
   "source": [
    "$$ y_{i} \\, | \\, z_{i},\\theta \\, = \\, f_{z_{i}}(y \\, | \\, \\theta \\,) \\,\\,  i = 1,...,n $$<br>\n",
    "$$Pr(z_{i} | j,w)  = w_{j}, j = 1,...,J$$<br>\n",
    "$$ w ~ p(w)$$<br>\n",
    "$$ \\theta ~ p(\\theta)$$"
   ]
  },
  {
   "cell_type": "markdown",
   "metadata": {},
   "source": [
    "where we might use a Dirichlet prior (see the review of distributions in the supplementary material) for the weight vector ω and conjugate priors for the population-specific parameters in θ. With this model, we could obtain posterior distributions for z (population membership of the observations), ω (population weights), and θ (population-specific parameters in fj). Next, we will look at how to fit a mixture of two normal distributions in JAGS."
   ]
  },
  {
   "cell_type": "code",
   "execution_count": 58,
   "metadata": {},
   "outputs": [
    {
     "data": {
      "text/html": [
       "200"
      ],
      "text/latex": [
       "200"
      ],
      "text/markdown": [
       "200"
      ],
      "text/plain": [
       "[1] 200"
      ]
     },
     "metadata": {},
     "output_type": "display_data"
    }
   ],
   "source": [
    "dat = read.csv(\"mixture.csv\", header = FALSE)\n",
    "y = dat$V1\n",
    "(n = length(y))"
   ]
  },
  {
   "cell_type": "code",
   "execution_count": 59,
   "metadata": {},
   "outputs": [
    {
     "data": {
      "image/png": "[encoded data removed]",
      "text/plain": [
       "Plot with title \"Histogram of y\""
      ]
     },
     "metadata": {},
     "output_type": "display_data"
    }
   ],
   "source": [
    "hist(y, breaks = 40)"
   ]
  },
  {
   "cell_type": "code",
   "execution_count": 60,
   "metadata": {},
   "outputs": [
    {
     "data": {
      "image/png": "[encoded data removed]",
      "text/plain": [
       "Plot with title \"density.default(x = y)\""
      ]
     },
     "metadata": {},
     "output_type": "display_data"
    }
   ],
   "source": [
    "plot(density(y))"
   ]
  },
  {
   "cell_type": "markdown",
   "metadata": {},
   "source": [
    "It appears that we have two populations, but we do not know which population each observation belongs to. We can learn this, along with the mixture weights and population-specific parameters with a Bayesian hierarchical model.\n",
    "\n",
    "We will use a mixture of two normal distributions with variance 1 and different (and unknown) means."
   ]
  },
  {
   "cell_type": "code",
   "execution_count": 62,
   "metadata": {},
   "outputs": [],
   "source": [
    "library(\"rjags\")\n",
    "library(\"coda\")"
   ]
  },
  {
   "cell_type": "code",
   "execution_count": 63,
   "metadata": {},
   "outputs": [],
   "source": [
    "mod_string = \" model {\n",
    "    for(i in 1:length(y)){\n",
    "        y[i] ~ dnorm(mu[z[i]], prec)\n",
    "        z[i] ~ dcat(omega)\n",
    "    }\n",
    "    \n",
    "    mu[1] ~ dnorm(-1.0, 1.0/1e2)\n",
    "    mu[2] ~ dnorm(1.0, 1.0/1e2) T(mu[1],) # ensures mu[1] < mu[2]\n",
    "    \n",
    "    prec ~ dgamma(1.0/2.0, 1.0*1.0/2.0)\n",
    "    sig = sqrt(1.0/prec)\n",
    "\n",
    "    omega ~ ddirich(c(1.0, 1.0))\n",
    "} \""
   ]
  },
  {
   "cell_type": "code",
   "execution_count": 64,
   "metadata": {},
   "outputs": [],
   "source": [
    "set.seed(11)"
   ]
  },
  {
   "cell_type": "code",
   "execution_count": 65,
   "metadata": {},
   "outputs": [],
   "source": [
    "data_jags = list(y=y)"
   ]
  },
  {
   "cell_type": "code",
   "execution_count": 67,
   "metadata": {},
   "outputs": [
    {
     "name": "stdout",
     "output_type": "stream",
     "text": [
      "Compiling model graph\n",
      "   Resolving undeclared variables\n",
      "   Allocating nodes\n",
      "Graph information:\n",
      "   Observed stochastic nodes: 200\n",
      "   Unobserved stochastic nodes: 204\n",
      "   Total graph size: 614\n",
      "\n",
      "Initializing model\n",
      "\n"
     ]
    }
   ],
   "source": [
    "params = c(\"mu\", \"sig\", \"omega\", \"z[1]\", \"z[31]\", \"z[49]\", \"z[6]\") # Select some z's to monitor\n",
    "\n",
    "mod = jags.model(textConnection(mod_string), \n",
    "                 data=data_jags, \n",
    "                 n.chains=3)\n",
    "update(mod, 1e3)"
   ]
  },
  {
   "cell_type": "code",
   "execution_count": 68,
   "metadata": {},
   "outputs": [],
   "source": [
    "mod_sim = coda.samples(model=mod,\n",
    "                        variable.names=params,\n",
    "                        n.iter=5e4)\n",
    "\n",
    "mod_csim = as.mcmc(do.call(rbind, mod_sim))"
   ]
  },
  {
   "cell_type": "code",
   "execution_count": 71,
   "metadata": {
    "scrolled": false
   },
   "outputs": [
    {
     "data": {
      "image/png": "[encoded data removed]",
      "text/plain": [
       "Plot with title \"Density of omega[2]\""
      ]
     },
     "metadata": {},
     "output_type": "display_data"
    },
    {
     "data": {
      "image/png": "[encoded data removed]",
      "text/plain": [
       "Plot with title \"Density of z[49]\""
      ]
     },
     "metadata": {},
     "output_type": "display_data"
    },
    {
     "data": {
      "image/png": "[encoded data removed]",
      "text/plain": [
       "Plot with title \"Density of z[6]\""
      ]
     },
     "metadata": {},
     "output_type": "display_data"
    }
   ],
   "source": [
    "## convergence diagnostics\n",
    "options(repr.plot.height=8, repr.plot.width=8)\n",
    "\n",
    "plot(mod_sim, ask=TRUE)"
   ]
  },
  {
   "cell_type": "code",
   "execution_count": 74,
   "metadata": {},
   "outputs": [
    {
     "data": {
      "text/html": [
       "<table>\n",
       "<thead><tr><th></th><th scope=col>mu[1]</th><th scope=col>mu[2]</th><th scope=col>omega[1]</th><th scope=col>omega[2]</th><th scope=col>sig</th><th scope=col>z[1]</th><th scope=col>z[31]</th><th scope=col>z[49]</th><th scope=col>z[6]</th></tr></thead>\n",
       "<tbody>\n",
       "\t<tr><th scope=row>Lag 0</th><td> 1.0000000000</td><td>1.000000000  </td><td> 1.000000000 </td><td> 1.000000000 </td><td>1.000000000  </td><td> 1.0000000000</td><td>1.000000000  </td><td>1.000000000  </td><td>NaN          </td></tr>\n",
       "\t<tr><th scope=row>Lag 1</th><td> 0.5375137016</td><td>0.337068464  </td><td> 0.301288331 </td><td> 0.301288331 </td><td>0.412276050  </td><td> 0.0104342619</td><td>0.045269507  </td><td>0.032030184  </td><td>NaN          </td></tr>\n",
       "\t<tr><th scope=row>Lag 5</th><td> 0.0901124893</td><td>0.045502213  </td><td> 0.048129995 </td><td> 0.048129995 </td><td>0.025472982  </td><td> 0.0023636727</td><td>0.011222357  </td><td>0.007547503  </td><td>NaN          </td></tr>\n",
       "\t<tr><th scope=row>Lag 10</th><td> 0.0162052311</td><td>0.006589439  </td><td> 0.005219350 </td><td> 0.005219350 </td><td>0.007248161  </td><td>-0.0004810007</td><td>0.003227952  </td><td>0.001669320  </td><td>NaN          </td></tr>\n",
       "\t<tr><th scope=row>Lag 50</th><td>-0.0005593969</td><td>0.003371836  </td><td>-0.001345496 </td><td>-0.001345496 </td><td>0.003598277  </td><td> 0.0009532298</td><td>0.005597670  </td><td>0.003567014  </td><td>NaN          </td></tr>\n",
       "</tbody>\n",
       "</table>\n"
      ],
      "text/latex": [
       "\\begin{tabular}{r|lllllllll}\n",
       "  & mu{[}1{]} & mu{[}2{]} & omega{[}1{]} & omega{[}2{]} & sig & z{[}1{]} & z{[}31{]} & z{[}49{]} & z{[}6{]}\\\\\n",
       "\\hline\n",
       "\tLag 0 &  1.0000000000 & 1.000000000   &  1.000000000  &  1.000000000  & 1.000000000   &  1.0000000000 & 1.000000000   & 1.000000000   & NaN          \\\\\n",
       "\tLag 1 &  0.5375137016 & 0.337068464   &  0.301288331  &  0.301288331  & 0.412276050   &  0.0104342619 & 0.045269507   & 0.032030184   & NaN          \\\\\n",
       "\tLag 5 &  0.0901124893 & 0.045502213   &  0.048129995  &  0.048129995  & 0.025472982   &  0.0023636727 & 0.011222357   & 0.007547503   & NaN          \\\\\n",
       "\tLag 10 &  0.0162052311 & 0.006589439   &  0.005219350  &  0.005219350  & 0.007248161   & -0.0004810007 & 0.003227952   & 0.001669320   & NaN          \\\\\n",
       "\tLag 50 & -0.0005593969 & 0.003371836   & -0.001345496  & -0.001345496  & 0.003598277   &  0.0009532298 & 0.005597670   & 0.003567014   & NaN          \\\\\n",
       "\\end{tabular}\n"
      ],
      "text/markdown": [
       "\n",
       "| <!--/--> | mu[1] | mu[2] | omega[1] | omega[2] | sig | z[1] | z[31] | z[49] | z[6] |\n",
       "|---|---|---|---|---|---|---|---|---|---|\n",
       "| Lag 0 |  1.0000000000 | 1.000000000   |  1.000000000  |  1.000000000  | 1.000000000   |  1.0000000000 | 1.000000000   | 1.000000000   | NaN           |\n",
       "| Lag 1 |  0.5375137016 | 0.337068464   |  0.301288331  |  0.301288331  | 0.412276050   |  0.0104342619 | 0.045269507   | 0.032030184   | NaN           |\n",
       "| Lag 5 |  0.0901124893 | 0.045502213   |  0.048129995  |  0.048129995  | 0.025472982   |  0.0023636727 | 0.011222357   | 0.007547503   | NaN           |\n",
       "| Lag 10 |  0.0162052311 | 0.006589439   |  0.005219350  |  0.005219350  | 0.007248161   | -0.0004810007 | 0.003227952   | 0.001669320   | NaN           |\n",
       "| Lag 50 | -0.0005593969 | 0.003371836   | -0.001345496  | -0.001345496  | 0.003598277   |  0.0009532298 | 0.005597670   | 0.003567014   | NaN           |\n",
       "\n"
      ],
      "text/plain": [
       "       mu[1]         mu[2]       omega[1]     omega[2]     sig        \n",
       "Lag 0   1.0000000000 1.000000000  1.000000000  1.000000000 1.000000000\n",
       "Lag 1   0.5375137016 0.337068464  0.301288331  0.301288331 0.412276050\n",
       "Lag 5   0.0901124893 0.045502213  0.048129995  0.048129995 0.025472982\n",
       "Lag 10  0.0162052311 0.006589439  0.005219350  0.005219350 0.007248161\n",
       "Lag 50 -0.0005593969 0.003371836 -0.001345496 -0.001345496 0.003598277\n",
       "       z[1]          z[31]       z[49]       z[6]\n",
       "Lag 0   1.0000000000 1.000000000 1.000000000 NaN \n",
       "Lag 1   0.0104342619 0.045269507 0.032030184 NaN \n",
       "Lag 5   0.0023636727 0.011222357 0.007547503 NaN \n",
       "Lag 10 -0.0004810007 0.003227952 0.001669320 NaN \n",
       "Lag 50  0.0009532298 0.005597670 0.003567014 NaN "
      ]
     },
     "metadata": {},
     "output_type": "display_data"
    },
    {
     "data": {
      "text/html": [
       "<dl class=dl-horizontal>\n",
       "\t<dt>mu[1]</dt>\n",
       "\t\t<dd>38556.2006353834</dd>\n",
       "\t<dt>mu[2]</dt>\n",
       "\t\t<dd>55324.1250807214</dd>\n",
       "\t<dt>omega[1]</dt>\n",
       "\t\t<dd>56804.150071652</dd>\n",
       "\t<dt>omega[2]</dt>\n",
       "\t\t<dd>56804.150071652</dd>\n",
       "\t<dt>sig</dt>\n",
       "\t\t<dd>56842.3238433007</dd>\n",
       "\t<dt>z[1]</dt>\n",
       "\t\t<dd>139636.278788107</dd>\n",
       "\t<dt>z[31]</dt>\n",
       "\t\t<dd>119552.886006111</dd>\n",
       "\t<dt>z[49]</dt>\n",
       "\t\t<dd>130455.910773213</dd>\n",
       "\t<dt>z[6]</dt>\n",
       "\t\t<dd>99999.9999999709</dd>\n",
       "</dl>\n"
      ],
      "text/latex": [
       "\\begin{description*}\n",
       "\\item[mu\\{{[}\\}1\\{{]}\\}] 38556.2006353834\n",
       "\\item[mu\\{{[}\\}2\\{{]}\\}] 55324.1250807214\n",
       "\\item[omega\\{{[}\\}1\\{{]}\\}] 56804.150071652\n",
       "\\item[omega\\{{[}\\}2\\{{]}\\}] 56804.150071652\n",
       "\\item[sig] 56842.3238433007\n",
       "\\item[z\\{{[}\\}1\\{{]}\\}] 139636.278788107\n",
       "\\item[z\\{{[}\\}31\\{{]}\\}] 119552.886006111\n",
       "\\item[z\\{{[}\\}49\\{{]}\\}] 130455.910773213\n",
       "\\item[z\\{{[}\\}6\\{{]}\\}] 99999.9999999709\n",
       "\\end{description*}\n"
      ],
      "text/markdown": [
       "mu[1]\n",
       ":   38556.2006353834mu[2]\n",
       ":   55324.1250807214omega[1]\n",
       ":   56804.150071652omega[2]\n",
       ":   56804.150071652sig\n",
       ":   56842.3238433007z[1]\n",
       ":   139636.278788107z[31]\n",
       ":   119552.886006111z[49]\n",
       ":   130455.910773213z[6]\n",
       ":   99999.9999999709\n",
       "\n"
      ],
      "text/plain": [
       "    mu[1]     mu[2]  omega[1]  omega[2]       sig      z[1]     z[31]     z[49] \n",
       " 38556.20  55324.13  56804.15  56804.15  56842.32 139636.28 119552.89 130455.91 \n",
       "     z[6] \n",
       "100000.00 "
      ]
     },
     "metadata": {},
     "output_type": "display_data"
    }
   ],
   "source": [
    "autocorr.diag(mod_sim)\n",
    "effectiveSize(mod_sim)"
   ]
  },
  {
   "cell_type": "markdown",
   "metadata": {},
   "source": [
    "# Result"
   ]
  },
  {
   "cell_type": "code",
   "execution_count": 75,
   "metadata": {},
   "outputs": [
    {
     "data": {
      "text/plain": [
       "\n",
       "Iterations = 2001:52000\n",
       "Thinning interval = 1 \n",
       "Number of chains = 3 \n",
       "Sample size per chain = 50000 \n",
       "\n",
       "1. Empirical mean and standard deviation for each variable,\n",
       "   plus standard error of the mean:\n",
       "\n",
       "            Mean       SD  Naive SE Time-series SE\n",
       "mu[1]    -2.1239 0.167815 4.333e-04      8.552e-04\n",
       "mu[2]     1.4894 0.126273 3.260e-04      5.370e-04\n",
       "omega[1]  0.3872 0.040801 1.053e-04      1.713e-04\n",
       "omega[2]  0.6128 0.040801 1.053e-04      1.713e-04\n",
       "sig       1.1357 0.074074 1.913e-04      3.107e-04\n",
       "z[1]      1.0092 0.095440 2.464e-04      2.556e-04\n",
       "z[31]     1.5737 0.494543 1.277e-03      1.431e-03\n",
       "z[49]     1.8031 0.397627 1.027e-03      1.101e-03\n",
       "z[6]      2.0000 0.005164 1.333e-05      1.333e-05\n",
       "\n",
       "2. Quantiles for each variable:\n",
       "\n",
       "            2.5%     25%     50%     75%   97.5%\n",
       "mu[1]    -2.4511 -2.2360 -2.1244 -2.0124 -1.7921\n",
       "mu[2]     1.2374  1.4060  1.4907  1.5746  1.7335\n",
       "omega[1]  0.3086  0.3594  0.3868  0.4145  0.4685\n",
       "omega[2]  0.5315  0.5855  0.6132  0.6406  0.6914\n",
       "sig       1.0060  1.0839  1.1303  1.1815  1.2958\n",
       "z[1]      1.0000  1.0000  1.0000  1.0000  1.0000\n",
       "z[31]     1.0000  1.0000  2.0000  2.0000  2.0000\n",
       "z[49]     1.0000  2.0000  2.0000  2.0000  2.0000\n",
       "z[6]      2.0000  2.0000  2.0000  2.0000  2.0000\n"
      ]
     },
     "metadata": {},
     "output_type": "display_data"
    }
   ],
   "source": [
    "summary(mod_sim)"
   ]
  },
  {
   "cell_type": "code",
   "execution_count": 76,
   "metadata": {},
   "outputs": [
    {
     "data": {
      "image/png": "[encoded data removed]",
      "text/plain": [
       "Plot with title \"Density of sig\""
      ]
     },
     "metadata": {},
     "output_type": "display_data"
    }
   ],
   "source": [
    "par(mfrow=c(3,2))\n",
    "densplot(mod_csim[,c(\"mu[1]\", \"mu[2]\", \"omega[1]\", \"omega[2]\", \"sig\")])"
   ]
  },
  {
   "cell_type": "code",
   "execution_count": 82,
   "metadata": {
    "scrolled": false
   },
   "outputs": [
    {
     "data": {
      "image/png": "[encoded data removed]",
      "text/plain": [
       "Plot with title \"Density of z[6]\""
      ]
     },
     "metadata": {},
     "output_type": "display_data"
    }
   ],
   "source": [
    "## for the z's\n",
    "options(repr.plot.height = 5, repr.ploy.width=8)\n",
    "par(mfrow=c(2,2))\n",
    "\n",
    "densplot(mod_csim[,c(\"z[1]\", \"z[31]\", \"z[49]\", \"z[6]\")])"
   ]
  },
  {
   "cell_type": "code",
   "execution_count": 83,
   "metadata": {},
   "outputs": [
    {
     "data": {
      "text/plain": [
       "\n",
       "          1           2 \n",
       "0.990806667 0.009193333 "
      ]
     },
     "metadata": {},
     "output_type": "display_data"
    }
   ],
   "source": [
    "table(mod_csim[,\"z[1]\"]) / nrow(mod_csim)"
   ]
  },
  {
   "cell_type": "code",
   "execution_count": 84,
   "metadata": {},
   "outputs": [
    {
     "data": {
      "text/plain": [
       "\n",
       "      1       2 \n",
       "0.42632 0.57368 "
      ]
     },
     "metadata": {},
     "output_type": "display_data"
    }
   ],
   "source": [
    "table(mod_csim[,\"z[31]\"]) / nrow(mod_csim)"
   ]
  },
  {
   "cell_type": "code",
   "execution_count": 85,
   "metadata": {},
   "outputs": [
    {
     "data": {
      "text/plain": [
       "\n",
       "      1       2 \n",
       "0.19686 0.80314 "
      ]
     },
     "metadata": {},
     "output_type": "display_data"
    }
   ],
   "source": [
    "table(mod_csim[,\"z[49]\"]) / nrow(mod_csim)"
   ]
  },
  {
   "cell_type": "code",
   "execution_count": 86,
   "metadata": {},
   "outputs": [
    {
     "data": {
      "text/plain": [
       "\n",
       "           1            2 \n",
       "2.666667e-05 9.999733e-01 "
      ]
     },
     "metadata": {},
     "output_type": "display_data"
    }
   ],
   "source": [
    "table(mod_csim[,\"z[6]\"]) / nrow(mod_csim)"
   ]
  },
  {
   "cell_type": "code",
   "execution_count": 87,
   "metadata": {},
   "outputs": [
    {
     "data": {
      "text/html": [
       "<ol class=list-inline>\n",
       "\t<li>-2.26617489046013</li>\n",
       "\t<li>-0.370266623399382</li>\n",
       "\t<li>0.0365563954229409</li>\n",
       "\t<li>3.75480802092135</li>\n",
       "</ol>\n"
      ],
      "text/latex": [
       "\\begin{enumerate*}\n",
       "\\item -2.26617489046013\n",
       "\\item -0.370266623399382\n",
       "\\item 0.0365563954229409\n",
       "\\item 3.75480802092135\n",
       "\\end{enumerate*}\n"
      ],
      "text/markdown": [
       "1. -2.26617489046013\n",
       "2. -0.370266623399382\n",
       "3. 0.0365563954229409\n",
       "4. 3.75480802092135\n",
       "\n",
       "\n"
      ],
      "text/plain": [
       "[1] -2.2661749 -0.3702666  0.0365564  3.7548080"
      ]
     },
     "metadata": {},
     "output_type": "display_data"
    }
   ],
   "source": [
    "y[c(1, 31, 49, 6)]"
   ]
  },
  {
   "cell_type": "markdown",
   "metadata": {},
   "source": [
    "If we look back to the y values associated with these z variables we monitored, we see that y1 is clearly in Population 1’s territory, y31 is ambiguous, y49 is ambiguous but is closer to Population 2’s territory, and y6 is clearly in Population 2’s territory. The posterior distributions for the z variables closely reflect our assessment."
   ]
  },
  {
   "cell_type": "code",
   "execution_count": null,
   "metadata": {},
   "outputs": [],
   "source": []
  },
  {
   "cell_type": "code",
   "execution_count": null,
   "metadata": {},
   "outputs": [],
   "source": [
    "# Ignore this part."
   ]
  },
  {
   "cell_type": "markdown",
   "metadata": {},
   "source": [
    "# Poisson Example"
   ]
  },
  {
   "cell_type": "code",
   "execution_count": 170,
   "metadata": {},
   "outputs": [],
   "source": [
    "dat = read.csv(\"callers.csv\")"
   ]
  },
  {
   "cell_type": "code",
   "execution_count": 171,
   "metadata": {},
   "outputs": [
    {
     "data": {
      "text/html": [
       "<table>\n",
       "<thead><tr><th scope=col>calls</th><th scope=col>days_active</th><th scope=col>isgroup2</th><th scope=col>age</th></tr></thead>\n",
       "<tbody>\n",
       "\t<tr><td>2 </td><td>32</td><td>0 </td><td>27</td></tr>\n",
       "\t<tr><td>4 </td><td>81</td><td>0 </td><td>32</td></tr>\n",
       "\t<tr><td>0 </td><td>41</td><td>0 </td><td>22</td></tr>\n",
       "\t<tr><td>1 </td><td>36</td><td>0 </td><td>28</td></tr>\n",
       "\t<tr><td>0 </td><td>55</td><td>0 </td><td>31</td></tr>\n",
       "\t<tr><td>0 </td><td>25</td><td>0 </td><td>33</td></tr>\n",
       "</tbody>\n",
       "</table>\n"
      ],
      "text/latex": [
       "\\begin{tabular}{r|llll}\n",
       " calls & days\\_active & isgroup2 & age\\\\\n",
       "\\hline\n",
       "\t 2  & 32 & 0  & 27\\\\\n",
       "\t 4  & 81 & 0  & 32\\\\\n",
       "\t 0  & 41 & 0  & 22\\\\\n",
       "\t 1  & 36 & 0  & 28\\\\\n",
       "\t 0  & 55 & 0  & 31\\\\\n",
       "\t 0  & 25 & 0  & 33\\\\\n",
       "\\end{tabular}\n"
      ],
      "text/markdown": [
       "\n",
       "| calls | days_active | isgroup2 | age |\n",
       "|---|---|---|---|\n",
       "| 2  | 32 | 0  | 27 |\n",
       "| 4  | 81 | 0  | 32 |\n",
       "| 0  | 41 | 0  | 22 |\n",
       "| 1  | 36 | 0  | 28 |\n",
       "| 0  | 55 | 0  | 31 |\n",
       "| 0  | 25 | 0  | 33 |\n",
       "\n"
      ],
      "text/plain": [
       "  calls days_active isgroup2 age\n",
       "1 2     32          0        27 \n",
       "2 4     81          0        32 \n",
       "3 0     41          0        22 \n",
       "4 1     36          0        28 \n",
       "5 0     55          0        31 \n",
       "6 0     25          0        33 "
      ]
     },
     "metadata": {},
     "output_type": "display_data"
    }
   ],
   "source": [
    "head(dat)"
   ]
  },
  {
   "cell_type": "code",
   "execution_count": 172,
   "metadata": {},
   "outputs": [],
   "source": [
    "mod_str = \" model {\n",
    "    # Likelihood\n",
    "    for (i in 1:length(calls)) {\n",
    "        calls[i] ~ dpois( days_active[i] * lam[i] )\n",
    "        log(lam[i]) = b[1] + b[2]*age[i] + b[3]*isgroup2[i]\n",
    "    }\n",
    "\n",
    "    # Priors\n",
    "    for(j in 1:3){\n",
    "        b[j] ~ dnorm(0, 1/1e4)\n",
    "    }\n",
    "} \""
   ]
  },
  {
   "cell_type": "code",
   "execution_count": 173,
   "metadata": {},
   "outputs": [
    {
     "name": "stdout",
     "output_type": "stream",
     "text": [
      "Compiling model graph\n",
      "   Resolving undeclared variables\n",
      "   Allocating nodes\n",
      "Graph information:\n",
      "   Observed stochastic nodes: 224\n",
      "   Unobserved stochastic nodes: 3\n",
      "   Total graph size: 1218\n",
      "\n",
      "Initializing model\n",
      "\n"
     ]
    }
   ],
   "source": [
    "mod = jags.model(textConnection(mod_str), data = as.list(dat), n.chains = 3)"
   ]
  },
  {
   "cell_type": "code",
   "execution_count": 174,
   "metadata": {},
   "outputs": [],
   "source": [
    "update(mod, 5e3)"
   ]
  },
  {
   "cell_type": "code",
   "execution_count": 175,
   "metadata": {},
   "outputs": [],
   "source": [
    "params = c(\"b\")"
   ]
  },
  {
   "cell_type": "code",
   "execution_count": 176,
   "metadata": {},
   "outputs": [],
   "source": [
    "mod_sim = coda.samples(mod, variable.names = params, n.iter = 1e4)"
   ]
  },
  {
   "cell_type": "code",
   "execution_count": 179,
   "metadata": {},
   "outputs": [],
   "source": [
    "mod_csim = as.mcmc(do.call(rbind, mod_sim))"
   ]
  },
  {
   "cell_type": "code",
   "execution_count": 232,
   "metadata": {},
   "outputs": [
    {
     "data": {
      "text/html": [
       "<dl class=dl-horizontal>\n",
       "\t<dt>b[1]</dt>\n",
       "\t\t<dd>-2.55972181618115</dd>\n",
       "\t<dt>b[2]</dt>\n",
       "\t\t<dd>-0.0654872950555243</dd>\n",
       "\t<dt>b[3]</dt>\n",
       "\t\t<dd>1.54847119064651</dd>\n",
       "</dl>\n"
      ],
      "text/latex": [
       "\\begin{description*}\n",
       "\\item[b\\{{[}\\}1\\{{]}\\}] -2.55972181618115\n",
       "\\item[b\\{{[}\\}2\\{{]}\\}] -0.0654872950555243\n",
       "\\item[b\\{{[}\\}3\\{{]}\\}] 1.54847119064651\n",
       "\\end{description*}\n"
      ],
      "text/markdown": [
       "b[1]\n",
       ":   -2.55972181618115b[2]\n",
       ":   -0.0654872950555243b[3]\n",
       ":   1.54847119064651\n",
       "\n"
      ],
      "text/plain": [
       "      b[1]       b[2]       b[3] \n",
       "-2.5597218 -0.0654873  1.5484712 "
      ]
     },
     "metadata": {},
     "output_type": "display_data"
    }
   ],
   "source": [
    "colMeans(mod_csim)"
   ]
  },
  {
   "cell_type": "code",
   "execution_count": 252,
   "metadata": {},
   "outputs": [],
   "source": [
    "# Calculate the probability that a person of age 29 who is in group2, calls atleast 3 times a day.\n",
    "\n",
    "lamb = exp(mod_csim[,1] + mod_csim[,2]*29 + mod_csim[,3]*1) * 30"
   ]
  },
  {
   "cell_type": "code",
   "execution_count": 251,
   "metadata": {},
   "outputs": [
    {
     "data": {
      "text/html": [
       "2.69408247331624"
      ],
      "text/latex": [
       "2.69408247331624"
      ],
      "text/markdown": [
       "2.69408247331624"
      ],
      "text/plain": [
       "[1] 2.694082"
      ]
     },
     "metadata": {},
     "output_type": "display_data"
    }
   ],
   "source": [
    "max(lamb)"
   ]
  },
  {
   "cell_type": "code",
   "execution_count": null,
   "metadata": {},
   "outputs": [],
   "source": [
    "# The probability according to drawn samples is zero. We need to draw more samples to mesure it accurately.\n",
    "# I'm directly comparing lambdas rather than drawing the samples from Poisson distribution because in \n",
    "# case of Poisson distribution the expected  value of a random variable is lambda itself."
   ]
  }
 ],
 "metadata": {
  "kernelspec": {
   "display_name": "R",
   "language": "R",
   "name": "ir"
  },
  "language_info": {
   "codemirror_mode": "r",
   "file_extension": ".r",
   "mimetype": "text/x-r-source",
   "name": "R",
   "pygments_lexer": "r",
   "version": "3.4.3"
  }
 },
 "nbformat": 4,
 "nbformat_minor": 2
}
