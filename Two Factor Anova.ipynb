{
 "cells": [
  {
   "cell_type": "markdown",
   "metadata": {},
   "source": [
    "<h1><center>Two Factor Anova</center></h1>"
   ]
  },
  {
   "cell_type": "markdown",
   "metadata": {},
   "source": [
    "### Data"
   ]
  },
  {
   "cell_type": "code",
   "execution_count": 1,
   "metadata": {},
   "outputs": [
    {
     "data": {
      "text/html": [
       "<table>\n",
       "<thead><tr><th scope=col>breaks</th><th scope=col>wool</th><th scope=col>tension</th></tr></thead>\n",
       "<tbody>\n",
       "\t<tr><td>26</td><td>A </td><td>L </td></tr>\n",
       "\t<tr><td>30</td><td>A </td><td>L </td></tr>\n",
       "\t<tr><td>54</td><td>A </td><td>L </td></tr>\n",
       "\t<tr><td>25</td><td>A </td><td>L </td></tr>\n",
       "\t<tr><td>70</td><td>A </td><td>L </td></tr>\n",
       "\t<tr><td>52</td><td>A </td><td>L </td></tr>\n",
       "</tbody>\n",
       "</table>\n"
      ],
      "text/latex": [
       "\\begin{tabular}{r|lll}\n",
       " breaks & wool & tension\\\\\n",
       "\\hline\n",
       "\t 26 & A  & L \\\\\n",
       "\t 30 & A  & L \\\\\n",
       "\t 54 & A  & L \\\\\n",
       "\t 25 & A  & L \\\\\n",
       "\t 70 & A  & L \\\\\n",
       "\t 52 & A  & L \\\\\n",
       "\\end{tabular}\n"
      ],
      "text/markdown": [
       "\n",
       "| breaks | wool | tension |\n",
       "|---|---|---|\n",
       "| 26 | A  | L  |\n",
       "| 30 | A  | L  |\n",
       "| 54 | A  | L  |\n",
       "| 25 | A  | L  |\n",
       "| 70 | A  | L  |\n",
       "| 52 | A  | L  |\n",
       "\n"
      ],
      "text/plain": [
       "  breaks wool tension\n",
       "1 26     A    L      \n",
       "2 30     A    L      \n",
       "3 54     A    L      \n",
       "4 25     A    L      \n",
       "5 70     A    L      \n",
       "6 52     A    L      "
      ]
     },
     "metadata": {},
     "output_type": "display_data"
    }
   ],
   "source": [
    "data(\"warpbreaks\")\n",
    "?warpbreaks\n",
    "head(warpbreaks)"
   ]
  },
  {
   "cell_type": "code",
   "execution_count": 2,
   "metadata": {},
   "outputs": [
    {
     "data": {
      "text/plain": [
       "   \n",
       "    L M H\n",
       "  A 9 9 9\n",
       "  B 9 9 9"
      ]
     },
     "metadata": {},
     "output_type": "display_data"
    }
   ],
   "source": [
    "table(warpbreaks$wool, warpbreaks$tension)"
   ]
  },
  {
   "cell_type": "code",
   "execution_count": 3,
   "metadata": {},
   "outputs": [
    {
     "data": {
      "image/png": "[encoded data removed]",
      "text/plain": [
       "plot without title"
      ]
     },
     "metadata": {},
     "output_type": "display_data"
    }
   ],
   "source": [
    "options(repr.plot.width=8, repr.plot.height=5)\n",
    "\n",
    "boxplot(breaks ~ wool + tension, data=warpbreaks)"
   ]
  },
  {
   "cell_type": "code",
   "execution_count": 4,
   "metadata": {},
   "outputs": [
    {
     "data": {
      "image/png": "[encoded data removed]",
      "text/plain": [
       "plot without title"
      ]
     },
     "metadata": {},
     "output_type": "display_data"
    }
   ],
   "source": [
    "boxplot(log(breaks) ~ wool + tension, data=warpbreaks)\n",
    "\n",
    "# The different groups have more similar variance if we use the logarithm of breaks. \n",
    "# From this visualization, it looks like both factors may play a role in the number of breaks. \n",
    "# It appears that there is a general decrease in breaks as we move from low to medium to high tension."
   ]
  },
  {
   "cell_type": "code",
   "execution_count": null,
   "metadata": {},
   "outputs": [],
   "source": []
  },
  {
   "cell_type": "markdown",
   "metadata": {},
   "source": [
    "# One-way model"
   ]
  },
  {
   "cell_type": "code",
   "execution_count": 5,
   "metadata": {},
   "outputs": [
    {
     "name": "stderr",
     "output_type": "stream",
     "text": [
      "Warning message:\n",
      "\"package 'coda' was built under R version 3.4.4\"Warning message:\n",
      "\"package 'rjags' was built under R version 3.4.4\"Linked to JAGS 4.3.0\n",
      "Loaded modules: basemod,bugs\n"
     ]
    }
   ],
   "source": [
    "library(\"coda\")\n",
    "library(\"rjags\")"
   ]
  },
  {
   "cell_type": "code",
   "execution_count": 6,
   "metadata": {},
   "outputs": [],
   "source": [
    "set.seed(83)"
   ]
  },
  {
   "cell_type": "markdown",
   "metadata": {},
   "source": [
    "### Modelling"
   ]
  },
  {
   "cell_type": "code",
   "execution_count": 7,
   "metadata": {},
   "outputs": [],
   "source": [
    "mod_1_str = \" model {\n",
    "    # Actual Bayesian Model Likelihood\n",
    "    for(i in 1:length(y)){\n",
    "        y[i] ~ dnorm(mu[tensGrp[i]], prec)\n",
    "    }\n",
    "\n",
    "    # Priors\n",
    "    for (j in 1:3){\n",
    "        mu[j] ~ dnorm(0.0, 1.0/1.0e6)\n",
    "    }\n",
    "    prec ~ dgamma(5/2.0, 5*1.0/2.0)\n",
    "\n",
    "    # Variable dependent on Priors\n",
    "    sig = sqrt(1/prec)\n",
    "} \""
   ]
  },
  {
   "cell_type": "code",
   "execution_count": 8,
   "metadata": {},
   "outputs": [],
   "source": [
    "data_1_jags = list(y = log(warpbreaks$breaks), tensGrp = as.numeric(warpbreaks$tension))"
   ]
  },
  {
   "cell_type": "code",
   "execution_count": 9,
   "metadata": {},
   "outputs": [],
   "source": [
    "params_1 = c(\"mu\", \"sig\")"
   ]
  },
  {
   "cell_type": "code",
   "execution_count": 10,
   "metadata": {},
   "outputs": [],
   "source": [
    "inits_1 = function(){\n",
    "    inits = list(mu = rnorm(3, 1.0, 100.0), \n",
    "                 prec = rgamma(1, 1.0, 1.0))\n",
    "}"
   ]
  },
  {
   "cell_type": "code",
   "execution_count": 11,
   "metadata": {},
   "outputs": [
    {
     "name": "stdout",
     "output_type": "stream",
     "text": [
      "Compiling model graph\n",
      "   Resolving undeclared variables\n",
      "   Allocating nodes\n",
      "Graph information:\n",
      "   Observed stochastic nodes: 54\n",
      "   Unobserved stochastic nodes: 4\n",
      "   Total graph size: 122\n",
      "\n",
      "Initializing model\n",
      "\n"
     ]
    }
   ],
   "source": [
    "mod1 = jags.model(textConnection(mod_1_str), \n",
    "                  inits = inits_1, \n",
    "                  data = data_1_jags, \n",
    "                  n.chains = 3)"
   ]
  },
  {
   "cell_type": "markdown",
   "metadata": {},
   "source": [
    "### Simulations"
   ]
  },
  {
   "cell_type": "code",
   "execution_count": 12,
   "metadata": {},
   "outputs": [],
   "source": [
    "update(mod1, 1e3)"
   ]
  },
  {
   "cell_type": "code",
   "execution_count": 13,
   "metadata": {},
   "outputs": [],
   "source": [
    "mod_1_sim = coda.samples(model = mod1, \n",
    "                         variable.names = params_1, \n",
    "                         n.iter = 1e4)"
   ]
  },
  {
   "cell_type": "code",
   "execution_count": 14,
   "metadata": {},
   "outputs": [],
   "source": [
    "mod_1_csim = as.mcmc(do.call(rbind, mod_1_sim))"
   ]
  },
  {
   "cell_type": "markdown",
   "metadata": {},
   "source": [
    "### Model Checking"
   ]
  },
  {
   "cell_type": "code",
   "execution_count": 15,
   "metadata": {},
   "outputs": [
    {
     "data": {
      "image/png": "[encoded data removed]",
      "text/plain": [
       "Plot with title \"Density of sig\""
      ]
     },
     "metadata": {},
     "output_type": "display_data"
    }
   ],
   "source": [
    "options(repr.plot.width=8, repr.plot.height=8)\n",
    "\n",
    "plot(mod_1_sim)"
   ]
  },
  {
   "cell_type": "code",
   "execution_count": 16,
   "metadata": {},
   "outputs": [
    {
     "data": {
      "text/plain": [
       "Potential scale reduction factors:\n",
       "\n",
       "      Point est. Upper C.I.\n",
       "mu[1]          1          1\n",
       "mu[2]          1          1\n",
       "mu[3]          1          1\n",
       "sig            1          1\n",
       "\n",
       "Multivariate psrf\n",
       "\n",
       "1"
      ]
     },
     "metadata": {},
     "output_type": "display_data"
    },
    {
     "data": {
      "text/html": [
       "<table>\n",
       "<thead><tr><th></th><th scope=col>mu[1]</th><th scope=col>mu[2]</th><th scope=col>mu[3]</th><th scope=col>sig</th></tr></thead>\n",
       "<tbody>\n",
       "\t<tr><th scope=row>Lag 0</th><td> 1.0000000000</td><td> 1.000000000 </td><td> 1.0000000000</td><td> 1.000000000 </td></tr>\n",
       "\t<tr><th scope=row>Lag 1</th><td>-0.0046419431</td><td>-0.003482691 </td><td> 0.0005520462</td><td> 0.054913099 </td></tr>\n",
       "\t<tr><th scope=row>Lag 5</th><td>-0.0029803140</td><td>-0.003802679 </td><td>-0.0043314043</td><td> 0.004566056 </td></tr>\n",
       "\t<tr><th scope=row>Lag 10</th><td> 0.0008100547</td><td>-0.007562383 </td><td>-0.0017993661</td><td> 0.002754587 </td></tr>\n",
       "\t<tr><th scope=row>Lag 50</th><td> 0.0039595570</td><td> 0.004107441 </td><td> 0.0016801729</td><td>-0.001910988 </td></tr>\n",
       "</tbody>\n",
       "</table>\n"
      ],
      "text/latex": [
       "\\begin{tabular}{r|llll}\n",
       "  & mu{[}1{]} & mu{[}2{]} & mu{[}3{]} & sig\\\\\n",
       "\\hline\n",
       "\tLag 0 &  1.0000000000 &  1.000000000  &  1.0000000000 &  1.000000000 \\\\\n",
       "\tLag 1 & -0.0046419431 & -0.003482691  &  0.0005520462 &  0.054913099 \\\\\n",
       "\tLag 5 & -0.0029803140 & -0.003802679  & -0.0043314043 &  0.004566056 \\\\\n",
       "\tLag 10 &  0.0008100547 & -0.007562383  & -0.0017993661 &  0.002754587 \\\\\n",
       "\tLag 50 &  0.0039595570 &  0.004107441  &  0.0016801729 & -0.001910988 \\\\\n",
       "\\end{tabular}\n"
      ],
      "text/markdown": [
       "\n",
       "| <!--/--> | mu[1] | mu[2] | mu[3] | sig |\n",
       "|---|---|---|---|---|\n",
       "| Lag 0 |  1.0000000000 |  1.000000000  |  1.0000000000 |  1.000000000  |\n",
       "| Lag 1 | -0.0046419431 | -0.003482691  |  0.0005520462 |  0.054913099  |\n",
       "| Lag 5 | -0.0029803140 | -0.003802679  | -0.0043314043 |  0.004566056  |\n",
       "| Lag 10 |  0.0008100547 | -0.007562383  | -0.0017993661 |  0.002754587  |\n",
       "| Lag 50 |  0.0039595570 |  0.004107441  |  0.0016801729 | -0.001910988  |\n",
       "\n"
      ],
      "text/plain": [
       "       mu[1]         mu[2]        mu[3]         sig         \n",
       "Lag 0   1.0000000000  1.000000000  1.0000000000  1.000000000\n",
       "Lag 1  -0.0046419431 -0.003482691  0.0005520462  0.054913099\n",
       "Lag 5  -0.0029803140 -0.003802679 -0.0043314043  0.004566056\n",
       "Lag 10  0.0008100547 -0.007562383 -0.0017993661  0.002754587\n",
       "Lag 50  0.0039595570  0.004107441  0.0016801729 -0.001910988"
      ]
     },
     "metadata": {},
     "output_type": "display_data"
    },
    {
     "data": {
      "text/html": [
       "<dl class=dl-horizontal>\n",
       "\t<dt>mu[1]</dt>\n",
       "\t\t<dd>31421.8713246609</dd>\n",
       "\t<dt>mu[2]</dt>\n",
       "\t\t<dd>30000.0000000001</dd>\n",
       "\t<dt>mu[3]</dt>\n",
       "\t\t<dd>30000</dd>\n",
       "\t<dt>sig</dt>\n",
       "\t\t<dd>26131.5586699296</dd>\n",
       "</dl>\n"
      ],
      "text/latex": [
       "\\begin{description*}\n",
       "\\item[mu\\{{[}\\}1\\{{]}\\}] 31421.8713246609\n",
       "\\item[mu\\{{[}\\}2\\{{]}\\}] 30000.0000000001\n",
       "\\item[mu\\{{[}\\}3\\{{]}\\}] 30000\n",
       "\\item[sig] 26131.5586699296\n",
       "\\end{description*}\n"
      ],
      "text/markdown": [
       "mu[1]\n",
       ":   31421.8713246609mu[2]\n",
       ":   30000.0000000001mu[3]\n",
       ":   30000sig\n",
       ":   26131.5586699296\n",
       "\n"
      ],
      "text/plain": [
       "   mu[1]    mu[2]    mu[3]      sig \n",
       "31421.87 30000.00 30000.00 26131.56 "
      ]
     },
     "metadata": {},
     "output_type": "display_data"
    }
   ],
   "source": [
    "gelman.diag(mod_1_sim)\n",
    "autocorr.diag(mod_1_sim)\n",
    "effectiveSize(mod_1_sim)"
   ]
  },
  {
   "cell_type": "markdown",
   "metadata": {},
   "source": [
    "### Results"
   ]
  },
  {
   "cell_type": "code",
   "execution_count": 17,
   "metadata": {},
   "outputs": [
    {
     "data": {
      "text/plain": [
       "\n",
       "Iterations = 1001:11000\n",
       "Thinning interval = 1 \n",
       "Number of chains = 3 \n",
       "Sample size per chain = 10000 \n",
       "\n",
       "1. Empirical mean and standard deviation for each variable,\n",
       "   plus standard error of the mean:\n",
       "\n",
       "        Mean      SD  Naive SE Time-series SE\n",
       "mu[1] 3.5003 0.11577 0.0006684      0.0006543\n",
       "mu[2] 3.2135 0.11660 0.0006732      0.0006732\n",
       "mu[3] 3.0105 0.11594 0.0006694      0.0006694\n",
       "sig   0.4875 0.04757 0.0002747      0.0002944\n",
       "\n",
       "2. Quantiles for each variable:\n",
       "\n",
       "        2.5%    25%    50%    75%  97.5%\n",
       "mu[1] 3.2721 3.4237 3.5001 3.5773 3.7293\n",
       "mu[2] 2.9843 3.1351 3.2139 3.2922 3.4405\n",
       "mu[3] 2.7815 2.9334 3.0107 3.0875 3.2417\n",
       "sig   0.4046 0.4543 0.4836 0.5173 0.5903\n"
      ]
     },
     "metadata": {},
     "output_type": "display_data"
    }
   ],
   "source": [
    "summary(mod_1_sim)\n",
    "\n",
    "# The 95% posterior interval for the mean of group 2 (medium tension) overlaps with both the low and high groups,\n",
    "# but the intervals for low and high group only slightly overlap. That is a pretty strong indication that the means\n",
    "# for low and high tension are different."
   ]
  },
  {
   "cell_type": "code",
   "execution_count": 18,
   "metadata": {},
   "outputs": [
    {
     "data": {
      "text/plain": [
       "Mean deviance:  58.47 \n",
       "penalty 4.015 \n",
       "Penalized deviance: 62.48 "
      ]
     },
     "metadata": {},
     "output_type": "display_data"
    }
   ],
   "source": [
    "dic_1 = dic.samples(mod1, 1e4)\n",
    "dic_1"
   ]
  },
  {
   "cell_type": "code",
   "execution_count": null,
   "metadata": {},
   "outputs": [],
   "source": []
  },
  {
   "cell_type": "markdown",
   "metadata": {},
   "source": [
    "# Two-way Additive Model\n",
    "\n",
    "We will fit the additive model which treats the two factors separately with no interaction."
   ]
  },
  {
   "cell_type": "code",
   "execution_count": 19,
   "metadata": {},
   "outputs": [
    {
     "data": {
      "text/html": [
       "<table>\n",
       "<thead><tr><th scope=col>(Intercept)</th><th scope=col>woolB</th><th scope=col>tensionM</th><th scope=col>tensionH</th></tr></thead>\n",
       "<tbody>\n",
       "\t<tr><td>1</td><td>0</td><td>0</td><td>0</td></tr>\n",
       "\t<tr><td>1</td><td>0</td><td>0</td><td>0</td></tr>\n",
       "\t<tr><td>1</td><td>0</td><td>0</td><td>0</td></tr>\n",
       "\t<tr><td>1</td><td>0</td><td>0</td><td>0</td></tr>\n",
       "\t<tr><td>1</td><td>0</td><td>0</td><td>0</td></tr>\n",
       "\t<tr><td>1</td><td>0</td><td>0</td><td>0</td></tr>\n",
       "</tbody>\n",
       "</table>\n"
      ],
      "text/latex": [
       "\\begin{tabular}{r|llll}\n",
       " (Intercept) & woolB & tensionM & tensionH\\\\\n",
       "\\hline\n",
       "\t 1 & 0 & 0 & 0\\\\\n",
       "\t 1 & 0 & 0 & 0\\\\\n",
       "\t 1 & 0 & 0 & 0\\\\\n",
       "\t 1 & 0 & 0 & 0\\\\\n",
       "\t 1 & 0 & 0 & 0\\\\\n",
       "\t 1 & 0 & 0 & 0\\\\\n",
       "\\end{tabular}\n"
      ],
      "text/markdown": [
       "\n",
       "| (Intercept) | woolB | tensionM | tensionH |\n",
       "|---|---|---|---|\n",
       "| 1 | 0 | 0 | 0 |\n",
       "| 1 | 0 | 0 | 0 |\n",
       "| 1 | 0 | 0 | 0 |\n",
       "| 1 | 0 | 0 | 0 |\n",
       "| 1 | 0 | 0 | 0 |\n",
       "| 1 | 0 | 0 | 0 |\n",
       "\n"
      ],
      "text/plain": [
       "  (Intercept) woolB tensionM tensionH\n",
       "1 1           0     0        0       \n",
       "2 1           0     0        0       \n",
       "3 1           0     0        0       \n",
       "4 1           0     0        0       \n",
       "5 1           0     0        0       \n",
       "6 1           0     0        0       "
      ]
     },
     "metadata": {},
     "output_type": "display_data"
    }
   ],
   "source": [
    "# Design Matrix\n",
    "\n",
    "X = model.matrix(breaks ~ wool + tension, data=warpbreaks)\n",
    "head(X)"
   ]
  },
  {
   "cell_type": "code",
   "execution_count": 20,
   "metadata": {},
   "outputs": [],
   "source": [
    "# By default, R has chosen the mean for wool A and low tension to be the intercept. \n",
    "# Then, there is an effect for wool B, and effects for medium tension and high tension, \n",
    "# each associated with dummy indicator variables."
   ]
  },
  {
   "cell_type": "markdown",
   "metadata": {},
   "source": [
    "### Modelling"
   ]
  },
  {
   "cell_type": "code",
   "execution_count": 21,
   "metadata": {},
   "outputs": [],
   "source": [
    "mod_2_str = \" model {\n",
    "    # Actual Bayesian Model Likelihood\n",
    "    for(i in 1:length(y)){\n",
    "        y[i] ~ dnorm(mu[i], prec)\n",
    "        mu[i] = int + alpha*isWoolB[i] + beta[1]*isTensionM[i] + beta[2]*isTensionH[i]\n",
    "    }\n",
    "\n",
    "    # Priors\n",
    "    for (j in 1:2){\n",
    "        beta[j] ~ dnorm(0.0, 1.0/1.0e6)\n",
    "    }\n",
    "    int ~ dnorm(0.0, 1.0/1.0e6)\n",
    "    alpha ~ dnorm(0.0, 1.0/1.0e6)\n",
    "    prec ~ dgamma(3/2.0, 3*1.0/2.0)\n",
    "\n",
    "    # Variable dependent on Priors\n",
    "    sig = sqrt(1/prec)\n",
    "} \""
   ]
  },
  {
   "cell_type": "code",
   "execution_count": 22,
   "metadata": {},
   "outputs": [],
   "source": [
    "data_2_jags = list(y = log(warpbreaks$breaks), \n",
    "                   isWoolB = X[,\"woolB\"], \n",
    "                   isTensionM = X[,\"tensionM\"], \n",
    "                   isTensionH = X[,\"tensionH\"])"
   ]
  },
  {
   "cell_type": "code",
   "execution_count": 23,
   "metadata": {},
   "outputs": [],
   "source": [
    "params_2 = c(\"int\", \"alpha\", \"beta\", \"sig\")"
   ]
  },
  {
   "cell_type": "code",
   "execution_count": 24,
   "metadata": {},
   "outputs": [],
   "source": [
    "inits_2 = function(){\n",
    "    inits = list(int = rnorm(1, 1.0, 100.0), \n",
    "                 alpha = rnorm(1, 1.0, 100.0), \n",
    "                 beta = rnorm(2, 1.0, 100.0),\n",
    "                 prec = rgamma(1, 1.0, 1.0))\n",
    "}"
   ]
  },
  {
   "cell_type": "code",
   "execution_count": 25,
   "metadata": {},
   "outputs": [
    {
     "name": "stdout",
     "output_type": "stream",
     "text": [
      "Compiling model graph\n",
      "   Resolving undeclared variables\n",
      "   Allocating nodes\n",
      "Graph information:\n",
      "   Observed stochastic nodes: 54\n",
      "   Unobserved stochastic nodes: 5\n",
      "   Total graph size: 243\n",
      "\n",
      "Initializing model\n",
      "\n"
     ]
    }
   ],
   "source": [
    "mod2 = jags.model(textConnection(mod_2_str), \n",
    "                  inits = inits_2, \n",
    "                  data = data_2_jags, \n",
    "                  n.chains = 3)"
   ]
  },
  {
   "cell_type": "markdown",
   "metadata": {},
   "source": [
    "### Simulations"
   ]
  },
  {
   "cell_type": "code",
   "execution_count": 26,
   "metadata": {},
   "outputs": [],
   "source": [
    "update(mod2, 1e3)"
   ]
  },
  {
   "cell_type": "code",
   "execution_count": 27,
   "metadata": {},
   "outputs": [],
   "source": [
    "mod_2_sim = coda.samples(model = mod2, \n",
    "                         variable.names = params_2, \n",
    "                         n.iter = 1e4)"
   ]
  },
  {
   "cell_type": "code",
   "execution_count": 28,
   "metadata": {},
   "outputs": [],
   "source": [
    "mod_2_csim = as.mcmc(do.call(rbind, mod_2_sim))"
   ]
  },
  {
   "cell_type": "markdown",
   "metadata": {},
   "source": [
    "### Model Checking"
   ]
  },
  {
   "cell_type": "code",
   "execution_count": 29,
   "metadata": {
    "scrolled": false
   },
   "outputs": [
    {
     "data": {
      "image/png": "[encoded data removed]",
      "text/plain": [
       "Plot with title \"Density of beta[2]\""
      ]
     },
     "metadata": {},
     "output_type": "display_data"
    },
    {
     "data": {
      "image/png": "[encoded data removed]",
      "text/plain": [
       "Plot with title \"Density of sig\""
      ]
     },
     "metadata": {},
     "output_type": "display_data"
    }
   ],
   "source": [
    "plot(mod_2_sim)"
   ]
  },
  {
   "cell_type": "code",
   "execution_count": 30,
   "metadata": {},
   "outputs": [
    {
     "data": {
      "text/plain": [
       "Potential scale reduction factors:\n",
       "\n",
       "        Point est. Upper C.I.\n",
       "alpha            1          1\n",
       "beta[1]          1          1\n",
       "beta[2]          1          1\n",
       "int              1          1\n",
       "sig              1          1\n",
       "\n",
       "Multivariate psrf\n",
       "\n",
       "1"
      ]
     },
     "metadata": {},
     "output_type": "display_data"
    },
    {
     "data": {
      "text/html": [
       "<table>\n",
       "<thead><tr><th></th><th scope=col>alpha</th><th scope=col>beta[1]</th><th scope=col>beta[2]</th><th scope=col>int</th><th scope=col>sig</th></tr></thead>\n",
       "<tbody>\n",
       "\t<tr><th scope=row>Lag 0</th><td> 1.000000000 </td><td>1.000000000  </td><td>1.000000e+00 </td><td>1.000000000  </td><td> 1.0000000000</td></tr>\n",
       "\t<tr><th scope=row>Lag 1</th><td> 0.505538909 </td><td>0.499410356  </td><td>4.978099e-01 </td><td>0.749521315  </td><td> 0.0602400522</td></tr>\n",
       "\t<tr><th scope=row>Lag 5</th><td> 0.037533453 </td><td>0.096193312  </td><td>9.549920e-02 </td><td>0.178039198  </td><td>-0.0039137146</td></tr>\n",
       "\t<tr><th scope=row>Lag 10</th><td>-0.008099479 </td><td>0.000867951  </td><td>3.014521e-05 </td><td>0.016586649  </td><td>-0.0123343144</td></tr>\n",
       "\t<tr><th scope=row>Lag 50</th><td> 0.001091653 </td><td>0.009228091  </td><td>5.878480e-03 </td><td>0.004510366  </td><td>-0.0005007367</td></tr>\n",
       "</tbody>\n",
       "</table>\n"
      ],
      "text/latex": [
       "\\begin{tabular}{r|lllll}\n",
       "  & alpha & beta{[}1{]} & beta{[}2{]} & int & sig\\\\\n",
       "\\hline\n",
       "\tLag 0 &  1.000000000  & 1.000000000   & 1.000000e+00  & 1.000000000   &  1.0000000000\\\\\n",
       "\tLag 1 &  0.505538909  & 0.499410356   & 4.978099e-01  & 0.749521315   &  0.0602400522\\\\\n",
       "\tLag 5 &  0.037533453  & 0.096193312   & 9.549920e-02  & 0.178039198   & -0.0039137146\\\\\n",
       "\tLag 10 & -0.008099479  & 0.000867951   & 3.014521e-05  & 0.016586649   & -0.0123343144\\\\\n",
       "\tLag 50 &  0.001091653  & 0.009228091   & 5.878480e-03  & 0.004510366   & -0.0005007367\\\\\n",
       "\\end{tabular}\n"
      ],
      "text/markdown": [
       "\n",
       "| <!--/--> | alpha | beta[1] | beta[2] | int | sig |\n",
       "|---|---|---|---|---|---|\n",
       "| Lag 0 |  1.000000000  | 1.000000000   | 1.000000e+00  | 1.000000000   |  1.0000000000 |\n",
       "| Lag 1 |  0.505538909  | 0.499410356   | 4.978099e-01  | 0.749521315   |  0.0602400522 |\n",
       "| Lag 5 |  0.037533453  | 0.096193312   | 9.549920e-02  | 0.178039198   | -0.0039137146 |\n",
       "| Lag 10 | -0.008099479  | 0.000867951   | 3.014521e-05  | 0.016586649   | -0.0123343144 |\n",
       "| Lag 50 |  0.001091653  | 0.009228091   | 5.878480e-03  | 0.004510366   | -0.0005007367 |\n",
       "\n"
      ],
      "text/plain": [
       "       alpha        beta[1]     beta[2]      int         sig          \n",
       "Lag 0   1.000000000 1.000000000 1.000000e+00 1.000000000  1.0000000000\n",
       "Lag 1   0.505538909 0.499410356 4.978099e-01 0.749521315  0.0602400522\n",
       "Lag 5   0.037533453 0.096193312 9.549920e-02 0.178039198 -0.0039137146\n",
       "Lag 10 -0.008099479 0.000867951 3.014521e-05 0.016586649 -0.0123343144\n",
       "Lag 50  0.001091653 0.009228091 5.878480e-03 0.004510366 -0.0005007367"
      ]
     },
     "metadata": {},
     "output_type": "display_data"
    },
    {
     "data": {
      "text/html": [
       "<dl class=dl-horizontal>\n",
       "\t<dt>alpha</dt>\n",
       "\t\t<dd>9851.86370255848</dd>\n",
       "\t<dt>beta[1]</dt>\n",
       "\t\t<dd>7649.16503974435</dd>\n",
       "\t<dt>beta[2]</dt>\n",
       "\t\t<dd>7686.09087351287</dd>\n",
       "\t<dt>int</dt>\n",
       "\t\t<dd>4879.49042667922</dd>\n",
       "\t<dt>sig</dt>\n",
       "\t\t<dd>25858.6234495515</dd>\n",
       "</dl>\n"
      ],
      "text/latex": [
       "\\begin{description*}\n",
       "\\item[alpha] 9851.86370255848\n",
       "\\item[beta\\{{[}\\}1\\{{]}\\}] 7649.16503974435\n",
       "\\item[beta\\{{[}\\}2\\{{]}\\}] 7686.09087351287\n",
       "\\item[int] 4879.49042667922\n",
       "\\item[sig] 25858.6234495515\n",
       "\\end{description*}\n"
      ],
      "text/markdown": [
       "alpha\n",
       ":   9851.86370255848beta[1]\n",
       ":   7649.16503974435beta[2]\n",
       ":   7686.09087351287int\n",
       ":   4879.49042667922sig\n",
       ":   25858.6234495515\n",
       "\n"
      ],
      "text/plain": [
       "    alpha   beta[1]   beta[2]       int       sig \n",
       " 9851.864  7649.165  7686.091  4879.490 25858.623 "
      ]
     },
     "metadata": {},
     "output_type": "display_data"
    }
   ],
   "source": [
    "gelman.diag(mod_2_sim)\n",
    "autocorr.diag(mod_2_sim)\n",
    "effectiveSize(mod_2_sim)"
   ]
  },
  {
   "cell_type": "markdown",
   "metadata": {},
   "source": [
    "### Results"
   ]
  },
  {
   "cell_type": "code",
   "execution_count": 31,
   "metadata": {},
   "outputs": [
    {
     "data": {
      "text/plain": [
       "\n",
       "Iterations = 1001:11000\n",
       "Thinning interval = 1 \n",
       "Number of chains = 3 \n",
       "Sample size per chain = 10000 \n",
       "\n",
       "1. Empirical mean and standard deviation for each variable,\n",
       "   plus standard error of the mean:\n",
       "\n",
       "           Mean     SD  Naive SE Time-series SE\n",
       "alpha   -0.1540 0.1243 0.0007179      0.0012527\n",
       "beta[1] -0.2875 0.1517 0.0008761      0.0017365\n",
       "beta[2] -0.4911 0.1511 0.0008726      0.0017252\n",
       "int      3.5787 0.1239 0.0007154      0.0017783\n",
       "sig      0.4542 0.0451 0.0002604      0.0002805\n",
       "\n",
       "2. Quantiles for each variable:\n",
       "\n",
       "           2.5%     25%     50%      75%    97.5%\n",
       "alpha   -0.3992 -0.2366 -0.1544 -0.07153  0.09291\n",
       "beta[1] -0.5840 -0.3889 -0.2873 -0.18698  0.01240\n",
       "beta[2] -0.7851 -0.5925 -0.4908 -0.39058 -0.19511\n",
       "int      3.3341  3.4958  3.5796  3.66047  3.82104\n",
       "sig      0.3770  0.4227  0.4503  0.48179  0.55243\n"
      ]
     },
     "metadata": {},
     "output_type": "display_data"
    }
   ],
   "source": [
    "summary(mod_2_sim)"
   ]
  },
  {
   "cell_type": "code",
   "execution_count": 32,
   "metadata": {},
   "outputs": [
    {
     "data": {
      "text/plain": [
       "Mean deviance:  55.5 \n",
       "penalty 5.11 \n",
       "Penalized deviance: 60.61 "
      ]
     },
     "metadata": {},
     "output_type": "display_data"
    }
   ],
   "source": [
    "dic_2 = dic.samples(mod2, 1e4)\n",
    "dic_2"
   ]
  },
  {
   "cell_type": "code",
   "execution_count": 33,
   "metadata": {},
   "outputs": [
    {
     "data": {
      "text/plain": [
       "Mean deviance:  58.47 \n",
       "penalty 4.015 \n",
       "Penalized deviance: 62.48 "
      ]
     },
     "metadata": {},
     "output_type": "display_data"
    }
   ],
   "source": [
    "# Comapre it with DIC of model 1\n",
    "\n",
    "dic_1"
   ]
  },
  {
   "cell_type": "code",
   "execution_count": 34,
   "metadata": {},
   "outputs": [],
   "source": [
    "# This suggests there is much to be gained adding the wool factor to the model. \n",
    "# Before we settle on this model however, we should consider whether there is an interaction. \n",
    "# Let’s look again at the box plot with all six treatment groups"
   ]
  },
  {
   "cell_type": "code",
   "execution_count": 35,
   "metadata": {},
   "outputs": [
    {
     "data": {
      "image/png": "[encoded data removed]",
      "text/plain": [
       "plot without title"
      ]
     },
     "metadata": {},
     "output_type": "display_data"
    }
   ],
   "source": [
    "options(repr.plot.width=8, repr.plot.height=5)\n",
    "\n",
    "boxplot(log(breaks) ~ wool + tension, data=warpbreaks)"
   ]
  },
  {
   "cell_type": "code",
   "execution_count": 36,
   "metadata": {},
   "outputs": [],
   "source": [
    "# This two-way model has a single effect for wool B and the estimate is negative. \n",
    "# If this is true, then we would expect wool B to be associated with fewer breaks than its wool A counterpart on average.\n",
    "# This is true for low and high tension, but it appears that breaks are higher for wool B when there is medium tension.\n",
    "# That is, the effect for wool B is not consistent across tension levels, so it may appropriate to add an interaction term."
   ]
  },
  {
   "cell_type": "code",
   "execution_count": 37,
   "metadata": {},
   "outputs": [
    {
     "data": {
      "text/plain": [
       "\n",
       "Call:\n",
       "lm(formula = log(breaks) ~ .^2, data = warpbreaks)\n",
       "\n",
       "Residuals:\n",
       "     Min       1Q   Median       3Q      Max \n",
       "-0.81504 -0.27885  0.04042  0.27319  0.64358 \n",
       "\n",
       "Coefficients:\n",
       "               Estimate Std. Error t value Pr(>|t|)    \n",
       "(Intercept)      3.7179     0.1247  29.824  < 2e-16 ***\n",
       "woolB           -0.4356     0.1763  -2.471  0.01709 *  \n",
       "tensionM        -0.6012     0.1763  -3.410  0.00133 ** \n",
       "tensionH        -0.6003     0.1763  -3.405  0.00134 ** \n",
       "woolB:tensionM   0.6281     0.2493   2.519  0.01514 *  \n",
       "woolB:tensionH   0.2221     0.2493   0.891  0.37749    \n",
       "---\n",
       "Signif. codes:  0 '***' 0.001 '**' 0.01 '*' 0.05 '.' 0.1 ' ' 1\n",
       "\n",
       "Residual standard error: 0.374 on 48 degrees of freedom\n",
       "Multiple R-squared:  0.3363,\tAdjusted R-squared:  0.2672 \n",
       "F-statistic: 4.864 on 5 and 48 DF,  p-value: 0.001116\n"
      ]
     },
     "metadata": {},
     "output_type": "display_data"
    }
   ],
   "source": [
    "# Similar Model can be created in R.\n",
    "\n",
    "lmod2 = lm(log(breaks) ~ .^2, data=warpbreaks)\n",
    "summary(lmod2)"
   ]
  },
  {
   "cell_type": "code",
   "execution_count": 38,
   "metadata": {},
   "outputs": [],
   "source": [
    "# Adding the interaction, we get an effect for being in wool B and medium tension, as well as for being in wool B \n",
    "# and high tension. There are now six parameters for the mean, one for each treatment group, so this model is \n",
    "# equivalent to the full cell means model."
   ]
  },
  {
   "cell_type": "code",
   "execution_count": null,
   "metadata": {},
   "outputs": [],
   "source": []
  },
  {
   "cell_type": "markdown",
   "metadata": {},
   "source": [
    "# Two-way cell means model\n",
    "\n",
    "In this new model, μ will be a matrix with six entries, each corresponding to a treatment group."
   ]
  },
  {
   "cell_type": "code",
   "execution_count": 39,
   "metadata": {},
   "outputs": [],
   "source": [
    "mod_3_str = \" model {\n",
    "    # Actual Bayesian Model Likelihood\n",
    "    for(i in 1:length(y)){\n",
    "        y[i] ~ dnorm(mu[woolGrp[i], tensGrp[i]], prec)\n",
    "    }\n",
    "\n",
    "    # Priors\n",
    "    for (j in 1:max(woolGrp)){\n",
    "        for (k in 1:max(tensGrp)){\n",
    "            mu[j, k] ~ dnorm(0.0, 1.0/1.0e6)\n",
    "    }}\n",
    "    prec ~ dgamma(3/2.0, 3*1.0/2.0)\n",
    "\n",
    "    # Variable dependent on Priors\n",
    "    sig = sqrt(1/prec)\n",
    "} \""
   ]
  },
  {
   "cell_type": "code",
   "execution_count": 40,
   "metadata": {},
   "outputs": [],
   "source": [
    "data_3_jags = list(y = log(warpbreaks$breaks), \n",
    "                   woolGrp = as.numeric(warpbreaks$wool), \n",
    "                   tensGrp = as.numeric(warpbreaks$tension))"
   ]
  },
  {
   "cell_type": "code",
   "execution_count": 41,
   "metadata": {},
   "outputs": [],
   "source": [
    "params_3 = c(\"mu\", \"sig\")"
   ]
  },
  {
   "cell_type": "code",
   "execution_count": 42,
   "metadata": {},
   "outputs": [],
   "source": [
    "inits_3 = function(){\n",
    "    inits = list(mu = matrix(rnorm(6, 1.0, 100.0), nrow = 2, byrow = TRUE),\n",
    "                 prec = rgamma(1, 1.0, 1.0))\n",
    "}"
   ]
  },
  {
   "cell_type": "code",
   "execution_count": 43,
   "metadata": {},
   "outputs": [
    {
     "name": "stdout",
     "output_type": "stream",
     "text": [
      "Compiling model graph\n",
      "   Resolving undeclared variables\n",
      "   Allocating nodes\n",
      "Graph information:\n",
      "   Observed stochastic nodes: 54\n",
      "   Unobserved stochastic nodes: 7\n",
      "   Total graph size: 179\n",
      "\n",
      "Initializing model\n",
      "\n"
     ]
    }
   ],
   "source": [
    "mod3 = jags.model(textConnection(mod_3_str), \n",
    "                  inits = inits_3, \n",
    "                  data = data_3_jags, \n",
    "                  n.chains = 3)"
   ]
  },
  {
   "cell_type": "markdown",
   "metadata": {},
   "source": [
    "### Simulations"
   ]
  },
  {
   "cell_type": "code",
   "execution_count": 44,
   "metadata": {},
   "outputs": [],
   "source": [
    "update(mod3, 1e3)"
   ]
  },
  {
   "cell_type": "code",
   "execution_count": 45,
   "metadata": {},
   "outputs": [],
   "source": [
    "mod_3_sim = coda.samples(model = mod3, \n",
    "                         variable.names = params_3, \n",
    "                         n.iter = 1e4)"
   ]
  },
  {
   "cell_type": "code",
   "execution_count": 46,
   "metadata": {},
   "outputs": [],
   "source": [
    "mod_3_csim = as.mcmc(do.call(rbind, mod_3_sim))"
   ]
  },
  {
   "cell_type": "markdown",
   "metadata": {},
   "source": [
    "### Model Checking"
   ]
  },
  {
   "cell_type": "code",
   "execution_count": 47,
   "metadata": {
    "scrolled": false
   },
   "outputs": [
    {
     "data": {
      "image/png": "[encoded data removed]",
      "text/plain": [
       "Plot with title \"Density of mu[2,2]\""
      ]
     },
     "metadata": {},
     "output_type": "display_data"
    },
    {
     "data": {
      "image/png": "[encoded data removed]",
      "text/plain": [
       "Plot with title \"Density of sig\""
      ]
     },
     "metadata": {},
     "output_type": "display_data"
    }
   ],
   "source": [
    "options(repr.plot.width=8, repr.plot.height=8)\n",
    "\n",
    "plot(mod_3_sim)"
   ]
  },
  {
   "cell_type": "code",
   "execution_count": 48,
   "metadata": {},
   "outputs": [
    {
     "data": {
      "text/plain": [
       "Potential scale reduction factors:\n",
       "\n",
       "        Point est. Upper C.I.\n",
       "mu[1,1]          1          1\n",
       "mu[2,1]          1          1\n",
       "mu[1,2]          1          1\n",
       "mu[2,2]          1          1\n",
       "mu[1,3]          1          1\n",
       "mu[2,3]          1          1\n",
       "sig              1          1\n",
       "\n",
       "Multivariate psrf\n",
       "\n",
       "1"
      ]
     },
     "metadata": {},
     "output_type": "display_data"
    },
    {
     "data": {
      "text/html": [
       "<table>\n",
       "<thead><tr><th></th><th scope=col>mu[1,1]</th><th scope=col>mu[2,1]</th><th scope=col>mu[1,2]</th><th scope=col>mu[2,2]</th><th scope=col>mu[1,3]</th><th scope=col>mu[2,3]</th><th scope=col>sig</th></tr></thead>\n",
       "<tbody>\n",
       "\t<tr><th scope=row>Lag 0</th><td> 1.0000000000</td><td> 1.000000000 </td><td> 1.000000000 </td><td> 1.0000000000</td><td> 1.000000000 </td><td> 1.000000000 </td><td> 1.000000000 </td></tr>\n",
       "\t<tr><th scope=row>Lag 1</th><td>-0.0045437316</td><td> 0.009177736 </td><td> 0.010241505 </td><td>-0.0063383069</td><td> 0.003281194 </td><td> 0.011849603 </td><td> 0.109829993 </td></tr>\n",
       "\t<tr><th scope=row>Lag 5</th><td>-0.0009115161</td><td> 0.006036113 </td><td>-0.010412210 </td><td>-0.0042755771</td><td>-0.003732549 </td><td> 0.001828477 </td><td>-0.002216899 </td></tr>\n",
       "\t<tr><th scope=row>Lag 10</th><td> 0.0033176680</td><td>-0.003160836 </td><td> 0.003931382 </td><td>-0.0005586588</td><td> 0.003176643 </td><td> 0.002308493 </td><td> 0.007068770 </td></tr>\n",
       "\t<tr><th scope=row>Lag 50</th><td>-0.0063065550</td><td> 0.005792260 </td><td> 0.004355028 </td><td> 0.0041035169</td><td>-0.010892135 </td><td>-0.002963242 </td><td>-0.001036989 </td></tr>\n",
       "</tbody>\n",
       "</table>\n"
      ],
      "text/latex": [
       "\\begin{tabular}{r|lllllll}\n",
       "  & mu{[}1,1{]} & mu{[}2,1{]} & mu{[}1,2{]} & mu{[}2,2{]} & mu{[}1,3{]} & mu{[}2,3{]} & sig\\\\\n",
       "\\hline\n",
       "\tLag 0 &  1.0000000000 &  1.000000000  &  1.000000000  &  1.0000000000 &  1.000000000  &  1.000000000  &  1.000000000 \\\\\n",
       "\tLag 1 & -0.0045437316 &  0.009177736  &  0.010241505  & -0.0063383069 &  0.003281194  &  0.011849603  &  0.109829993 \\\\\n",
       "\tLag 5 & -0.0009115161 &  0.006036113  & -0.010412210  & -0.0042755771 & -0.003732549  &  0.001828477  & -0.002216899 \\\\\n",
       "\tLag 10 &  0.0033176680 & -0.003160836  &  0.003931382  & -0.0005586588 &  0.003176643  &  0.002308493  &  0.007068770 \\\\\n",
       "\tLag 50 & -0.0063065550 &  0.005792260  &  0.004355028  &  0.0041035169 & -0.010892135  & -0.002963242  & -0.001036989 \\\\\n",
       "\\end{tabular}\n"
      ],
      "text/markdown": [
       "\n",
       "| <!--/--> | mu[1,1] | mu[2,1] | mu[1,2] | mu[2,2] | mu[1,3] | mu[2,3] | sig |\n",
       "|---|---|---|---|---|---|---|---|\n",
       "| Lag 0 |  1.0000000000 |  1.000000000  |  1.000000000  |  1.0000000000 |  1.000000000  |  1.000000000  |  1.000000000  |\n",
       "| Lag 1 | -0.0045437316 |  0.009177736  |  0.010241505  | -0.0063383069 |  0.003281194  |  0.011849603  |  0.109829993  |\n",
       "| Lag 5 | -0.0009115161 |  0.006036113  | -0.010412210  | -0.0042755771 | -0.003732549  |  0.001828477  | -0.002216899  |\n",
       "| Lag 10 |  0.0033176680 | -0.003160836  |  0.003931382  | -0.0005586588 |  0.003176643  |  0.002308493  |  0.007068770  |\n",
       "| Lag 50 | -0.0063065550 |  0.005792260  |  0.004355028  |  0.0041035169 | -0.010892135  | -0.002963242  | -0.001036989  |\n",
       "\n"
      ],
      "text/plain": [
       "       mu[1,1]       mu[2,1]      mu[1,2]      mu[2,2]       mu[1,3]     \n",
       "Lag 0   1.0000000000  1.000000000  1.000000000  1.0000000000  1.000000000\n",
       "Lag 1  -0.0045437316  0.009177736  0.010241505 -0.0063383069  0.003281194\n",
       "Lag 5  -0.0009115161  0.006036113 -0.010412210 -0.0042755771 -0.003732549\n",
       "Lag 10  0.0033176680 -0.003160836  0.003931382 -0.0005586588  0.003176643\n",
       "Lag 50 -0.0063065550  0.005792260  0.004355028  0.0041035169 -0.010892135\n",
       "       mu[2,3]      sig         \n",
       "Lag 0   1.000000000  1.000000000\n",
       "Lag 1   0.011849603  0.109829993\n",
       "Lag 5   0.001828477 -0.002216899\n",
       "Lag 10  0.002308493  0.007068770\n",
       "Lag 50 -0.002963242 -0.001036989"
      ]
     },
     "metadata": {},
     "output_type": "display_data"
    },
    {
     "data": {
      "text/html": [
       "<dl class=dl-horizontal>\n",
       "\t<dt>mu[1,1]</dt>\n",
       "\t\t<dd>31001.3127992777</dd>\n",
       "\t<dt>mu[2,1]</dt>\n",
       "\t\t<dd>29059.6433154763</dd>\n",
       "\t<dt>mu[1,2]</dt>\n",
       "\t\t<dd>29341.3556796036</dd>\n",
       "\t<dt>mu[2,2]</dt>\n",
       "\t\t<dd>30510.2646157742</dd>\n",
       "\t<dt>mu[1,3]</dt>\n",
       "\t\t<dd>30000</dd>\n",
       "\t<dt>mu[2,3]</dt>\n",
       "\t\t<dd>29274.4282053222</dd>\n",
       "\t<dt>sig</dt>\n",
       "\t\t<dd>24061.1195204912</dd>\n",
       "</dl>\n"
      ],
      "text/latex": [
       "\\begin{description*}\n",
       "\\item[mu\\{{[}\\}1,1\\{{]}\\}] 31001.3127992777\n",
       "\\item[mu\\{{[}\\}2,1\\{{]}\\}] 29059.6433154763\n",
       "\\item[mu\\{{[}\\}1,2\\{{]}\\}] 29341.3556796036\n",
       "\\item[mu\\{{[}\\}2,2\\{{]}\\}] 30510.2646157742\n",
       "\\item[mu\\{{[}\\}1,3\\{{]}\\}] 30000\n",
       "\\item[mu\\{{[}\\}2,3\\{{]}\\}] 29274.4282053222\n",
       "\\item[sig] 24061.1195204912\n",
       "\\end{description*}\n"
      ],
      "text/markdown": [
       "mu[1,1]\n",
       ":   31001.3127992777mu[2,1]\n",
       ":   29059.6433154763mu[1,2]\n",
       ":   29341.3556796036mu[2,2]\n",
       ":   30510.2646157742mu[1,3]\n",
       ":   30000mu[2,3]\n",
       ":   29274.4282053222sig\n",
       ":   24061.1195204912\n",
       "\n"
      ],
      "text/plain": [
       " mu[1,1]  mu[2,1]  mu[1,2]  mu[2,2]  mu[1,3]  mu[2,3]      sig \n",
       "31001.31 29059.64 29341.36 30510.26 30000.00 29274.43 24061.12 "
      ]
     },
     "metadata": {},
     "output_type": "display_data"
    },
    {
     "data": {
      "text/plain": [
       "[[1]]\n",
       "\n",
       "Quantile (q) = 0.025\n",
       "Accuracy (r) = +/- 0.005\n",
       "Probability (s) = 0.95 \n",
       "                                               \n",
       "         Burn-in  Total Lower bound  Dependence\n",
       "         (M)      (N)   (Nmin)       factor (I)\n",
       " mu[1,1] 2        3741  3746         0.999     \n",
       " mu[2,1] 2        3680  3746         0.982     \n",
       " mu[1,2] 2        3897  3746         1.040     \n",
       " mu[2,2] 2        3741  3746         0.999     \n",
       " mu[1,3] 2        3710  3746         0.990     \n",
       " mu[2,3] 2        3771  3746         1.010     \n",
       " sig     2        3802  3746         1.010     \n",
       "\n",
       "\n",
       "[[2]]\n",
       "\n",
       "Quantile (q) = 0.025\n",
       "Accuracy (r) = +/- 0.005\n",
       "Probability (s) = 0.95 \n",
       "                                               \n",
       "         Burn-in  Total Lower bound  Dependence\n",
       "         (M)      (N)   (Nmin)       factor (I)\n",
       " mu[1,1] 2        3680  3746         0.982     \n",
       " mu[2,1] 2        3771  3746         1.010     \n",
       " mu[1,2] 2        3865  3746         1.030     \n",
       " mu[2,2] 2        3741  3746         0.999     \n",
       " mu[1,3] 2        3741  3746         0.999     \n",
       " mu[2,3] 2        3771  3746         1.010     \n",
       " sig     2        3929  3746         1.050     \n",
       "\n",
       "\n",
       "[[3]]\n",
       "\n",
       "Quantile (q) = 0.025\n",
       "Accuracy (r) = +/- 0.005\n",
       "Probability (s) = 0.95 \n",
       "                                               \n",
       "         Burn-in  Total Lower bound  Dependence\n",
       "         (M)      (N)   (Nmin)       factor (I)\n",
       " mu[1,1] 2        3804  3746         1.020     \n",
       " mu[2,1] 2        3741  3746         0.999     \n",
       " mu[1,2] 2        3741  3746         0.999     \n",
       " mu[2,2] 2        3636  3746         0.971     \n",
       " mu[1,3] 2        3741  3746         0.999     \n",
       " mu[2,3] 2        3710  3746         0.990     \n",
       " sig     2        3741  3746         0.999     \n",
       "\n"
      ]
     },
     "metadata": {},
     "output_type": "display_data"
    }
   ],
   "source": [
    "gelman.diag(mod_3_sim)\n",
    "autocorr.diag(mod_3_sim)\n",
    "effectiveSize(mod_3_sim)\n",
    "raftery.diag(mod_3_sim)"
   ]
  },
  {
   "cell_type": "markdown",
   "metadata": {},
   "source": [
    "### Results"
   ]
  },
  {
   "cell_type": "code",
   "execution_count": 49,
   "metadata": {},
   "outputs": [
    {
     "data": {
      "text/plain": [
       "\n",
       "Iterations = 1001:11000\n",
       "Thinning interval = 1 \n",
       "Number of chains = 3 \n",
       "Sample size per chain = 10000 \n",
       "\n",
       "1. Empirical mean and standard deviation for each variable,\n",
       "   plus standard error of the mean:\n",
       "\n",
       "          Mean      SD  Naive SE Time-series SE\n",
       "mu[1,1] 3.7171 0.14855 0.0008577      0.0008445\n",
       "mu[2,1] 3.2831 0.14740 0.0008510      0.0008654\n",
       "mu[1,2] 3.1162 0.14707 0.0008491      0.0008585\n",
       "mu[2,2] 3.3094 0.14858 0.0008578      0.0008507\n",
       "mu[1,3] 3.1182 0.14928 0.0008619      0.0008618\n",
       "mu[2,3] 2.9044 0.14861 0.0008580      0.0008687\n",
       "sig     0.4426 0.04431 0.0002558      0.0002856\n",
       "\n",
       "2. Quantiles for each variable:\n",
       "\n",
       "         2.5%    25%    50%    75%  97.5%\n",
       "mu[1,1] 3.425 3.6179 3.7170 3.8151 4.0127\n",
       "mu[2,1] 2.991 3.1857 3.2829 3.3802 3.5756\n",
       "mu[1,2] 2.829 3.0180 3.1157 3.2126 3.4067\n",
       "mu[2,2] 3.017 3.2105 3.3093 3.4088 3.6029\n",
       "mu[1,3] 2.825 3.0176 3.1186 3.2181 3.4117\n",
       "mu[2,3] 2.613 2.8068 2.9046 3.0023 3.1980\n",
       "sig     0.366 0.4116 0.4393 0.4696 0.5395\n"
      ]
     },
     "metadata": {},
     "output_type": "display_data"
    }
   ],
   "source": [
    "summary(mod_3_sim)"
   ]
  },
  {
   "cell_type": "code",
   "execution_count": 50,
   "metadata": {},
   "outputs": [
    {
     "data": {
      "text/plain": [
       "Mean deviance:  52.01 \n",
       "penalty 7.227 \n",
       "Penalized deviance: 59.23 "
      ]
     },
     "metadata": {},
     "output_type": "display_data"
    }
   ],
   "source": [
    "dic_3 = dic.samples(model = mod3, n.iter = 1e4)\n",
    "dic_3"
   ]
  },
  {
   "cell_type": "code",
   "execution_count": 51,
   "metadata": {},
   "outputs": [
    {
     "data": {
      "text/plain": [
       "Mean deviance:  58.47 \n",
       "penalty 4.015 \n",
       "Penalized deviance: 62.48 "
      ]
     },
     "metadata": {},
     "output_type": "display_data"
    }
   ],
   "source": [
    "# Compare with DIC of model1\n",
    "\n",
    "dic_1"
   ]
  },
  {
   "cell_type": "code",
   "execution_count": 52,
   "metadata": {},
   "outputs": [
    {
     "data": {
      "text/plain": [
       "Mean deviance:  55.5 \n",
       "penalty 5.11 \n",
       "Penalized deviance: 60.61 "
      ]
     },
     "metadata": {},
     "output_type": "display_data"
    }
   ],
   "source": [
    "# Compare with DIC of model1\n",
    "\n",
    "dic_2"
   ]
  },
  {
   "cell_type": "code",
   "execution_count": 53,
   "metadata": {},
   "outputs": [],
   "source": [
    "# This suggests that the full model with interaction between wool and tension (which is equivalent to the cell\n",
    "# means model) is the best for explaining/predicting warp breaks."
   ]
  },
  {
   "cell_type": "code",
   "execution_count": 54,
   "metadata": {},
   "outputs": [
    {
     "data": {
      "text/html": [
       "<table>\n",
       "<thead><tr><th></th><th scope=col>lower</th><th scope=col>upper</th></tr></thead>\n",
       "<tbody>\n",
       "\t<tr><th scope=row>mu[1,1]</th><td>3.4244394</td><td>4.0124313</td></tr>\n",
       "\t<tr><th scope=row>mu[2,1]</th><td>3.0011620</td><td>3.5850362</td></tr>\n",
       "\t<tr><th scope=row>mu[1,2]</th><td>2.8196667</td><td>3.3967087</td></tr>\n",
       "\t<tr><th scope=row>mu[2,2]</th><td>3.0177275</td><td>3.6032468</td></tr>\n",
       "\t<tr><th scope=row>mu[1,3]</th><td>2.8217328</td><td>3.4078714</td></tr>\n",
       "\t<tr><th scope=row>mu[2,3]</th><td>2.6145274</td><td>3.1988338</td></tr>\n",
       "\t<tr><th scope=row>sig</th><td>0.3600389</td><td>0.5311657</td></tr>\n",
       "</tbody>\n",
       "</table>\n"
      ],
      "text/latex": [
       "\\begin{tabular}{r|ll}\n",
       "  & lower & upper\\\\\n",
       "\\hline\n",
       "\tmu{[}1,1{]} & 3.4244394 & 4.0124313\\\\\n",
       "\tmu{[}2,1{]} & 3.0011620 & 3.5850362\\\\\n",
       "\tmu{[}1,2{]} & 2.8196667 & 3.3967087\\\\\n",
       "\tmu{[}2,2{]} & 3.0177275 & 3.6032468\\\\\n",
       "\tmu{[}1,3{]} & 2.8217328 & 3.4078714\\\\\n",
       "\tmu{[}2,3{]} & 2.6145274 & 3.1988338\\\\\n",
       "\tsig & 0.3600389 & 0.5311657\\\\\n",
       "\\end{tabular}\n"
      ],
      "text/markdown": [
       "\n",
       "| <!--/--> | lower | upper |\n",
       "|---|---|---|\n",
       "| mu[1,1] | 3.4244394 | 4.0124313 |\n",
       "| mu[2,1] | 3.0011620 | 3.5850362 |\n",
       "| mu[1,2] | 2.8196667 | 3.3967087 |\n",
       "| mu[2,2] | 3.0177275 | 3.6032468 |\n",
       "| mu[1,3] | 2.8217328 | 3.4078714 |\n",
       "| mu[2,3] | 2.6145274 | 3.1988338 |\n",
       "| sig | 0.3600389 | 0.5311657 |\n",
       "\n"
      ],
      "text/plain": [
       "        lower     upper    \n",
       "mu[1,1] 3.4244394 4.0124313\n",
       "mu[2,1] 3.0011620 3.5850362\n",
       "mu[1,2] 2.8196667 3.3967087\n",
       "mu[2,2] 3.0177275 3.6032468\n",
       "mu[1,3] 2.8217328 3.4078714\n",
       "mu[2,3] 2.6145274 3.1988338\n",
       "sig     0.3600389 0.5311657"
      ]
     },
     "metadata": {},
     "output_type": "display_data"
    }
   ],
   "source": [
    "HPDinterval(mod_3_csim, prob = 0.95)"
   ]
  },
  {
   "cell_type": "code",
   "execution_count": 55,
   "metadata": {},
   "outputs": [
    {
     "data": {
      "image/png": "[encoded data removed]",
      "text/plain": [
       "Plot with title \"Density of mu[2,3]\""
      ]
     },
     "metadata": {},
     "output_type": "display_data"
    }
   ],
   "source": [
    "par(mfrow=c(3,2)) # arrange frame for plots\n",
    "densplot(mod_3_csim[,1:6], xlim=c(2.3, 4.2))"
   ]
  },
  {
   "cell_type": "markdown",
   "metadata": {},
   "source": [
    "It might be tempting to look at comparisons between each combination of treatments, but this could yield spurious results. It is best not to search your results for interesting hypotheses, because if there are many hypotheses, some will appear to show “effects” or “associations” simply due to chance. Results are most reliable when we determine a relatively small number of hypotheses we are interested in beforehand, collect the data, and statistically evaluate the evidence for them."
   ]
  },
  {
   "cell_type": "markdown",
   "metadata": {},
   "source": [
    "One question we might be interested in with these data is finding the treatment combination that produces the fewest breaks. To calculate this, we can go through our posterior samples and for each sample, find out which group has the smallest mean. These counts help us determine the posterior probability that each of the treatment groups has the smallest mean."
   ]
  },
  {
   "cell_type": "code",
   "execution_count": 56,
   "metadata": {},
   "outputs": [
    {
     "data": {
      "text/plain": [
       "\n",
       "         2          3          4          5          6 \n",
       "0.01526667 0.11776667 0.01033333 0.11710000 0.73953333 "
      ]
     },
     "metadata": {},
     "output_type": "display_data"
    }
   ],
   "source": [
    "prop.table( table( apply(mod_3_csim[,1:6], 1, which.min) ) )"
   ]
  },
  {
   "cell_type": "code",
   "execution_count": 57,
   "metadata": {},
   "outputs": [],
   "source": [
    "# The evidence supports wool B with high tension as the treatment that produces the fewest breaks."
   ]
  },
  {
   "cell_type": "code",
   "execution_count": null,
   "metadata": {},
   "outputs": [],
   "source": []
  },
  {
   "cell_type": "markdown",
   "metadata": {},
   "source": [
    "# Two-way cell means model with different Priors\n",
    "\n",
    "In this new model, μ will be a matrix with six entries, each corresponding to a treatment group with each group having different variance."
   ]
  },
  {
   "cell_type": "code",
   "execution_count": 73,
   "metadata": {},
   "outputs": [],
   "source": [
    "mod_4_str = \" model {\n",
    "    # Actual Bayesian Model's Likelihood\n",
    "    for(i in 1:length(y)){\n",
    "        y[i] ~ dnorm(mu[woolGrp[i], tensGrp[i]], prec[woolGrp[i], tensGrp[i]])\n",
    "    }\n",
    "\n",
    "    # Priors\n",
    "    for (j in 1:max(woolGrp)){\n",
    "        for (k in 1:max(tensGrp)){\n",
    "            mu[j, k] ~ dnorm(0.0, 1.0/1.0e6)\n",
    "            prec[j, k] ~ dgamma(1.0/2.0, 1.0*1.0/2.0)\n",
    "    }}\n",
    "    \n",
    "\n",
    "    # Variable dependent on Priors\n",
    "    for (j in 1:max(woolGrp)){\n",
    "        for (k in 1:max(tensGrp)){\n",
    "            sig[j, k] = sqrt(1/prec[j, k])\n",
    "    }}\n",
    "} \""
   ]
  },
  {
   "cell_type": "code",
   "execution_count": 74,
   "metadata": {},
   "outputs": [],
   "source": [
    "data_4_jags = list(y = log(warpbreaks$breaks), \n",
    "                   woolGrp = as.numeric(warpbreaks$wool), \n",
    "                   tensGrp = as.numeric(warpbreaks$tension))"
   ]
  },
  {
   "cell_type": "code",
   "execution_count": 75,
   "metadata": {},
   "outputs": [],
   "source": [
    "params_4 = c(\"mu\", \"sig\")"
   ]
  },
  {
   "cell_type": "code",
   "execution_count": 76,
   "metadata": {},
   "outputs": [],
   "source": [
    "inits_4 = function(){\n",
    "    inits = list(mu = matrix(rnorm(6, 1.0, 100.0), nrow = 2, byrow = TRUE),\n",
    "                 prec = matrix(rgamma(6, 1.0/2, 1.0/2), nrow = 2, byrow = TRUE))\n",
    "}"
   ]
  },
  {
   "cell_type": "code",
   "execution_count": 77,
   "metadata": {},
   "outputs": [
    {
     "name": "stdout",
     "output_type": "stream",
     "text": [
      "Compiling model graph\n",
      "   Resolving undeclared variables\n",
      "   Allocating nodes\n",
      "Graph information:\n",
      "   Observed stochastic nodes: 54\n",
      "   Unobserved stochastic nodes: 12\n",
      "   Total graph size: 193\n",
      "\n",
      "Initializing model\n",
      "\n"
     ]
    }
   ],
   "source": [
    "mod4 = jags.model(textConnection(mod_4_str), \n",
    "                  inits = inits_4, \n",
    "                  data = data_4_jags, \n",
    "                  n.chains = 3)"
   ]
  },
  {
   "cell_type": "markdown",
   "metadata": {},
   "source": [
    "### Simulations"
   ]
  },
  {
   "cell_type": "code",
   "execution_count": 78,
   "metadata": {},
   "outputs": [],
   "source": [
    "update(mod4, 1e3)"
   ]
  },
  {
   "cell_type": "code",
   "execution_count": 79,
   "metadata": {},
   "outputs": [],
   "source": [
    "mod_4_sim = coda.samples(model = mod4, \n",
    "                         variable.names = params_4, \n",
    "                         n.iter = 1e4)"
   ]
  },
  {
   "cell_type": "code",
   "execution_count": 80,
   "metadata": {},
   "outputs": [],
   "source": [
    "mod_4_csim = as.mcmc(do.call(rbind, mod_4_sim))"
   ]
  },
  {
   "cell_type": "markdown",
   "metadata": {},
   "source": [
    "### Model Checking"
   ]
  },
  {
   "cell_type": "code",
   "execution_count": 81,
   "metadata": {
    "scrolled": false
   },
   "outputs": [
    {
     "data": {
      "image/png": "[encoded data removed]",
      "text/plain": [
       "Plot with title \"Density of mu[1,2]\""
      ]
     },
     "metadata": {},
     "output_type": "display_data"
    },
    {
     "data": {
      "image/png": "[encoded data removed]",
      "text/plain": [
       "Plot with title \"Density of mu[2,3]\""
      ]
     },
     "metadata": {},
     "output_type": "display_data"
    },
    {
     "data": {
      "image/png": "[encoded data removed]",
      "text/plain": [
       "Plot with title \"Density of sig[1,2]\""
      ]
     },
     "metadata": {},
     "output_type": "display_data"
    },
    {
     "data": {
      "image/png": "[encoded data removed]",
      "text/plain": [
       "Plot with title \"Density of sig[2,3]\""
      ]
     },
     "metadata": {},
     "output_type": "display_data"
    }
   ],
   "source": [
    "options(repr.plot.width=8, repr.plot.height=8)\n",
    "\n",
    "plot(mod_4_sim)"
   ]
  },
  {
   "cell_type": "code",
   "execution_count": 82,
   "metadata": {
    "scrolled": false
   },
   "outputs": [
    {
     "data": {
      "text/plain": [
       "Potential scale reduction factors:\n",
       "\n",
       "         Point est. Upper C.I.\n",
       "mu[1,1]           1          1\n",
       "mu[2,1]           1          1\n",
       "mu[1,2]           1          1\n",
       "mu[2,2]           1          1\n",
       "mu[1,3]           1          1\n",
       "mu[2,3]           1          1\n",
       "sig[1,1]          1          1\n",
       "sig[2,1]          1          1\n",
       "sig[1,2]          1          1\n",
       "sig[2,2]          1          1\n",
       "sig[1,3]          1          1\n",
       "sig[2,3]          1          1\n",
       "\n",
       "Multivariate psrf\n",
       "\n",
       "1"
      ]
     },
     "metadata": {},
     "output_type": "display_data"
    },
    {
     "data": {
      "text/html": [
       "<table>\n",
       "<thead><tr><th></th><th scope=col>mu[1,1]</th><th scope=col>mu[2,1]</th><th scope=col>mu[1,2]</th><th scope=col>mu[2,2]</th><th scope=col>mu[1,3]</th><th scope=col>mu[2,3]</th><th scope=col>sig[1,1]</th><th scope=col>sig[2,1]</th><th scope=col>sig[1,2]</th><th scope=col>sig[2,2]</th><th scope=col>sig[1,3]</th><th scope=col>sig[2,3]</th></tr></thead>\n",
       "<tbody>\n",
       "\t<tr><th scope=row>Lag 0</th><td> 1.000000000 </td><td> 1.0000000000</td><td> 1.000000000 </td><td> 1.000000000 </td><td> 1.000000000 </td><td> 1.000000000 </td><td> 1.000000000 </td><td>1.000000000  </td><td> 1.000000e+00</td><td> 1.000000000 </td><td> 1.000000000 </td><td> 1.000000000 </td></tr>\n",
       "\t<tr><th scope=row>Lag 1</th><td>-0.008805410 </td><td>-0.0106456340</td><td> 0.002716926 </td><td> 0.004108142 </td><td>-0.011378181 </td><td> 0.001659944 </td><td> 0.126927330 </td><td>0.129164358  </td><td> 1.284308e-01</td><td> 0.123334313 </td><td> 0.122716210 </td><td> 0.123555490 </td></tr>\n",
       "\t<tr><th scope=row>Lag 5</th><td>-0.001118517 </td><td>-0.0002616098</td><td>-0.004409565 </td><td>-0.003148904 </td><td>-0.002936585 </td><td>-0.004882288 </td><td> 0.003013730 </td><td>0.002152693  </td><td>-9.087492e-05</td><td>-0.001236085 </td><td> 0.004292537 </td><td> 0.001876951 </td></tr>\n",
       "\t<tr><th scope=row>Lag 10</th><td> 0.004227730 </td><td>-0.0034888089</td><td>-0.012606702 </td><td> 0.002282738 </td><td> 0.006964460 </td><td> 0.007071533 </td><td> 0.008039187 </td><td>0.001548715  </td><td>-5.594529e-03</td><td> 0.006206247 </td><td>-0.009207042 </td><td>-0.008622758 </td></tr>\n",
       "\t<tr><th scope=row>Lag 50</th><td> 0.002992877 </td><td>-0.0028521700</td><td> 0.003488759 </td><td> 0.001275547 </td><td>-0.005315752 </td><td> 0.000970196 </td><td>-0.006861851 </td><td>0.003998687  </td><td> 1.108816e-02</td><td>-0.001920583 </td><td> 0.007973096 </td><td>-0.005236050 </td></tr>\n",
       "</tbody>\n",
       "</table>\n"
      ],
      "text/latex": [
       "\\begin{tabular}{r|llllllllllll}\n",
       "  & mu{[}1,1{]} & mu{[}2,1{]} & mu{[}1,2{]} & mu{[}2,2{]} & mu{[}1,3{]} & mu{[}2,3{]} & sig{[}1,1{]} & sig{[}2,1{]} & sig{[}1,2{]} & sig{[}2,2{]} & sig{[}1,3{]} & sig{[}2,3{]}\\\\\n",
       "\\hline\n",
       "\tLag 0 &  1.000000000  &  1.0000000000 &  1.000000000  &  1.000000000  &  1.000000000  &  1.000000000  &  1.000000000  & 1.000000000   &  1.000000e+00 &  1.000000000  &  1.000000000  &  1.000000000 \\\\\n",
       "\tLag 1 & -0.008805410  & -0.0106456340 &  0.002716926  &  0.004108142  & -0.011378181  &  0.001659944  &  0.126927330  & 0.129164358   &  1.284308e-01 &  0.123334313  &  0.122716210  &  0.123555490 \\\\\n",
       "\tLag 5 & -0.001118517  & -0.0002616098 & -0.004409565  & -0.003148904  & -0.002936585  & -0.004882288  &  0.003013730  & 0.002152693   & -9.087492e-05 & -0.001236085  &  0.004292537  &  0.001876951 \\\\\n",
       "\tLag 10 &  0.004227730  & -0.0034888089 & -0.012606702  &  0.002282738  &  0.006964460  &  0.007071533  &  0.008039187  & 0.001548715   & -5.594529e-03 &  0.006206247  & -0.009207042  & -0.008622758 \\\\\n",
       "\tLag 50 &  0.002992877  & -0.0028521700 &  0.003488759  &  0.001275547  & -0.005315752  &  0.000970196  & -0.006861851  & 0.003998687   &  1.108816e-02 & -0.001920583  &  0.007973096  & -0.005236050 \\\\\n",
       "\\end{tabular}\n"
      ],
      "text/markdown": [
       "\n",
       "| <!--/--> | mu[1,1] | mu[2,1] | mu[1,2] | mu[2,2] | mu[1,3] | mu[2,3] | sig[1,1] | sig[2,1] | sig[1,2] | sig[2,2] | sig[1,3] | sig[2,3] |\n",
       "|---|---|---|---|---|---|---|---|---|---|---|---|---|\n",
       "| Lag 0 |  1.000000000  |  1.0000000000 |  1.000000000  |  1.000000000  |  1.000000000  |  1.000000000  |  1.000000000  | 1.000000000   |  1.000000e+00 |  1.000000000  |  1.000000000  |  1.000000000  |\n",
       "| Lag 1 | -0.008805410  | -0.0106456340 |  0.002716926  |  0.004108142  | -0.011378181  |  0.001659944  |  0.126927330  | 0.129164358   |  1.284308e-01 |  0.123334313  |  0.122716210  |  0.123555490  |\n",
       "| Lag 5 | -0.001118517  | -0.0002616098 | -0.004409565  | -0.003148904  | -0.002936585  | -0.004882288  |  0.003013730  | 0.002152693   | -9.087492e-05 | -0.001236085  |  0.004292537  |  0.001876951  |\n",
       "| Lag 10 |  0.004227730  | -0.0034888089 | -0.012606702  |  0.002282738  |  0.006964460  |  0.007071533  |  0.008039187  | 0.001548715   | -5.594529e-03 |  0.006206247  | -0.009207042  | -0.008622758  |\n",
       "| Lag 50 |  0.002992877  | -0.0028521700 |  0.003488759  |  0.001275547  | -0.005315752  |  0.000970196  | -0.006861851  | 0.003998687   |  1.108816e-02 | -0.001920583  |  0.007973096  | -0.005236050  |\n",
       "\n"
      ],
      "text/plain": [
       "       mu[1,1]      mu[2,1]       mu[1,2]      mu[2,2]      mu[1,3]     \n",
       "Lag 0   1.000000000  1.0000000000  1.000000000  1.000000000  1.000000000\n",
       "Lag 1  -0.008805410 -0.0106456340  0.002716926  0.004108142 -0.011378181\n",
       "Lag 5  -0.001118517 -0.0002616098 -0.004409565 -0.003148904 -0.002936585\n",
       "Lag 10  0.004227730 -0.0034888089 -0.012606702  0.002282738  0.006964460\n",
       "Lag 50  0.002992877 -0.0028521700  0.003488759  0.001275547 -0.005315752\n",
       "       mu[2,3]      sig[1,1]     sig[2,1]    sig[1,2]      sig[2,2]    \n",
       "Lag 0   1.000000000  1.000000000 1.000000000  1.000000e+00  1.000000000\n",
       "Lag 1   0.001659944  0.126927330 0.129164358  1.284308e-01  0.123334313\n",
       "Lag 5  -0.004882288  0.003013730 0.002152693 -9.087492e-05 -0.001236085\n",
       "Lag 10  0.007071533  0.008039187 0.001548715 -5.594529e-03  0.006206247\n",
       "Lag 50  0.000970196 -0.006861851 0.003998687  1.108816e-02 -0.001920583\n",
       "       sig[1,3]     sig[2,3]    \n",
       "Lag 0   1.000000000  1.000000000\n",
       "Lag 1   0.122716210  0.123555490\n",
       "Lag 5   0.004292537  0.001876951\n",
       "Lag 10 -0.009207042 -0.008622758\n",
       "Lag 50  0.007973096 -0.005236050"
      ]
     },
     "metadata": {},
     "output_type": "display_data"
    },
    {
     "data": {
      "text/html": [
       "<dl class=dl-horizontal>\n",
       "\t<dt>mu[1,1]</dt>\n",
       "\t\t<dd>30390.3090870612</dd>\n",
       "\t<dt>mu[2,1]</dt>\n",
       "\t\t<dd>30641.4949775768</dd>\n",
       "\t<dt>mu[1,2]</dt>\n",
       "\t\t<dd>29999.9999999999</dd>\n",
       "\t<dt>mu[2,2]</dt>\n",
       "\t\t<dd>29919.1055327515</dd>\n",
       "\t<dt>mu[1,3]</dt>\n",
       "\t\t<dd>30245.4365635825</dd>\n",
       "\t<dt>mu[2,3]</dt>\n",
       "\t\t<dd>30080.853767684</dd>\n",
       "\t<dt>sig[1,1]</dt>\n",
       "\t\t<dd>23177.5200478418</dd>\n",
       "\t<dt>sig[2,1]</dt>\n",
       "\t\t<dd>23837.5492672325</dd>\n",
       "\t<dt>sig[1,2]</dt>\n",
       "\t\t<dd>23493.3775858004</dd>\n",
       "\t<dt>sig[2,2]</dt>\n",
       "\t\t<dd>23410.3803896106</dd>\n",
       "\t<dt>sig[1,3]</dt>\n",
       "\t\t<dd>23787.5243549052</dd>\n",
       "\t<dt>sig[2,3]</dt>\n",
       "\t\t<dd>23171.5504389834</dd>\n",
       "</dl>\n"
      ],
      "text/latex": [
       "\\begin{description*}\n",
       "\\item[mu\\{{[}\\}1,1\\{{]}\\}] 30390.3090870612\n",
       "\\item[mu\\{{[}\\}2,1\\{{]}\\}] 30641.4949775768\n",
       "\\item[mu\\{{[}\\}1,2\\{{]}\\}] 29999.9999999999\n",
       "\\item[mu\\{{[}\\}2,2\\{{]}\\}] 29919.1055327515\n",
       "\\item[mu\\{{[}\\}1,3\\{{]}\\}] 30245.4365635825\n",
       "\\item[mu\\{{[}\\}2,3\\{{]}\\}] 30080.853767684\n",
       "\\item[sig\\{{[}\\}1,1\\{{]}\\}] 23177.5200478418\n",
       "\\item[sig\\{{[}\\}2,1\\{{]}\\}] 23837.5492672325\n",
       "\\item[sig\\{{[}\\}1,2\\{{]}\\}] 23493.3775858004\n",
       "\\item[sig\\{{[}\\}2,2\\{{]}\\}] 23410.3803896106\n",
       "\\item[sig\\{{[}\\}1,3\\{{]}\\}] 23787.5243549052\n",
       "\\item[sig\\{{[}\\}2,3\\{{]}\\}] 23171.5504389834\n",
       "\\end{description*}\n"
      ],
      "text/markdown": [
       "mu[1,1]\n",
       ":   30390.3090870612mu[2,1]\n",
       ":   30641.4949775768mu[1,2]\n",
       ":   29999.9999999999mu[2,2]\n",
       ":   29919.1055327515mu[1,3]\n",
       ":   30245.4365635825mu[2,3]\n",
       ":   30080.853767684sig[1,1]\n",
       ":   23177.5200478418sig[2,1]\n",
       ":   23837.5492672325sig[1,2]\n",
       ":   23493.3775858004sig[2,2]\n",
       ":   23410.3803896106sig[1,3]\n",
       ":   23787.5243549052sig[2,3]\n",
       ":   23171.5504389834\n",
       "\n"
      ],
      "text/plain": [
       " mu[1,1]  mu[2,1]  mu[1,2]  mu[2,2]  mu[1,3]  mu[2,3] sig[1,1] sig[2,1] \n",
       "30390.31 30641.49 30000.00 29919.11 30245.44 30080.85 23177.52 23837.55 \n",
       "sig[1,2] sig[2,2] sig[1,3] sig[2,3] \n",
       "23493.38 23410.38 23787.52 23171.55 "
      ]
     },
     "metadata": {},
     "output_type": "display_data"
    },
    {
     "data": {
      "text/plain": [
       "[[1]]\n",
       "\n",
       "Quantile (q) = 0.025\n",
       "Accuracy (r) = +/- 0.005\n",
       "Probability (s) = 0.95 \n",
       "                                                \n",
       "          Burn-in  Total Lower bound  Dependence\n",
       "          (M)      (N)   (Nmin)       factor (I)\n",
       " mu[1,1]  2        3897  3746         1.040     \n",
       " mu[2,1]  2        3865  3746         1.030     \n",
       " mu[1,2]  3        4061  3746         1.080     \n",
       " mu[2,2]  2        3997  3746         1.070     \n",
       " mu[1,3]  3        4095  3746         1.090     \n",
       " mu[2,3]  2        3834  3746         1.020     \n",
       " sig[1,1] 2        3771  3746         1.010     \n",
       " sig[2,1] 2        3929  3746         1.050     \n",
       " sig[1,2] 2        3865  3746         1.030     \n",
       " sig[2,2] 2        3802  3746         1.010     \n",
       " sig[1,3] 2        3929  3746         1.050     \n",
       " sig[2,3] 2        3741  3746         0.999     \n",
       "\n",
       "\n",
       "[[2]]\n",
       "\n",
       "Quantile (q) = 0.025\n",
       "Accuracy (r) = +/- 0.005\n",
       "Probability (s) = 0.95 \n",
       "                                                \n",
       "          Burn-in  Total Lower bound  Dependence\n",
       "          (M)      (N)   (Nmin)       factor (I)\n",
       " mu[1,1]  3        4061  3746         1.080     \n",
       " mu[2,1]  2        3865  3746         1.030     \n",
       " mu[1,2]  2        3964  3746         1.060     \n",
       " mu[2,2]  3        4374  3746         1.170     \n",
       " mu[1,3]  2        3962  3746         1.060     \n",
       " mu[2,3]  3        4232  3746         1.130     \n",
       " sig[1,1] 2        3680  3746         0.982     \n",
       " sig[2,1] 2        3994  3746         1.070     \n",
       " sig[1,2] 2        3802  3746         1.010     \n",
       " sig[2,2] 2        3771  3746         1.010     \n",
       " sig[1,3] 2        3771  3746         1.010     \n",
       " sig[2,3] 2        3897  3746         1.040     \n",
       "\n",
       "\n",
       "[[3]]\n",
       "\n",
       "Quantile (q) = 0.025\n",
       "Accuracy (r) = +/- 0.005\n",
       "Probability (s) = 0.95 \n",
       "                                                \n",
       "          Burn-in  Total Lower bound  Dependence\n",
       "          (M)      (N)   (Nmin)       factor (I)\n",
       " mu[1,1]  2        3865  3746         1.030     \n",
       " mu[2,1]  3        4061  3746         1.080     \n",
       " mu[1,2]  2        3994  3746         1.070     \n",
       " mu[2,2]  3        4061  3746         1.080     \n",
       " mu[1,3]  2        3897  3746         1.040     \n",
       " mu[2,3]  3        4028  3746         1.080     \n",
       " sig[1,1] 2        3696  3746         0.987     \n",
       " sig[2,1] 2        3741  3746         0.999     \n",
       " sig[1,2] 2        3834  3746         1.020     \n",
       " sig[2,2] 2        3802  3746         1.010     \n",
       " sig[1,3] 2        3650  3746         0.974     \n",
       " sig[2,3] 2        3865  3746         1.030     \n",
       "\n"
      ]
     },
     "metadata": {},
     "output_type": "display_data"
    }
   ],
   "source": [
    "gelman.diag(mod_4_sim)\n",
    "autocorr.diag(mod_4_sim)\n",
    "effectiveSize(mod_4_sim)\n",
    "raftery.diag(mod_4_sim)"
   ]
  },
  {
   "cell_type": "markdown",
   "metadata": {},
   "source": [
    "### Result"
   ]
  },
  {
   "cell_type": "code",
   "execution_count": 83,
   "metadata": {},
   "outputs": [
    {
     "data": {
      "text/plain": [
       "Mean deviance:  52.06 \n",
       "penalty 7.195 \n",
       "Penalized deviance: 59.26 "
      ]
     },
     "metadata": {},
     "output_type": "display_data"
    }
   ],
   "source": [
    "dic_4 = dic.samples(model = mod3, n.iter = 1e4)\n",
    "dic_4"
   ]
  },
  {
   "cell_type": "code",
   "execution_count": 84,
   "metadata": {},
   "outputs": [
    {
     "data": {
      "text/plain": [
       "Mean deviance:  52.01 \n",
       "penalty 7.227 \n",
       "Penalized deviance: 59.23 "
      ]
     },
     "metadata": {},
     "output_type": "display_data"
    }
   ],
   "source": [
    "dic_3"
   ]
  },
  {
   "cell_type": "code",
   "execution_count": 86,
   "metadata": {},
   "outputs": [
    {
     "data": {
      "text/plain": [
       "Mean deviance:  55.5 \n",
       "penalty 5.11 \n",
       "Penalized deviance: 60.61 "
      ]
     },
     "metadata": {},
     "output_type": "display_data"
    }
   ],
   "source": [
    "dic_2"
   ]
  },
  {
   "cell_type": "code",
   "execution_count": 87,
   "metadata": {},
   "outputs": [
    {
     "data": {
      "text/plain": [
       "Mean deviance:  58.47 \n",
       "penalty 4.015 \n",
       "Penalized deviance: 62.48 "
      ]
     },
     "metadata": {},
     "output_type": "display_data"
    }
   ],
   "source": [
    "dic_1"
   ]
  },
  {
   "cell_type": "code",
   "execution_count": 85,
   "metadata": {},
   "outputs": [
    {
     "data": {
      "text/html": [
       "<table>\n",
       "<thead><tr><th></th><th scope=col>lower</th><th scope=col>upper</th></tr></thead>\n",
       "<tbody>\n",
       "\t<tr><th scope=row>mu[1,1]</th><td>3.3261878</td><td>4.1202027</td></tr>\n",
       "\t<tr><th scope=row>mu[2,1]</th><td>2.9242161</td><td>3.6484676</td></tr>\n",
       "\t<tr><th scope=row>mu[1,2]</th><td>2.7526336</td><td>3.4836383</td></tr>\n",
       "\t<tr><th scope=row>mu[2,2]</th><td>2.9673828</td><td>3.6658755</td></tr>\n",
       "\t<tr><th scope=row>mu[1,3]</th><td>2.7109151</td><td>3.5181238</td></tr>\n",
       "\t<tr><th scope=row>mu[2,3]</th><td>2.5851382</td><td>3.2081232</td></tr>\n",
       "\t<tr><th scope=row>sig[1,1]</th><td>0.3291012</td><td>0.8831598</td></tr>\n",
       "\t<tr><th scope=row>sig[2,1]</th><td>0.3031348</td><td>0.7988731</td></tr>\n",
       "\t<tr><th scope=row>sig[1,2]</th><td>0.3020678</td><td>0.8136045</td></tr>\n",
       "\t<tr><th scope=row>sig[2,2]</th><td>0.2842935</td><td>0.7738337</td></tr>\n",
       "\t<tr><th scope=row>sig[1,3]</th><td>0.3377863</td><td>0.9064366</td></tr>\n",
       "\t<tr><th scope=row>sig[2,3]</th><td>0.2577342</td><td>0.6837221</td></tr>\n",
       "</tbody>\n",
       "</table>\n"
      ],
      "text/latex": [
       "\\begin{tabular}{r|ll}\n",
       "  & lower & upper\\\\\n",
       "\\hline\n",
       "\tmu{[}1,1{]} & 3.3261878 & 4.1202027\\\\\n",
       "\tmu{[}2,1{]} & 2.9242161 & 3.6484676\\\\\n",
       "\tmu{[}1,2{]} & 2.7526336 & 3.4836383\\\\\n",
       "\tmu{[}2,2{]} & 2.9673828 & 3.6658755\\\\\n",
       "\tmu{[}1,3{]} & 2.7109151 & 3.5181238\\\\\n",
       "\tmu{[}2,3{]} & 2.5851382 & 3.2081232\\\\\n",
       "\tsig{[}1,1{]} & 0.3291012 & 0.8831598\\\\\n",
       "\tsig{[}2,1{]} & 0.3031348 & 0.7988731\\\\\n",
       "\tsig{[}1,2{]} & 0.3020678 & 0.8136045\\\\\n",
       "\tsig{[}2,2{]} & 0.2842935 & 0.7738337\\\\\n",
       "\tsig{[}1,3{]} & 0.3377863 & 0.9064366\\\\\n",
       "\tsig{[}2,3{]} & 0.2577342 & 0.6837221\\\\\n",
       "\\end{tabular}\n"
      ],
      "text/markdown": [
       "\n",
       "| <!--/--> | lower | upper |\n",
       "|---|---|---|\n",
       "| mu[1,1] | 3.3261878 | 4.1202027 |\n",
       "| mu[2,1] | 2.9242161 | 3.6484676 |\n",
       "| mu[1,2] | 2.7526336 | 3.4836383 |\n",
       "| mu[2,2] | 2.9673828 | 3.6658755 |\n",
       "| mu[1,3] | 2.7109151 | 3.5181238 |\n",
       "| mu[2,3] | 2.5851382 | 3.2081232 |\n",
       "| sig[1,1] | 0.3291012 | 0.8831598 |\n",
       "| sig[2,1] | 0.3031348 | 0.7988731 |\n",
       "| sig[1,2] | 0.3020678 | 0.8136045 |\n",
       "| sig[2,2] | 0.2842935 | 0.7738337 |\n",
       "| sig[1,3] | 0.3377863 | 0.9064366 |\n",
       "| sig[2,3] | 0.2577342 | 0.6837221 |\n",
       "\n"
      ],
      "text/plain": [
       "         lower     upper    \n",
       "mu[1,1]  3.3261878 4.1202027\n",
       "mu[2,1]  2.9242161 3.6484676\n",
       "mu[1,2]  2.7526336 3.4836383\n",
       "mu[2,2]  2.9673828 3.6658755\n",
       "mu[1,3]  2.7109151 3.5181238\n",
       "mu[2,3]  2.5851382 3.2081232\n",
       "sig[1,1] 0.3291012 0.8831598\n",
       "sig[2,1] 0.3031348 0.7988731\n",
       "sig[1,2] 0.3020678 0.8136045\n",
       "sig[2,2] 0.2842935 0.7738337\n",
       "sig[1,3] 0.3377863 0.9064366\n",
       "sig[2,3] 0.2577342 0.6837221"
      ]
     },
     "metadata": {},
     "output_type": "display_data"
    }
   ],
   "source": [
    "HPDinterval(mod_4_csim, prob = 0.95)"
   ]
  },
  {
   "cell_type": "code",
   "execution_count": null,
   "metadata": {},
   "outputs": [],
   "source": []
  },
  {
   "cell_type": "code",
   "execution_count": null,
   "metadata": {},
   "outputs": [],
   "source": []
  }
 ],
 "metadata": {
  "kernelspec": {
   "display_name": "R",
   "language": "R",
   "name": "ir"
  },
  "language_info": {
   "codemirror_mode": "r",
   "file_extension": ".r",
   "mimetype": "text/x-r-source",
   "name": "R",
   "pygments_lexer": "r",
   "version": "3.4.3"
  }
 },
 "nbformat": 4,
 "nbformat_minor": 2
}
