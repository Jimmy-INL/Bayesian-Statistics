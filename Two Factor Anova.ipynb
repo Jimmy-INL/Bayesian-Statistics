{
 "cells": [
  {
   "cell_type": "markdown",
   "metadata": {},
   "source": [
    "<h1><center>Two Factor Anova</center></h1>"
   ]
  },
  {
   "cell_type": "markdown",
   "metadata": {},
   "source": [
    "### Data"
   ]
  },
  {
   "cell_type": "code",
   "execution_count": 1,
   "metadata": {},
   "outputs": [
    {
     "data": {
      "text/html": [
       "<table>\n",
       "<thead><tr><th scope=col>breaks</th><th scope=col>wool</th><th scope=col>tension</th></tr></thead>\n",
       "<tbody>\n",
       "\t<tr><td>26</td><td>A </td><td>L </td></tr>\n",
       "\t<tr><td>30</td><td>A </td><td>L </td></tr>\n",
       "\t<tr><td>54</td><td>A </td><td>L </td></tr>\n",
       "\t<tr><td>25</td><td>A </td><td>L </td></tr>\n",
       "\t<tr><td>70</td><td>A </td><td>L </td></tr>\n",
       "\t<tr><td>52</td><td>A </td><td>L </td></tr>\n",
       "</tbody>\n",
       "</table>\n"
      ],
      "text/latex": [
       "\\begin{tabular}{r|lll}\n",
       " breaks & wool & tension\\\\\n",
       "\\hline\n",
       "\t 26 & A  & L \\\\\n",
       "\t 30 & A  & L \\\\\n",
       "\t 54 & A  & L \\\\\n",
       "\t 25 & A  & L \\\\\n",
       "\t 70 & A  & L \\\\\n",
       "\t 52 & A  & L \\\\\n",
       "\\end{tabular}\n"
      ],
      "text/markdown": [
       "\n",
       "| breaks | wool | tension |\n",
       "|---|---|---|\n",
       "| 26 | A  | L  |\n",
       "| 30 | A  | L  |\n",
       "| 54 | A  | L  |\n",
       "| 25 | A  | L  |\n",
       "| 70 | A  | L  |\n",
       "| 52 | A  | L  |\n",
       "\n"
      ],
      "text/plain": [
       "  breaks wool tension\n",
       "1 26     A    L      \n",
       "2 30     A    L      \n",
       "3 54     A    L      \n",
       "4 25     A    L      \n",
       "5 70     A    L      \n",
       "6 52     A    L      "
      ]
     },
     "metadata": {},
     "output_type": "display_data"
    }
   ],
   "source": [
    "data(\"warpbreaks\")\n",
    "?warpbreaks\n",
    "head(warpbreaks)"
   ]
  },
  {
   "cell_type": "code",
   "execution_count": 2,
   "metadata": {},
   "outputs": [
    {
     "data": {
      "text/plain": [
       "   \n",
       "    L M H\n",
       "  A 9 9 9\n",
       "  B 9 9 9"
      ]
     },
     "metadata": {},
     "output_type": "display_data"
    }
   ],
   "source": [
    "table(warpbreaks$wool, warpbreaks$tension)"
   ]
  },
  {
   "cell_type": "code",
   "execution_count": 3,
   "metadata": {},
   "outputs": [
    {
     "data": {
      "image/png": "[encoded data removed]",
      "text/plain": [
       "plot without title"
      ]
     },
     "metadata": {},
     "output_type": "display_data"
    }
   ],
   "source": [
    "options(repr.plot.width=8, repr.plot.height=5)\n",
    "\n",
    "boxplot(breaks ~ wool + tension, data=warpbreaks)"
   ]
  },
  {
   "cell_type": "code",
   "execution_count": 4,
   "metadata": {},
   "outputs": [
    {
     "data": {
      "image/png": "[encoded data removed]",
      "text/plain": [
       "plot without title"
      ]
     },
     "metadata": {},
     "output_type": "display_data"
    }
   ],
   "source": [
    "boxplot(log(breaks) ~ wool + tension, data=warpbreaks)\n",
    "\n",
    "# The different groups have more similar variance if we use the logarithm of breaks. \n",
    "# From this visualization, it looks like both factors may play a role in the number of breaks. \n",
    "# It appears that there is a general decrease in breaks as we move from low to medium to high tension."
   ]
  },
  {
   "cell_type": "code",
   "execution_count": null,
   "metadata": {},
   "outputs": [],
   "source": []
  },
  {
   "cell_type": "markdown",
   "metadata": {},
   "source": [
    "# One-way model"
   ]
  },
  {
   "cell_type": "code",
   "execution_count": 5,
   "metadata": {},
   "outputs": [
    {
     "name": "stderr",
     "output_type": "stream",
     "text": [
      "Warning message:\n",
      "\"package 'coda' was built under R version 3.4.4\"Warning message:\n",
      "\"package 'rjags' was built under R version 3.4.4\"Linked to JAGS 4.3.0\n",
      "Loaded modules: basemod,bugs\n"
     ]
    }
   ],
   "source": [
    "library(\"coda\")\n",
    "library(\"rjags\")"
   ]
  },
  {
   "cell_type": "code",
   "execution_count": 6,
   "metadata": {},
   "outputs": [],
   "source": [
    "set.seed(83)"
   ]
  },
  {
   "cell_type": "markdown",
   "metadata": {},
   "source": [
    "### Modelling"
   ]
  },
  {
   "cell_type": "code",
   "execution_count": 7,
   "metadata": {},
   "outputs": [],
   "source": [
    "mod_1_str = \" model {\n",
    "    # Actual Bayesian Model\n",
    "    for(i in 1:length(y)){\n",
    "        y[i] ~ dnorm(mu[tensGrp[i]], prec)\n",
    "    }\n",
    "\n",
    "    # Priors\n",
    "    for (j in 1:3){\n",
    "        mu[j] ~ dnorm(0.0, 1.0/1.0e6)\n",
    "    }\n",
    "    prec ~ dgamma(5/2.0, 5*1.0/2.0)\n",
    "\n",
    "    # Variable dependent on Priors\n",
    "    sig = sqrt(1/prec)\n",
    "} \""
   ]
  },
  {
   "cell_type": "code",
   "execution_count": 8,
   "metadata": {},
   "outputs": [],
   "source": [
    "data_1_jags = list(y = log(warpbreaks$breaks), tensGrp = as.numeric(warpbreaks$tension))"
   ]
  },
  {
   "cell_type": "code",
   "execution_count": 9,
   "metadata": {},
   "outputs": [],
   "source": [
    "params_1 = c(\"mu\", \"sig\")"
   ]
  },
  {
   "cell_type": "code",
   "execution_count": 10,
   "metadata": {},
   "outputs": [],
   "source": [
    "inits_1 = function(){\n",
    "    inits = list(mu = rnorm(3, 1.0, 100.0), \n",
    "                 prec = rgamma(1, 1.0, 1.0))\n",
    "}"
   ]
  },
  {
   "cell_type": "code",
   "execution_count": 11,
   "metadata": {},
   "outputs": [
    {
     "name": "stdout",
     "output_type": "stream",
     "text": [
      "Compiling model graph\n",
      "   Resolving undeclared variables\n",
      "   Allocating nodes\n",
      "Graph information:\n",
      "   Observed stochastic nodes: 54\n",
      "   Unobserved stochastic nodes: 4\n",
      "   Total graph size: 122\n",
      "\n",
      "Initializing model\n",
      "\n"
     ]
    }
   ],
   "source": [
    "mod1 = jags.model(textConnection(mod_1_str), \n",
    "                  inits = inits_1, \n",
    "                  data = data_1_jags, \n",
    "                  n.chains = 3)"
   ]
  },
  {
   "cell_type": "markdown",
   "metadata": {},
   "source": [
    "### Simulations"
   ]
  },
  {
   "cell_type": "code",
   "execution_count": 12,
   "metadata": {},
   "outputs": [],
   "source": [
    "update(mod1, 1e3)"
   ]
  },
  {
   "cell_type": "code",
   "execution_count": 13,
   "metadata": {},
   "outputs": [],
   "source": [
    "mod_1_sim = coda.samples(model = mod1, \n",
    "                         variable.names = params_1, \n",
    "                         n.iter = 1e4)"
   ]
  },
  {
   "cell_type": "code",
   "execution_count": 14,
   "metadata": {},
   "outputs": [],
   "source": [
    "mod_1_csim = as.mcmc(do.call(rbind, mod_1_sim))"
   ]
  },
  {
   "cell_type": "markdown",
   "metadata": {},
   "source": [
    "### Model Checking"
   ]
  },
  {
   "cell_type": "code",
   "execution_count": 15,
   "metadata": {},
   "outputs": [
    {
     "data": {
      "image/png": "[encoded data removed]",
      "text/plain": [
       "Plot with title \"Density of sig\""
      ]
     },
     "metadata": {},
     "output_type": "display_data"
    }
   ],
   "source": [
    "options(repr.plot.width=8, repr.plot.height=8)\n",
    "\n",
    "plot(mod_1_sim)"
   ]
  },
  {
   "cell_type": "code",
   "execution_count": 16,
   "metadata": {},
   "outputs": [
    {
     "data": {
      "text/plain": [
       "Potential scale reduction factors:\n",
       "\n",
       "      Point est. Upper C.I.\n",
       "mu[1]          1          1\n",
       "mu[2]          1          1\n",
       "mu[3]          1          1\n",
       "sig            1          1\n",
       "\n",
       "Multivariate psrf\n",
       "\n",
       "1"
      ]
     },
     "metadata": {},
     "output_type": "display_data"
    },
    {
     "data": {
      "text/html": [
       "<table>\n",
       "<thead><tr><th></th><th scope=col>mu[1]</th><th scope=col>mu[2]</th><th scope=col>mu[3]</th><th scope=col>sig</th></tr></thead>\n",
       "<tbody>\n",
       "\t<tr><th scope=row>Lag 0</th><td> 1.0000000000</td><td> 1.000000000 </td><td> 1.0000000000</td><td>1.000000000  </td></tr>\n",
       "\t<tr><th scope=row>Lag 1</th><td> 0.0010854604</td><td>-0.002000921 </td><td>-0.0022761575</td><td>0.047455575  </td></tr>\n",
       "\t<tr><th scope=row>Lag 5</th><td> 0.0081608128</td><td> 0.001692462 </td><td> 0.0006040648</td><td>0.009644711  </td></tr>\n",
       "\t<tr><th scope=row>Lag 10</th><td>-0.0001133468</td><td> 0.001783390 </td><td> 0.0050357903</td><td>0.004160427  </td></tr>\n",
       "\t<tr><th scope=row>Lag 50</th><td> 0.0039137063</td><td>-0.004286038 </td><td>-0.0027895087</td><td>0.004127304  </td></tr>\n",
       "</tbody>\n",
       "</table>\n"
      ],
      "text/latex": [
       "\\begin{tabular}{r|llll}\n",
       "  & mu{[}1{]} & mu{[}2{]} & mu{[}3{]} & sig\\\\\n",
       "\\hline\n",
       "\tLag 0 &  1.0000000000 &  1.000000000  &  1.0000000000 & 1.000000000  \\\\\n",
       "\tLag 1 &  0.0010854604 & -0.002000921  & -0.0022761575 & 0.047455575  \\\\\n",
       "\tLag 5 &  0.0081608128 &  0.001692462  &  0.0006040648 & 0.009644711  \\\\\n",
       "\tLag 10 & -0.0001133468 &  0.001783390  &  0.0050357903 & 0.004160427  \\\\\n",
       "\tLag 50 &  0.0039137063 & -0.004286038  & -0.0027895087 & 0.004127304  \\\\\n",
       "\\end{tabular}\n"
      ],
      "text/markdown": [
       "\n",
       "| <!--/--> | mu[1] | mu[2] | mu[3] | sig |\n",
       "|---|---|---|---|---|\n",
       "| Lag 0 |  1.0000000000 |  1.000000000  |  1.0000000000 | 1.000000000   |\n",
       "| Lag 1 |  0.0010854604 | -0.002000921  | -0.0022761575 | 0.047455575   |\n",
       "| Lag 5 |  0.0081608128 |  0.001692462  |  0.0006040648 | 0.009644711   |\n",
       "| Lag 10 | -0.0001133468 |  0.001783390  |  0.0050357903 | 0.004160427   |\n",
       "| Lag 50 |  0.0039137063 | -0.004286038  | -0.0027895087 | 0.004127304   |\n",
       "\n"
      ],
      "text/plain": [
       "       mu[1]         mu[2]        mu[3]         sig        \n",
       "Lag 0   1.0000000000  1.000000000  1.0000000000 1.000000000\n",
       "Lag 1   0.0010854604 -0.002000921 -0.0022761575 0.047455575\n",
       "Lag 5   0.0081608128  0.001692462  0.0006040648 0.009644711\n",
       "Lag 10 -0.0001133468  0.001783390  0.0050357903 0.004160427\n",
       "Lag 50  0.0039137063 -0.004286038 -0.0027895087 0.004127304"
      ]
     },
     "metadata": {},
     "output_type": "display_data"
    },
    {
     "data": {
      "text/html": [
       "<dl class=dl-horizontal>\n",
       "\t<dt>mu[1]</dt>\n",
       "\t\t<dd>29851.5088707424</dd>\n",
       "\t<dt>mu[2]</dt>\n",
       "\t\t<dd>29978.7827706027</dd>\n",
       "\t<dt>mu[3]</dt>\n",
       "\t\t<dd>30000</dd>\n",
       "\t<dt>sig</dt>\n",
       "\t\t<dd>28187.1152758464</dd>\n",
       "</dl>\n"
      ],
      "text/latex": [
       "\\begin{description*}\n",
       "\\item[mu\\{{[}\\}1\\{{]}\\}] 29851.5088707424\n",
       "\\item[mu\\{{[}\\}2\\{{]}\\}] 29978.7827706027\n",
       "\\item[mu\\{{[}\\}3\\{{]}\\}] 30000\n",
       "\\item[sig] 28187.1152758464\n",
       "\\end{description*}\n"
      ],
      "text/markdown": [
       "mu[1]\n",
       ":   29851.5088707424mu[2]\n",
       ":   29978.7827706027mu[3]\n",
       ":   30000sig\n",
       ":   28187.1152758464\n",
       "\n"
      ],
      "text/plain": [
       "   mu[1]    mu[2]    mu[3]      sig \n",
       "29851.51 29978.78 30000.00 28187.12 "
      ]
     },
     "metadata": {},
     "output_type": "display_data"
    }
   ],
   "source": [
    "gelman.diag(mod_1_sim)\n",
    "autocorr.diag(mod_1_sim)\n",
    "effectiveSize(mod_1_sim)"
   ]
  },
  {
   "cell_type": "markdown",
   "metadata": {},
   "source": [
    "### Results"
   ]
  },
  {
   "cell_type": "code",
   "execution_count": 17,
   "metadata": {},
   "outputs": [
    {
     "data": {
      "text/plain": [
       "\n",
       "Iterations = 1001:11000\n",
       "Thinning interval = 1 \n",
       "Number of chains = 3 \n",
       "Sample size per chain = 10000 \n",
       "\n",
       "1. Empirical mean and standard deviation for each variable,\n",
       "   plus standard error of the mean:\n",
       "\n",
       "        Mean      SD  Naive SE Time-series SE\n",
       "mu[1] 3.5000 0.11504 0.0006642      0.0006660\n",
       "mu[2] 3.2129 0.11480 0.0006628      0.0006634\n",
       "mu[3] 3.0106 0.11572 0.0006681      0.0006681\n",
       "sig   0.4874 0.04677 0.0002700      0.0002787\n",
       "\n",
       "2. Quantiles for each variable:\n",
       "\n",
       "        2.5%    25%    50%    75%  97.5%\n",
       "mu[1] 3.2749 3.4234 3.5001 3.5769 3.7294\n",
       "mu[2] 2.9876 3.1365 3.2138 3.2892 3.4378\n",
       "mu[3] 2.7832 2.9340 3.0107 3.0876 3.2378\n",
       "sig   0.4059 0.4548 0.4838 0.5163 0.5887\n"
      ]
     },
     "metadata": {},
     "output_type": "display_data"
    }
   ],
   "source": [
    "summary(mod_1_sim)\n",
    "\n",
    "# The 95% posterior interval for the mean of group 2 (medium tension) overlaps with both the low and high groups,\n",
    "# but the intervals for low and high group only slightly overlap. That is a pretty strong indication that the means\n",
    "# for low and high tension are different."
   ]
  },
  {
   "cell_type": "code",
   "execution_count": 18,
   "metadata": {},
   "outputs": [
    {
     "data": {
      "text/plain": [
       "Mean deviance:  58.43 \n",
       "penalty 4.058 \n",
       "Penalized deviance: 62.49 "
      ]
     },
     "metadata": {},
     "output_type": "display_data"
    }
   ],
   "source": [
    "dic_1 = dic.samples(mod1, 1e4)\n",
    "dic_1"
   ]
  },
  {
   "cell_type": "code",
   "execution_count": null,
   "metadata": {},
   "outputs": [],
   "source": []
  },
  {
   "cell_type": "markdown",
   "metadata": {},
   "source": [
    "# Two-way Additive Model\n",
    "\n",
    "We will fit the additive model which treats the two factors separately with no interaction."
   ]
  },
  {
   "cell_type": "code",
   "execution_count": 19,
   "metadata": {},
   "outputs": [
    {
     "data": {
      "text/html": [
       "<table>\n",
       "<thead><tr><th scope=col>(Intercept)</th><th scope=col>woolB</th><th scope=col>tensionM</th><th scope=col>tensionH</th></tr></thead>\n",
       "<tbody>\n",
       "\t<tr><td>1</td><td>0</td><td>0</td><td>0</td></tr>\n",
       "\t<tr><td>1</td><td>0</td><td>0</td><td>0</td></tr>\n",
       "\t<tr><td>1</td><td>0</td><td>0</td><td>0</td></tr>\n",
       "\t<tr><td>1</td><td>0</td><td>0</td><td>0</td></tr>\n",
       "\t<tr><td>1</td><td>0</td><td>0</td><td>0</td></tr>\n",
       "\t<tr><td>1</td><td>0</td><td>0</td><td>0</td></tr>\n",
       "</tbody>\n",
       "</table>\n"
      ],
      "text/latex": [
       "\\begin{tabular}{r|llll}\n",
       " (Intercept) & woolB & tensionM & tensionH\\\\\n",
       "\\hline\n",
       "\t 1 & 0 & 0 & 0\\\\\n",
       "\t 1 & 0 & 0 & 0\\\\\n",
       "\t 1 & 0 & 0 & 0\\\\\n",
       "\t 1 & 0 & 0 & 0\\\\\n",
       "\t 1 & 0 & 0 & 0\\\\\n",
       "\t 1 & 0 & 0 & 0\\\\\n",
       "\\end{tabular}\n"
      ],
      "text/markdown": [
       "\n",
       "| (Intercept) | woolB | tensionM | tensionH |\n",
       "|---|---|---|---|\n",
       "| 1 | 0 | 0 | 0 |\n",
       "| 1 | 0 | 0 | 0 |\n",
       "| 1 | 0 | 0 | 0 |\n",
       "| 1 | 0 | 0 | 0 |\n",
       "| 1 | 0 | 0 | 0 |\n",
       "| 1 | 0 | 0 | 0 |\n",
       "\n"
      ],
      "text/plain": [
       "  (Intercept) woolB tensionM tensionH\n",
       "1 1           0     0        0       \n",
       "2 1           0     0        0       \n",
       "3 1           0     0        0       \n",
       "4 1           0     0        0       \n",
       "5 1           0     0        0       \n",
       "6 1           0     0        0       "
      ]
     },
     "metadata": {},
     "output_type": "display_data"
    }
   ],
   "source": [
    "# Design Matrix\n",
    "\n",
    "X = model.matrix(breaks ~ wool + tension, data=warpbreaks)\n",
    "head(X)"
   ]
  },
  {
   "cell_type": "code",
   "execution_count": 20,
   "metadata": {},
   "outputs": [],
   "source": [
    "# By default, R has chosen the mean for wool A and low tension to be the intercept. \n",
    "# Then, there is an effect for wool B, and effects for medium tension and high tension, \n",
    "# each associated with dummy indicator variables."
   ]
  },
  {
   "cell_type": "markdown",
   "metadata": {},
   "source": [
    "### Modelling"
   ]
  },
  {
   "cell_type": "code",
   "execution_count": 21,
   "metadata": {},
   "outputs": [],
   "source": [
    "mod_2_str = \" model {\n",
    "    # Actual Bayesian Model\n",
    "    for(i in 1:length(y)){\n",
    "        y[i] ~ dnorm(mu[i], prec)\n",
    "        mu[i] = int + alpha*isWoolB[i] + beta[1]*isTensionM[i] + beta[2]*isTensionH[i]\n",
    "    }\n",
    "\n",
    "    # Priors\n",
    "    for (j in 1:2){\n",
    "        beta[j] ~ dnorm(0.0, 1.0/1.0e6)\n",
    "    }\n",
    "    int ~ dnorm(0.0, 1.0/1.0e6)\n",
    "    alpha ~ dnorm(0.0, 1.0/1.0e6)\n",
    "    prec ~ dgamma(3/2.0, 3*1.0/2.0)\n",
    "\n",
    "    # Variable dependent on Priors\n",
    "    sig = sqrt(1/prec)\n",
    "} \""
   ]
  },
  {
   "cell_type": "code",
   "execution_count": 22,
   "metadata": {},
   "outputs": [],
   "source": [
    "data_2_jags = list(y = log(warpbreaks$breaks), \n",
    "                   isWoolB = X[,\"woolB\"], \n",
    "                   isTensionM = X[,\"tensionM\"], \n",
    "                   isTensionH = X[,\"tensionH\"])"
   ]
  },
  {
   "cell_type": "code",
   "execution_count": 23,
   "metadata": {},
   "outputs": [],
   "source": [
    "params_2 = c(\"int\", \"alpha\", \"beta\", \"sig\")"
   ]
  },
  {
   "cell_type": "code",
   "execution_count": 24,
   "metadata": {},
   "outputs": [],
   "source": [
    "inits_2 = function(){\n",
    "    inits = list(int = rnorm(1, 1.0, 100.0), \n",
    "                 alpha = rnorm(1, 1.0, 100.0), \n",
    "                 beta = rnorm(2, 1.0, 100.0),\n",
    "                 prec = rgamma(1, 1.0, 1.0))\n",
    "}"
   ]
  },
  {
   "cell_type": "code",
   "execution_count": 25,
   "metadata": {},
   "outputs": [
    {
     "name": "stdout",
     "output_type": "stream",
     "text": [
      "Compiling model graph\n",
      "   Resolving undeclared variables\n",
      "   Allocating nodes\n",
      "Graph information:\n",
      "   Observed stochastic nodes: 54\n",
      "   Unobserved stochastic nodes: 5\n",
      "   Total graph size: 243\n",
      "\n",
      "Initializing model\n",
      "\n"
     ]
    }
   ],
   "source": [
    "mod2 = jags.model(textConnection(mod_2_str), \n",
    "                  inits = inits_2, \n",
    "                  data = data_2_jags, \n",
    "                  n.chains = 3)"
   ]
  },
  {
   "cell_type": "markdown",
   "metadata": {},
   "source": [
    "### Simulations"
   ]
  },
  {
   "cell_type": "code",
   "execution_count": 26,
   "metadata": {},
   "outputs": [],
   "source": [
    "update(mod2, 1e3)"
   ]
  },
  {
   "cell_type": "code",
   "execution_count": 27,
   "metadata": {},
   "outputs": [],
   "source": [
    "mod_2_sim = coda.samples(model = mod2, \n",
    "                         variable.names = params_2, \n",
    "                         n.iter = 1e4)"
   ]
  },
  {
   "cell_type": "code",
   "execution_count": 28,
   "metadata": {},
   "outputs": [],
   "source": [
    "mod_2_csim = as.mcmc(do.call(rbind, mod_2_sim))"
   ]
  },
  {
   "cell_type": "markdown",
   "metadata": {},
   "source": [
    "### Model Checking"
   ]
  },
  {
   "cell_type": "code",
   "execution_count": 29,
   "metadata": {
    "scrolled": false
   },
   "outputs": [
    {
     "data": {
      "image/png": "[encoded data removed]",
      "text/plain": [
       "Plot with title \"Density of beta[2]\""
      ]
     },
     "metadata": {},
     "output_type": "display_data"
    },
    {
     "data": {
      "image/png": "[encoded data removed]",
      "text/plain": [
       "Plot with title \"Density of sig\""
      ]
     },
     "metadata": {},
     "output_type": "display_data"
    }
   ],
   "source": [
    "plot(mod_2_sim)"
   ]
  },
  {
   "cell_type": "code",
   "execution_count": 30,
   "metadata": {},
   "outputs": [
    {
     "data": {
      "text/plain": [
       "Potential scale reduction factors:\n",
       "\n",
       "        Point est. Upper C.I.\n",
       "alpha            1          1\n",
       "beta[1]          1          1\n",
       "beta[2]          1          1\n",
       "int              1          1\n",
       "sig              1          1\n",
       "\n",
       "Multivariate psrf\n",
       "\n",
       "1"
      ]
     },
     "metadata": {},
     "output_type": "display_data"
    },
    {
     "data": {
      "text/html": [
       "<table>\n",
       "<thead><tr><th></th><th scope=col>alpha</th><th scope=col>beta[1]</th><th scope=col>beta[2]</th><th scope=col>int</th><th scope=col>sig</th></tr></thead>\n",
       "<tbody>\n",
       "\t<tr><th scope=row>Lag 0</th><td> 1.000000000</td><td>1.000000000 </td><td>1.000000000 </td><td>1.000000000 </td><td> 1.000000000</td></tr>\n",
       "\t<tr><th scope=row>Lag 1</th><td> 0.494324623</td><td>0.497486633 </td><td>0.491601913 </td><td>0.750779961 </td><td> 0.070690017</td></tr>\n",
       "\t<tr><th scope=row>Lag 5</th><td> 0.026251730</td><td>0.092469892 </td><td>0.095059980 </td><td>0.176218110 </td><td> 0.004976091</td></tr>\n",
       "\t<tr><th scope=row>Lag 10</th><td>-0.008834270</td><td>0.009651229 </td><td>0.018315548 </td><td>0.018208832 </td><td> 0.001821280</td></tr>\n",
       "\t<tr><th scope=row>Lag 50</th><td>-0.005129736</td><td>0.006051210 </td><td>0.002696888 </td><td>0.002170663 </td><td>-0.001604680</td></tr>\n",
       "</tbody>\n",
       "</table>\n"
      ],
      "text/latex": [
       "\\begin{tabular}{r|lllll}\n",
       "  & alpha & beta{[}1{]} & beta{[}2{]} & int & sig\\\\\n",
       "\\hline\n",
       "\tLag 0 &  1.000000000 & 1.000000000  & 1.000000000  & 1.000000000  &  1.000000000\\\\\n",
       "\tLag 1 &  0.494324623 & 0.497486633  & 0.491601913  & 0.750779961  &  0.070690017\\\\\n",
       "\tLag 5 &  0.026251730 & 0.092469892  & 0.095059980  & 0.176218110  &  0.004976091\\\\\n",
       "\tLag 10 & -0.008834270 & 0.009651229  & 0.018315548  & 0.018208832  &  0.001821280\\\\\n",
       "\tLag 50 & -0.005129736 & 0.006051210  & 0.002696888  & 0.002170663  & -0.001604680\\\\\n",
       "\\end{tabular}\n"
      ],
      "text/markdown": [
       "\n",
       "| <!--/--> | alpha | beta[1] | beta[2] | int | sig |\n",
       "|---|---|---|---|---|---|\n",
       "| Lag 0 |  1.000000000 | 1.000000000  | 1.000000000  | 1.000000000  |  1.000000000 |\n",
       "| Lag 1 |  0.494324623 | 0.497486633  | 0.491601913  | 0.750779961  |  0.070690017 |\n",
       "| Lag 5 |  0.026251730 | 0.092469892  | 0.095059980  | 0.176218110  |  0.004976091 |\n",
       "| Lag 10 | -0.008834270 | 0.009651229  | 0.018315548  | 0.018208832  |  0.001821280 |\n",
       "| Lag 50 | -0.005129736 | 0.006051210  | 0.002696888  | 0.002170663  | -0.001604680 |\n",
       "\n"
      ],
      "text/plain": [
       "       alpha        beta[1]     beta[2]     int         sig         \n",
       "Lag 0   1.000000000 1.000000000 1.000000000 1.000000000  1.000000000\n",
       "Lag 1   0.494324623 0.497486633 0.491601913 0.750779961  0.070690017\n",
       "Lag 5   0.026251730 0.092469892 0.095059980 0.176218110  0.004976091\n",
       "Lag 10 -0.008834270 0.009651229 0.018315548 0.018208832  0.001821280\n",
       "Lag 50 -0.005129736 0.006051210 0.002696888 0.002170663 -0.001604680"
      ]
     },
     "metadata": {},
     "output_type": "display_data"
    },
    {
     "data": {
      "text/html": [
       "<dl class=dl-horizontal>\n",
       "\t<dt>alpha</dt>\n",
       "\t\t<dd>10698.5184215109</dd>\n",
       "\t<dt>beta[1]</dt>\n",
       "\t\t<dd>7645.36045777191</dd>\n",
       "\t<dt>beta[2]</dt>\n",
       "\t\t<dd>7783.4148937412</dd>\n",
       "\t<dt>int</dt>\n",
       "\t\t<dd>4961.2086788748</dd>\n",
       "\t<dt>sig</dt>\n",
       "\t\t<dd>24323.4114006248</dd>\n",
       "</dl>\n"
      ],
      "text/latex": [
       "\\begin{description*}\n",
       "\\item[alpha] 10698.5184215109\n",
       "\\item[beta\\{{[}\\}1\\{{]}\\}] 7645.36045777191\n",
       "\\item[beta\\{{[}\\}2\\{{]}\\}] 7783.4148937412\n",
       "\\item[int] 4961.2086788748\n",
       "\\item[sig] 24323.4114006248\n",
       "\\end{description*}\n"
      ],
      "text/markdown": [
       "alpha\n",
       ":   10698.5184215109beta[1]\n",
       ":   7645.36045777191beta[2]\n",
       ":   7783.4148937412int\n",
       ":   4961.2086788748sig\n",
       ":   24323.4114006248\n",
       "\n"
      ],
      "text/plain": [
       "    alpha   beta[1]   beta[2]       int       sig \n",
       "10698.518  7645.360  7783.415  4961.209 24323.411 "
      ]
     },
     "metadata": {},
     "output_type": "display_data"
    }
   ],
   "source": [
    "gelman.diag(mod_2_sim)\n",
    "autocorr.diag(mod_2_sim)\n",
    "effectiveSize(mod_2_sim)"
   ]
  },
  {
   "cell_type": "markdown",
   "metadata": {},
   "source": [
    "### Results"
   ]
  },
  {
   "cell_type": "code",
   "execution_count": 31,
   "metadata": {},
   "outputs": [
    {
     "data": {
      "text/plain": [
       "\n",
       "Iterations = 1001:11000\n",
       "Thinning interval = 1 \n",
       "Number of chains = 3 \n",
       "Sample size per chain = 10000 \n",
       "\n",
       "1. Empirical mean and standard deviation for each variable,\n",
       "   plus standard error of the mean:\n",
       "\n",
       "           Mean      SD  Naive SE Time-series SE\n",
       "alpha   -0.1527 0.12376 0.0007145      0.0011992\n",
       "beta[1] -0.2884 0.15244 0.0008801      0.0017449\n",
       "beta[2] -0.4897 0.15172 0.0008760      0.0017196\n",
       "int      3.5771 0.12442 0.0007183      0.0017664\n",
       "sig      0.4540 0.04524 0.0002612      0.0002915\n",
       "\n",
       "2. Quantiles for each variable:\n",
       "\n",
       "           2.5%     25%     50%      75%    97.5%\n",
       "alpha   -0.3990 -0.2357 -0.1525 -0.07023  0.09091\n",
       "beta[1] -0.5911 -0.3888 -0.2887 -0.18683  0.01166\n",
       "beta[2] -0.7846 -0.5907 -0.4904 -0.38807 -0.18963\n",
       "int      3.3312  3.4949  3.5776  3.66020  3.82101\n",
       "sig      0.3757  0.4222  0.4502  0.48201  0.55180\n"
      ]
     },
     "metadata": {},
     "output_type": "display_data"
    }
   ],
   "source": [
    "summary(mod_2_sim)"
   ]
  },
  {
   "cell_type": "code",
   "execution_count": 32,
   "metadata": {},
   "outputs": [
    {
     "data": {
      "text/plain": [
       "Mean deviance:  55.5 \n",
       "penalty 5.118 \n",
       "Penalized deviance: 60.62 "
      ]
     },
     "metadata": {},
     "output_type": "display_data"
    }
   ],
   "source": [
    "dic_2 = dic.samples(mod2, 1e4)\n",
    "dic_2"
   ]
  },
  {
   "cell_type": "code",
   "execution_count": 33,
   "metadata": {},
   "outputs": [
    {
     "data": {
      "text/plain": [
       "Mean deviance:  58.43 \n",
       "penalty 4.058 \n",
       "Penalized deviance: 62.49 "
      ]
     },
     "metadata": {},
     "output_type": "display_data"
    }
   ],
   "source": [
    "# Comapre it with DIC of model 1\n",
    "\n",
    "dic_1"
   ]
  },
  {
   "cell_type": "code",
   "execution_count": 34,
   "metadata": {},
   "outputs": [],
   "source": [
    "# This suggests there is much to be gained adding the wool factor to the model. \n",
    "# Before we settle on this model however, we should consider whether there is an interaction. \n",
    "# Let’s look again at the box plot with all six treatment groups"
   ]
  },
  {
   "cell_type": "code",
   "execution_count": 35,
   "metadata": {},
   "outputs": [
    {
     "data": {
      "image/png": "[encoded data removed]",
      "text/plain": [
       "plot without title"
      ]
     },
     "metadata": {},
     "output_type": "display_data"
    }
   ],
   "source": [
    "options(repr.plot.width=8, repr.plot.height=5)\n",
    "\n",
    "boxplot(log(breaks) ~ wool + tension, data=warpbreaks)"
   ]
  },
  {
   "cell_type": "code",
   "execution_count": 36,
   "metadata": {},
   "outputs": [],
   "source": [
    "# This two-way model has a single effect for wool B and the estimate is negative. \n",
    "# If this is true, then we would expect wool B to be associated with fewer breaks than its wool A counterpart on average.\n",
    "# This is true for low and high tension, but it appears that breaks are higher for wool B when there is medium tension.\n",
    "# That is, the effect for wool B is not consistent across tension levels, so it may appropriate to add an interaction term."
   ]
  },
  {
   "cell_type": "code",
   "execution_count": 37,
   "metadata": {},
   "outputs": [
    {
     "data": {
      "text/plain": [
       "\n",
       "Call:\n",
       "lm(formula = log(breaks) ~ .^2, data = warpbreaks)\n",
       "\n",
       "Residuals:\n",
       "     Min       1Q   Median       3Q      Max \n",
       "-0.81504 -0.27885  0.04042  0.27319  0.64358 \n",
       "\n",
       "Coefficients:\n",
       "               Estimate Std. Error t value Pr(>|t|)    \n",
       "(Intercept)      3.7179     0.1247  29.824  < 2e-16 ***\n",
       "woolB           -0.4356     0.1763  -2.471  0.01709 *  \n",
       "tensionM        -0.6012     0.1763  -3.410  0.00133 ** \n",
       "tensionH        -0.6003     0.1763  -3.405  0.00134 ** \n",
       "woolB:tensionM   0.6281     0.2493   2.519  0.01514 *  \n",
       "woolB:tensionH   0.2221     0.2493   0.891  0.37749    \n",
       "---\n",
       "Signif. codes:  0 '***' 0.001 '**' 0.01 '*' 0.05 '.' 0.1 ' ' 1\n",
       "\n",
       "Residual standard error: 0.374 on 48 degrees of freedom\n",
       "Multiple R-squared:  0.3363,\tAdjusted R-squared:  0.2672 \n",
       "F-statistic: 4.864 on 5 and 48 DF,  p-value: 0.001116\n"
      ]
     },
     "metadata": {},
     "output_type": "display_data"
    }
   ],
   "source": [
    "# Similar Model can be created in R.\n",
    "\n",
    "lmod2 = lm(log(breaks) ~ .^2, data=warpbreaks)\n",
    "summary(lmod2)"
   ]
  },
  {
   "cell_type": "code",
   "execution_count": 38,
   "metadata": {},
   "outputs": [],
   "source": [
    "# Adding the interaction, we get an effect for being in wool B and medium tension, as well as for being in wool B \n",
    "# and high tension. There are now six parameters for the mean, one for each treatment group, so this model is \n",
    "# equivalent to the full cell means model."
   ]
  },
  {
   "cell_type": "code",
   "execution_count": null,
   "metadata": {},
   "outputs": [],
   "source": []
  },
  {
   "cell_type": "markdown",
   "metadata": {},
   "source": [
    "# Two-way cell means model\n",
    "\n",
    "In this new model, μ will be a matrix with six entries, each corresponding to a treatment group."
   ]
  },
  {
   "cell_type": "code",
   "execution_count": 39,
   "metadata": {},
   "outputs": [],
   "source": [
    "mod_3_str = \" model {\n",
    "    # Actual Bayesian Model\n",
    "    for(i in 1:length(y)){\n",
    "        y[i] ~ dnorm(mu[woolGrp[i], tensGrp[i]], prec)\n",
    "    }\n",
    "\n",
    "    # Priors\n",
    "    for (j in 1:max(woolGrp)){\n",
    "        for (k in 1:max(tensGrp)){\n",
    "            mu[j, k] ~ dnorm(0.0, 1.0/1.0e6)\n",
    "    }}\n",
    "    prec ~ dgamma(3/2.0, 3*1.0/2.0)\n",
    "\n",
    "    # Variable dependent on Priors\n",
    "    sig = sqrt(1/prec)\n",
    "} \""
   ]
  },
  {
   "cell_type": "code",
   "execution_count": 40,
   "metadata": {},
   "outputs": [],
   "source": [
    "data_3_jags = list(y = log(warpbreaks$breaks), \n",
    "                   woolGrp = as.numeric(warpbreaks$wool), \n",
    "                   tensGrp = as.numeric(warpbreaks$tension))"
   ]
  },
  {
   "cell_type": "code",
   "execution_count": 41,
   "metadata": {},
   "outputs": [],
   "source": [
    "params_3 = c(\"mu\", \"sig\")"
   ]
  },
  {
   "cell_type": "code",
   "execution_count": 42,
   "metadata": {},
   "outputs": [],
   "source": [
    "inits_3 = function(){\n",
    "    inits = list(mu = matrix(rnorm(6, 1.0, 100.0), nrow = 2, byrow = TRUE),\n",
    "                 prec = rgamma(1, 1.0, 1.0))\n",
    "}"
   ]
  },
  {
   "cell_type": "code",
   "execution_count": 43,
   "metadata": {},
   "outputs": [
    {
     "name": "stdout",
     "output_type": "stream",
     "text": [
      "Compiling model graph\n",
      "   Resolving undeclared variables\n",
      "   Allocating nodes\n",
      "Graph information:\n",
      "   Observed stochastic nodes: 54\n",
      "   Unobserved stochastic nodes: 7\n",
      "   Total graph size: 179\n",
      "\n",
      "Initializing model\n",
      "\n"
     ]
    }
   ],
   "source": [
    "mod3 = jags.model(textConnection(mod_3_str), \n",
    "                  inits = inits_3, \n",
    "                  data = data_3_jags, \n",
    "                  n.chains = 3)"
   ]
  },
  {
   "cell_type": "markdown",
   "metadata": {},
   "source": [
    "### Simulations"
   ]
  },
  {
   "cell_type": "code",
   "execution_count": 44,
   "metadata": {},
   "outputs": [],
   "source": [
    "update(mod3, 1e3)"
   ]
  },
  {
   "cell_type": "code",
   "execution_count": 45,
   "metadata": {},
   "outputs": [],
   "source": [
    "mod_3_sim = coda.samples(model = mod3, \n",
    "                         variable.names = params_3, \n",
    "                         n.iter = 1e4)"
   ]
  },
  {
   "cell_type": "code",
   "execution_count": 46,
   "metadata": {},
   "outputs": [],
   "source": [
    "mod_3_csim = as.mcmc(do.call(rbind, mod_3_sim))"
   ]
  },
  {
   "cell_type": "markdown",
   "metadata": {},
   "source": [
    "### Model Checking"
   ]
  },
  {
   "cell_type": "code",
   "execution_count": 47,
   "metadata": {
    "scrolled": false
   },
   "outputs": [
    {
     "data": {
      "image/png": "[encoded data removed]",
      "text/plain": [
       "Plot with title \"Density of mu[2,2]\""
      ]
     },
     "metadata": {},
     "output_type": "display_data"
    },
    {
     "data": {
      "image/png": "[encoded data removed]",
      "text/plain": [
       "Plot with title \"Density of sig\""
      ]
     },
     "metadata": {},
     "output_type": "display_data"
    }
   ],
   "source": [
    "options(repr.plot.width=8, repr.plot.height=8)\n",
    "\n",
    "plot(mod_3_sim)"
   ]
  },
  {
   "cell_type": "code",
   "execution_count": 48,
   "metadata": {},
   "outputs": [
    {
     "data": {
      "text/plain": [
       "Potential scale reduction factors:\n",
       "\n",
       "        Point est. Upper C.I.\n",
       "mu[1,1]          1          1\n",
       "mu[2,1]          1          1\n",
       "mu[1,2]          1          1\n",
       "mu[2,2]          1          1\n",
       "mu[1,3]          1          1\n",
       "mu[2,3]          1          1\n",
       "sig              1          1\n",
       "\n",
       "Multivariate psrf\n",
       "\n",
       "1"
      ]
     },
     "metadata": {},
     "output_type": "display_data"
    },
    {
     "data": {
      "text/html": [
       "<table>\n",
       "<thead><tr><th></th><th scope=col>mu[1,1]</th><th scope=col>mu[2,1]</th><th scope=col>mu[1,2]</th><th scope=col>mu[2,2]</th><th scope=col>mu[1,3]</th><th scope=col>mu[2,3]</th><th scope=col>sig</th></tr></thead>\n",
       "<tbody>\n",
       "\t<tr><th scope=row>Lag 0</th><td>1.000000000  </td><td> 1.0000000000</td><td> 1.000000000 </td><td> 1.000000000 </td><td> 1.000000000 </td><td> 1.0000000000</td><td> 1.0000000000</td></tr>\n",
       "\t<tr><th scope=row>Lag 1</th><td>0.002952882  </td><td>-0.0027651394</td><td> 0.009436619 </td><td>-0.006414853 </td><td> 0.005386278 </td><td> 0.0014122397</td><td> 0.1106946665</td></tr>\n",
       "\t<tr><th scope=row>Lag 5</th><td>0.006347014  </td><td>-0.0006813923</td><td>-0.012201273 </td><td>-0.001916514 </td><td>-0.001307367 </td><td>-0.0002430568</td><td> 0.0062535733</td></tr>\n",
       "\t<tr><th scope=row>Lag 10</th><td>0.002281276  </td><td>-0.0005362458</td><td> 0.005720226 </td><td>-0.006470848 </td><td>-0.005533829 </td><td> 0.0072493272</td><td> 0.0002376414</td></tr>\n",
       "\t<tr><th scope=row>Lag 50</th><td>0.002611471  </td><td>-0.0035347310</td><td>-0.005368418 </td><td> 0.003237628 </td><td>-0.005397786 </td><td>-0.0085805503</td><td>-0.0027393338</td></tr>\n",
       "</tbody>\n",
       "</table>\n"
      ],
      "text/latex": [
       "\\begin{tabular}{r|lllllll}\n",
       "  & mu{[}1,1{]} & mu{[}2,1{]} & mu{[}1,2{]} & mu{[}2,2{]} & mu{[}1,3{]} & mu{[}2,3{]} & sig\\\\\n",
       "\\hline\n",
       "\tLag 0 & 1.000000000   &  1.0000000000 &  1.000000000  &  1.000000000  &  1.000000000  &  1.0000000000 &  1.0000000000\\\\\n",
       "\tLag 1 & 0.002952882   & -0.0027651394 &  0.009436619  & -0.006414853  &  0.005386278  &  0.0014122397 &  0.1106946665\\\\\n",
       "\tLag 5 & 0.006347014   & -0.0006813923 & -0.012201273  & -0.001916514  & -0.001307367  & -0.0002430568 &  0.0062535733\\\\\n",
       "\tLag 10 & 0.002281276   & -0.0005362458 &  0.005720226  & -0.006470848  & -0.005533829  &  0.0072493272 &  0.0002376414\\\\\n",
       "\tLag 50 & 0.002611471   & -0.0035347310 & -0.005368418  &  0.003237628  & -0.005397786  & -0.0085805503 & -0.0027393338\\\\\n",
       "\\end{tabular}\n"
      ],
      "text/markdown": [
       "\n",
       "| <!--/--> | mu[1,1] | mu[2,1] | mu[1,2] | mu[2,2] | mu[1,3] | mu[2,3] | sig |\n",
       "|---|---|---|---|---|---|---|---|\n",
       "| Lag 0 | 1.000000000   |  1.0000000000 |  1.000000000  |  1.000000000  |  1.000000000  |  1.0000000000 |  1.0000000000 |\n",
       "| Lag 1 | 0.002952882   | -0.0027651394 |  0.009436619  | -0.006414853  |  0.005386278  |  0.0014122397 |  0.1106946665 |\n",
       "| Lag 5 | 0.006347014   | -0.0006813923 | -0.012201273  | -0.001916514  | -0.001307367  | -0.0002430568 |  0.0062535733 |\n",
       "| Lag 10 | 0.002281276   | -0.0005362458 |  0.005720226  | -0.006470848  | -0.005533829  |  0.0072493272 |  0.0002376414 |\n",
       "| Lag 50 | 0.002611471   | -0.0035347310 | -0.005368418  |  0.003237628  | -0.005397786  | -0.0085805503 | -0.0027393338 |\n",
       "\n"
      ],
      "text/plain": [
       "       mu[1,1]     mu[2,1]       mu[1,2]      mu[2,2]      mu[1,3]     \n",
       "Lag 0  1.000000000  1.0000000000  1.000000000  1.000000000  1.000000000\n",
       "Lag 1  0.002952882 -0.0027651394  0.009436619 -0.006414853  0.005386278\n",
       "Lag 5  0.006347014 -0.0006813923 -0.012201273 -0.001916514 -0.001307367\n",
       "Lag 10 0.002281276 -0.0005362458  0.005720226 -0.006470848 -0.005533829\n",
       "Lag 50 0.002611471 -0.0035347310 -0.005368418  0.003237628 -0.005397786\n",
       "       mu[2,3]       sig          \n",
       "Lag 0   1.0000000000  1.0000000000\n",
       "Lag 1   0.0014122397  0.1106946665\n",
       "Lag 5  -0.0002430568  0.0062535733\n",
       "Lag 10  0.0072493272  0.0002376414\n",
       "Lag 50 -0.0085805503 -0.0027393338"
      ]
     },
     "metadata": {},
     "output_type": "display_data"
    },
    {
     "data": {
      "text/html": [
       "<dl class=dl-horizontal>\n",
       "\t<dt>mu[1,1]</dt>\n",
       "\t\t<dd>29999.9999999999</dd>\n",
       "\t<dt>mu[2,1]</dt>\n",
       "\t\t<dd>30000</dd>\n",
       "\t<dt>mu[1,2]</dt>\n",
       "\t\t<dd>29452.8858404554</dd>\n",
       "\t<dt>mu[2,2]</dt>\n",
       "\t\t<dd>29999.9999999999</dd>\n",
       "\t<dt>mu[1,3]</dt>\n",
       "\t\t<dd>29691.9828196666</dd>\n",
       "\t<dt>mu[2,3]</dt>\n",
       "\t\t<dd>29636.3204014126</dd>\n",
       "\t<dt>sig</dt>\n",
       "\t\t<dd>24024.7903105297</dd>\n",
       "</dl>\n"
      ],
      "text/latex": [
       "\\begin{description*}\n",
       "\\item[mu\\{{[}\\}1,1\\{{]}\\}] 29999.9999999999\n",
       "\\item[mu\\{{[}\\}2,1\\{{]}\\}] 30000\n",
       "\\item[mu\\{{[}\\}1,2\\{{]}\\}] 29452.8858404554\n",
       "\\item[mu\\{{[}\\}2,2\\{{]}\\}] 29999.9999999999\n",
       "\\item[mu\\{{[}\\}1,3\\{{]}\\}] 29691.9828196666\n",
       "\\item[mu\\{{[}\\}2,3\\{{]}\\}] 29636.3204014126\n",
       "\\item[sig] 24024.7903105297\n",
       "\\end{description*}\n"
      ],
      "text/markdown": [
       "mu[1,1]\n",
       ":   29999.9999999999mu[2,1]\n",
       ":   30000mu[1,2]\n",
       ":   29452.8858404554mu[2,2]\n",
       ":   29999.9999999999mu[1,3]\n",
       ":   29691.9828196666mu[2,3]\n",
       ":   29636.3204014126sig\n",
       ":   24024.7903105297\n",
       "\n"
      ],
      "text/plain": [
       " mu[1,1]  mu[2,1]  mu[1,2]  mu[2,2]  mu[1,3]  mu[2,3]      sig \n",
       "30000.00 30000.00 29452.89 30000.00 29691.98 29636.32 24024.79 "
      ]
     },
     "metadata": {},
     "output_type": "display_data"
    },
    {
     "data": {
      "text/plain": [
       "[[1]]\n",
       "\n",
       "Quantile (q) = 0.025\n",
       "Accuracy (r) = +/- 0.005\n",
       "Probability (s) = 0.95 \n",
       "                                               \n",
       "         Burn-in  Total Lower bound  Dependence\n",
       "         (M)      (N)   (Nmin)       factor (I)\n",
       " mu[1,1] 2        3835  3746         1.020     \n",
       " mu[2,1] 2        3771  3746         1.010     \n",
       " mu[1,2] 2        3802  3746         1.010     \n",
       " mu[2,2] 2        3680  3746         0.982     \n",
       " mu[1,3] 2        3680  3746         0.982     \n",
       " mu[2,3] 1        3726  3746         0.995     \n",
       " sig     2        3834  3746         1.020     \n",
       "\n",
       "\n",
       "[[2]]\n",
       "\n",
       "Quantile (q) = 0.025\n",
       "Accuracy (r) = +/- 0.005\n",
       "Probability (s) = 0.95 \n",
       "                                               \n",
       "         Burn-in  Total Lower bound  Dependence\n",
       "         (M)      (N)   (Nmin)       factor (I)\n",
       " mu[1,1] 2        3834  3746         1.020     \n",
       " mu[2,1] 2        3865  3746         1.030     \n",
       " mu[1,2] 2        3741  3746         0.999     \n",
       " mu[2,2] 2        3741  3746         0.999     \n",
       " mu[1,3] 2        3636  3746         0.971     \n",
       " mu[2,3] 2        3771  3746         1.010     \n",
       " sig     2        3962  3746         1.060     \n",
       "\n",
       "\n",
       "[[3]]\n",
       "\n",
       "Quantile (q) = 0.025\n",
       "Accuracy (r) = +/- 0.005\n",
       "Probability (s) = 0.95 \n",
       "                                               \n",
       "         Burn-in  Total Lower bound  Dependence\n",
       "         (M)      (N)   (Nmin)       factor (I)\n",
       " mu[1,1] 2        3802  3746         1.010     \n",
       " mu[2,1] 2        3741  3746         0.999     \n",
       " mu[1,2] 2        3865  3746         1.030     \n",
       " mu[2,2] 2        3741  3746         0.999     \n",
       " mu[1,3] 2        3757  3746         1.000     \n",
       " mu[2,3] 2        3771  3746         1.010     \n",
       " sig     2        3897  3746         1.040     \n",
       "\n"
      ]
     },
     "metadata": {},
     "output_type": "display_data"
    }
   ],
   "source": [
    "gelman.diag(mod_3_sim)\n",
    "autocorr.diag(mod_3_sim)\n",
    "effectiveSize(mod_3_sim)\n",
    "raftery.diag(mod_3_sim)"
   ]
  },
  {
   "cell_type": "markdown",
   "metadata": {},
   "source": [
    "### Results"
   ]
  },
  {
   "cell_type": "code",
   "execution_count": 49,
   "metadata": {},
   "outputs": [
    {
     "data": {
      "text/plain": [
       "\n",
       "Iterations = 1001:11000\n",
       "Thinning interval = 1 \n",
       "Number of chains = 3 \n",
       "Sample size per chain = 10000 \n",
       "\n",
       "1. Empirical mean and standard deviation for each variable,\n",
       "   plus standard error of the mean:\n",
       "\n",
       "          Mean      SD  Naive SE Time-series SE\n",
       "mu[1,1] 3.7193 0.14859 0.0008579      0.0008579\n",
       "mu[2,1] 3.2833 0.14827 0.0008560      0.0008560\n",
       "mu[1,2] 3.1166 0.14807 0.0008549      0.0008631\n",
       "mu[2,2] 3.3089 0.14736 0.0008508      0.0008508\n",
       "mu[1,3] 3.1177 0.14915 0.0008611      0.0008659\n",
       "mu[2,3] 2.9026 0.14856 0.0008577      0.0008631\n",
       "sig     0.4431 0.04495 0.0002595      0.0002902\n",
       "\n",
       "2. Quantiles for each variable:\n",
       "\n",
       "          2.5%    25%    50%    75% 97.5%\n",
       "mu[1,1] 3.4293 3.6201 3.7186 3.8188 4.012\n",
       "mu[2,1] 2.9902 3.1840 3.2838 3.3819 3.577\n",
       "mu[1,2] 2.8237 3.0174 3.1169 3.2150 3.408\n",
       "mu[2,2] 3.0196 3.2105 3.3094 3.4065 3.600\n",
       "mu[1,3] 2.8251 3.0181 3.1175 3.2167 3.411\n",
       "mu[2,3] 2.6117 2.8042 2.9026 3.0010 3.198\n",
       "sig     0.3656 0.4116 0.4393 0.4707 0.542\n"
      ]
     },
     "metadata": {},
     "output_type": "display_data"
    }
   ],
   "source": [
    "summary(mod_3_sim)"
   ]
  },
  {
   "cell_type": "code",
   "execution_count": 50,
   "metadata": {},
   "outputs": [
    {
     "data": {
      "text/plain": [
       "Mean deviance:  52.02 \n",
       "penalty 7.183 \n",
       "Penalized deviance: 59.2 "
      ]
     },
     "metadata": {},
     "output_type": "display_data"
    }
   ],
   "source": [
    "dic_3 = dic.samples(model = mod3, n.iter = 1e4)\n",
    "dic_3"
   ]
  },
  {
   "cell_type": "code",
   "execution_count": 51,
   "metadata": {},
   "outputs": [
    {
     "data": {
      "text/plain": [
       "Mean deviance:  58.43 \n",
       "penalty 4.058 \n",
       "Penalized deviance: 62.49 "
      ]
     },
     "metadata": {},
     "output_type": "display_data"
    }
   ],
   "source": [
    "# Compare with DIC of model1\n",
    "\n",
    "dic_1"
   ]
  },
  {
   "cell_type": "code",
   "execution_count": 52,
   "metadata": {},
   "outputs": [
    {
     "data": {
      "text/plain": [
       "Mean deviance:  55.5 \n",
       "penalty 5.118 \n",
       "Penalized deviance: 60.62 "
      ]
     },
     "metadata": {},
     "output_type": "display_data"
    }
   ],
   "source": [
    "# Compare with DIC of model1\n",
    "\n",
    "dic_2"
   ]
  },
  {
   "cell_type": "code",
   "execution_count": 53,
   "metadata": {},
   "outputs": [],
   "source": [
    "# This suggests that the full model with interaction between wool and tension (which is equivalent to the cell\n",
    "# means model) is the best for explaining/predicting warp breaks."
   ]
  },
  {
   "cell_type": "code",
   "execution_count": 54,
   "metadata": {},
   "outputs": [
    {
     "data": {
      "text/html": [
       "<table>\n",
       "<thead><tr><th></th><th scope=col>lower</th><th scope=col>upper</th></tr></thead>\n",
       "<tbody>\n",
       "\t<tr><th scope=row>mu[1,1]</th><td>3.4380064</td><td>4.019679 </td></tr>\n",
       "\t<tr><th scope=row>mu[2,1]</th><td>2.9850353</td><td>3.569711 </td></tr>\n",
       "\t<tr><th scope=row>mu[1,2]</th><td>2.8208823</td><td>3.404403 </td></tr>\n",
       "\t<tr><th scope=row>mu[2,2]</th><td>3.0121213</td><td>3.591430 </td></tr>\n",
       "\t<tr><th scope=row>mu[1,3]</th><td>2.8264689</td><td>3.412145 </td></tr>\n",
       "\t<tr><th scope=row>mu[2,3]</th><td>2.6106286</td><td>3.196600 </td></tr>\n",
       "\t<tr><th scope=row>sig</th><td>0.3573223</td><td>0.531180 </td></tr>\n",
       "</tbody>\n",
       "</table>\n"
      ],
      "text/latex": [
       "\\begin{tabular}{r|ll}\n",
       "  & lower & upper\\\\\n",
       "\\hline\n",
       "\tmu{[}1,1{]} & 3.4380064 & 4.019679 \\\\\n",
       "\tmu{[}2,1{]} & 2.9850353 & 3.569711 \\\\\n",
       "\tmu{[}1,2{]} & 2.8208823 & 3.404403 \\\\\n",
       "\tmu{[}2,2{]} & 3.0121213 & 3.591430 \\\\\n",
       "\tmu{[}1,3{]} & 2.8264689 & 3.412145 \\\\\n",
       "\tmu{[}2,3{]} & 2.6106286 & 3.196600 \\\\\n",
       "\tsig & 0.3573223 & 0.531180 \\\\\n",
       "\\end{tabular}\n"
      ],
      "text/markdown": [
       "\n",
       "| <!--/--> | lower | upper |\n",
       "|---|---|---|\n",
       "| mu[1,1] | 3.4380064 | 4.019679  |\n",
       "| mu[2,1] | 2.9850353 | 3.569711  |\n",
       "| mu[1,2] | 2.8208823 | 3.404403  |\n",
       "| mu[2,2] | 3.0121213 | 3.591430  |\n",
       "| mu[1,3] | 2.8264689 | 3.412145  |\n",
       "| mu[2,3] | 2.6106286 | 3.196600  |\n",
       "| sig | 0.3573223 | 0.531180  |\n",
       "\n"
      ],
      "text/plain": [
       "        lower     upper   \n",
       "mu[1,1] 3.4380064 4.019679\n",
       "mu[2,1] 2.9850353 3.569711\n",
       "mu[1,2] 2.8208823 3.404403\n",
       "mu[2,2] 3.0121213 3.591430\n",
       "mu[1,3] 2.8264689 3.412145\n",
       "mu[2,3] 2.6106286 3.196600\n",
       "sig     0.3573223 0.531180"
      ]
     },
     "metadata": {},
     "output_type": "display_data"
    }
   ],
   "source": [
    "HPDinterval(mod_3_csim, prob = 0.95)"
   ]
  },
  {
   "cell_type": "code",
   "execution_count": 55,
   "metadata": {},
   "outputs": [
    {
     "data": {
      "image/png": "[encoded data removed]",
      "text/plain": [
       "Plot with title \"Density of mu[2,3]\""
      ]
     },
     "metadata": {},
     "output_type": "display_data"
    }
   ],
   "source": [
    "par(mfrow=c(3,2)) # arrange frame for plots\n",
    "densplot(mod_3_csim[,1:6], xlim=c(2.3, 4.2))"
   ]
  },
  {
   "cell_type": "markdown",
   "metadata": {},
   "source": [
    "It might be tempting to look at comparisons between each combination of treatments, but this could yield spurious results. It is best not to search your results for interesting hypotheses, because if there are many hypotheses, some will appear to show “effects” or “associations” simply due to chance. Results are most reliable when we determine a relatively small number of hypotheses we are interested in beforehand, collect the data, and statistically evaluate the evidence for them."
   ]
  },
  {
   "cell_type": "markdown",
   "metadata": {},
   "source": [
    "One question we might be interested in with these data is finding the treatment combination that produces the fewest breaks. To calculate this, we can go through our posterior samples and for each sample, find out which group has the smallest mean. These counts help us determine the posterior probability that each of the treatment groups has the smallest mean."
   ]
  },
  {
   "cell_type": "code",
   "execution_count": 56,
   "metadata": {},
   "outputs": [
    {
     "data": {
      "text/plain": [
       "\n",
       "         2          3          4          5          6 \n",
       "0.01560000 0.11643333 0.01043333 0.11386667 0.74366667 "
      ]
     },
     "metadata": {},
     "output_type": "display_data"
    }
   ],
   "source": [
    "prop.table( table( apply(mod_3_csim[,1:6], 1, which.min) ) )"
   ]
  },
  {
   "cell_type": "code",
   "execution_count": 57,
   "metadata": {},
   "outputs": [],
   "source": [
    "# The evidence supports wool B with high tension as the treatment that produces the fewest breaks."
   ]
  },
  {
   "cell_type": "code",
   "execution_count": null,
   "metadata": {},
   "outputs": [],
   "source": []
  }
 ],
 "metadata": {
  "kernelspec": {
   "display_name": "R",
   "language": "R",
   "name": "ir"
  },
  "language_info": {
   "codemirror_mode": "r",
   "file_extension": ".r",
   "mimetype": "text/x-r-source",
   "name": "R",
   "pygments_lexer": "r",
   "version": "3.4.3"
  }
 },
 "nbformat": 4,
 "nbformat_minor": 2
}
